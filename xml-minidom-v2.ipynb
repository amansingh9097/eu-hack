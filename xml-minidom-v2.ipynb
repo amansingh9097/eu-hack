{
 "cells": [
  {
   "cell_type": "code",
   "execution_count": 1,
   "metadata": {},
   "outputs": [],
   "source": [
    "import pandas as pd\n",
    "import os\n",
    "import xml.dom.minidom as minidom"
   ]
  },
  {
   "cell_type": "code",
   "execution_count": 2,
   "metadata": {},
   "outputs": [],
   "source": [
    "doc = minidom.parse('FTP_Data/2019/2019-11/20191115_221/541117_2019.xml')"
   ]
  },
  {
   "cell_type": "code",
   "execution_count": 3,
   "metadata": {},
   "outputs": [
    {
     "data": {
      "text/plain": [
       "'#document'"
      ]
     },
     "execution_count": 3,
     "metadata": {},
     "output_type": "execute_result"
    }
   ],
   "source": [
    "doc.nodeName"
   ]
  },
  {
   "cell_type": "code",
   "execution_count": 4,
   "metadata": {},
   "outputs": [
    {
     "data": {
      "text/plain": [
       "<DOM Element: TED_EXPORT at 0x242a9de4b88>"
      ]
     },
     "execution_count": 4,
     "metadata": {},
     "output_type": "execute_result"
    }
   ],
   "source": [
    "doc.firstChild"
   ]
  },
  {
   "cell_type": "code",
   "execution_count": 5,
   "metadata": {},
   "outputs": [
    {
     "data": {
      "text/plain": [
       "[<DOM Element: TED_EXPORT at 0x242a9de4b88>]"
      ]
     },
     "execution_count": 5,
     "metadata": {},
     "output_type": "execute_result"
    }
   ],
   "source": [
    "doc.childNodes # total child nodes"
   ]
  },
  {
   "cell_type": "code",
   "execution_count": 6,
   "metadata": {},
   "outputs": [
    {
     "data": {
      "text/plain": [
       "[<DOM Element: TECHNICAL_SECTION at 0x242a9de4cc8>,\n",
       " <DOM Element: LINKS_SECTION at 0x242a9e53048>,\n",
       " <DOM Element: CODED_DATA_SECTION at 0x242a9e53408>,\n",
       " <DOM Element: TRANSLATION_SECTION at 0x242a9e60228>,\n",
       " <DOM Element: FORM_SECTION at 0x242a9e7c0e8>]"
      ]
     },
     "execution_count": 6,
     "metadata": {},
     "output_type": "execute_result"
    }
   ],
   "source": [
    "doc.childNodes[0].childNodes # child nodes for 'TED_EXPORT'"
   ]
  },
  {
   "cell_type": "code",
   "execution_count": 7,
   "metadata": {},
   "outputs": [
    {
     "data": {
      "text/plain": [
       "'CODED_DATA_SECTION'"
      ]
     },
     "execution_count": 7,
     "metadata": {},
     "output_type": "execute_result"
    }
   ],
   "source": [
    "doc.childNodes[0].childNodes[2].nodeName"
   ]
  },
  {
   "cell_type": "code",
   "execution_count": 8,
   "metadata": {},
   "outputs": [],
   "source": [
    "# dir(doc.firstChild)"
   ]
  },
  {
   "cell_type": "markdown",
   "metadata": {},
   "source": [
    "### LANGUAGE LIST"
   ]
  },
  {
   "cell_type": "code",
   "execution_count": 9,
   "metadata": {},
   "outputs": [
    {
     "name": "stdout",
     "output_type": "stream",
     "text": [
      "['DA', 'DE', 'EN', 'ES', 'FI', 'FR', 'EL', 'IT', 'NL', 'PT', 'SV', 'CS', 'ET', 'HU', 'LT', 'LV', 'MT', 'PL', 'SK', 'SL', 'GA', 'BG', 'RO', 'HR']\n",
      "position of EN lang:  2\n"
     ]
    }
   ],
   "source": [
    "lang_list = doc.childNodes[0].getElementsByTagName('FORM_LG_LIST')[0].childNodes[0].wholeText.strip().split(' ')\n",
    "print(lang_list)\n",
    "if 'EN' in lang_list:\n",
    "    EN_POS = lang_list.index('EN')\n",
    "else:\n",
    "    EN_POS = 0\n",
    "print(\"position of EN lang: \", EN_POS)"
   ]
  },
  {
   "cell_type": "markdown",
   "metadata": {},
   "source": [
    "### Doc ID"
   ]
  },
  {
   "cell_type": "code",
   "execution_count": 10,
   "metadata": {},
   "outputs": [
    {
     "data": {
      "text/plain": [
       "'541117-2019'"
      ]
     },
     "execution_count": 10,
     "metadata": {},
     "output_type": "execute_result"
    }
   ],
   "source": [
    "doc.firstChild.getAttribute('DOC_ID')"
   ]
  },
  {
   "cell_type": "markdown",
   "metadata": {},
   "source": [
    "### Version"
   ]
  },
  {
   "cell_type": "code",
   "execution_count": 53,
   "metadata": {},
   "outputs": [
    {
     "name": "stdout",
     "output_type": "stream",
     "text": [
      "R2.0.8.S04.E01\n"
     ]
    }
   ],
   "source": [
    "if doc.firstChild.getAttribute('VERSION'):\n",
    "    print(doc.firstChild.getAttribute('VERSION'))\n",
    "else:\n",
    "    if doc.firstChild.getElementsByTagName('OTH_NOT'):\n",
    "        print(doc.firstChild.getElementsByTagName('OTH_NOT')[0].getAttribute('VERSION'))\n",
    "    else:\n",
    "        if doc.firstChild.getElementsByTagName('CONTRACT'):\n",
    "            print(doc.firstChild.getElementsByTagName('CONTRACT')[0].getAttribute('VERSION'))"
   ]
  },
  {
   "cell_type": "markdown",
   "metadata": {},
   "source": [
    "### URL"
   ]
  },
  {
   "cell_type": "code",
   "execution_count": 54,
   "metadata": {},
   "outputs": [
    {
     "name": "stdout",
     "output_type": "stream",
     "text": [
      "url:\t https://ted.europa.eu/udl?uri=TED:NOTICE:541117-2019:TEXT:EN:HTML\n"
     ]
    }
   ],
   "source": [
    "print(\"url:\\t\", \"https://ted.europa.eu/udl?uri=TED:NOTICE:\"+doc.firstChild.getAttribute('DOC_ID')+\":TEXT:EN:HTML\")"
   ]
  },
  {
   "cell_type": "markdown",
   "metadata": {},
   "source": [
    "### Document Title"
   ]
  },
  {
   "cell_type": "code",
   "execution_count": 55,
   "metadata": {},
   "outputs": [
    {
     "name": "stdout",
     "output_type": "stream",
     "text": [
      "Belgium-Brussels: ENI - Strategic Technical Assistance in Reforms Towards Energy Efficiency and Renewables (STARTER)\n"
     ]
    }
   ],
   "source": [
    "for item in doc.firstChild.getElementsByTagName('ML_TI_DOC'):\n",
    "    if item.getAttribute('LG') == 'EN':\n",
    "        title = \"\"\n",
    "        for child in item.childNodes:\n",
    "            if child.tagName == \"TI_CY\":\n",
    "                title += child.childNodes[0].wholeText + \"-\"\n",
    "            if child.tagName == \"TI_TOWN\":\n",
    "                title += child.childNodes[0].wholeText + \": \"\n",
    "            if child.tagName == \"TI_TEXT\":\n",
    "                if child.childNodes[0].childNodes:\n",
    "                    title += child.childNodes[0].childNodes[0].wholeText\n",
    "                else:\n",
    "                    title += child.childNodes[0].wholeText\n",
    "print(title)"
   ]
  },
  {
   "cell_type": "markdown",
   "metadata": {},
   "source": [
    "### Ref below Doc Title"
   ]
  },
  {
   "cell_type": "code",
   "execution_count": 56,
   "metadata": {},
   "outputs": [
    {
     "data": {
      "text/plain": [
       "'2019/S 221-541117'"
      ]
     },
     "execution_count": 56,
     "metadata": {},
     "output_type": "execute_result"
    }
   ],
   "source": [
    "doc.firstChild.getElementsByTagName('NO_DOC_OJS')[0].firstChild.wholeText"
   ]
  },
  {
   "cell_type": "markdown",
   "metadata": {},
   "source": [
    "### Region below Doc Title"
   ]
  },
  {
   "cell_type": "code",
   "execution_count": 57,
   "metadata": {},
   "outputs": [
    {
     "name": "stdout",
     "output_type": "stream",
     "text": [
      "Ukraine\n"
     ]
    }
   ],
   "source": [
    "if doc.firstChild.getElementsByTagName('STI_DOC'):\n",
    "\n",
    "#     print(doc.firstChild.getElementsByTagName('STI_DOC')[EN_POS].childNodes[0].childNodes[0].tagName)\n",
    "#     if doc.firstChild.getElementsByTagName('STI_DOC')[EN_POS].childNodes[0].childNodes[0].tagName != 'ADDRESS_NOT_STRUCT':\n",
    "    if doc.firstChild.getElementsByTagName('STI_DOC')[EN_POS].childNodes[0].childNodes[0] != None:\n",
    "        print(doc.firstChild.getElementsByTagName('STI_DOC')[EN_POS].childNodes[0].childNodes[0].nodeValue)"
   ]
  },
  {
   "cell_type": "markdown",
   "metadata": {},
   "source": [
    "### Contract Nature"
   ]
  },
  {
   "cell_type": "code",
   "execution_count": 58,
   "metadata": {},
   "outputs": [
    {
     "data": {
      "text/plain": [
       "'Services'"
      ]
     },
     "execution_count": 58,
     "metadata": {},
     "output_type": "execute_result"
    }
   ],
   "source": [
    "doc.firstChild.getElementsByTagName('NC_CONTRACT_NATURE')[0].firstChild.nodeValue"
   ]
  },
  {
   "cell_type": "markdown",
   "metadata": {},
   "source": [
    "### Document Type"
   ]
  },
  {
   "cell_type": "code",
   "execution_count": 59,
   "metadata": {},
   "outputs": [
    {
     "data": {
      "text/plain": [
       "'Contract notice'"
      ]
     },
     "execution_count": 59,
     "metadata": {},
     "output_type": "execute_result"
    }
   ],
   "source": [
    "doc.firstChild.getElementsByTagName('TD_DOCUMENT_TYPE')[0].firstChild.wholeText"
   ]
  },
  {
   "cell_type": "markdown",
   "metadata": {},
   "source": [
    "### Doc Publication Date"
   ]
  },
  {
   "cell_type": "code",
   "execution_count": 60,
   "metadata": {},
   "outputs": [
    {
     "data": {
      "text/plain": [
       "'20191115'"
      ]
     },
     "execution_count": 60,
     "metadata": {},
     "output_type": "execute_result"
    }
   ],
   "source": [
    "doc.firstChild.getElementsByTagName('DATE_PUB')[0].firstChild.wholeText"
   ]
  },
  {
   "cell_type": "markdown",
   "metadata": {},
   "source": [
    "### Official Name / Contracting Authority"
   ]
  },
  {
   "cell_type": "code",
   "execution_count": 61,
   "metadata": {},
   "outputs": [
    {
     "name": "stdout",
     "output_type": "stream",
     "text": [
      "European Union\n"
     ]
    }
   ],
   "source": [
    "lang_attributes = []\n",
    "for child in doc.firstChild.getElementsByTagName('ML_AA_NAMES')[0].childNodes:\n",
    "    lang_attributes.append(child.getAttribute('LG'))\n",
    "\n",
    "if 'EN' in lang_attributes:\n",
    "    print(doc.firstChild.getElementsByTagName('ML_AA_NAMES')[0].childNodes[EN_POS].childNodes[0].nodeValue)\n",
    "else:\n",
    "    print(doc.firstChild.getElementsByTagName('ML_AA_NAMES')[0].childNodes[0].childNodes[0].nodeValue)"
   ]
  },
  {
   "cell_type": "markdown",
   "metadata": {},
   "source": [
    "### Postal Address"
   ]
  },
  {
   "cell_type": "code",
   "execution_count": 62,
   "metadata": {},
   "outputs": [],
   "source": [
    "if doc.firstChild.getElementsByTagName('ADDRESS'):\n",
    "    print(doc.firstChild.getElementsByTagName('ADDRESS')[0].firstChild.wholeText)"
   ]
  },
  {
   "cell_type": "markdown",
   "metadata": {},
   "source": [
    "### Town"
   ]
  },
  {
   "cell_type": "code",
   "execution_count": 63,
   "metadata": {},
   "outputs": [
    {
     "name": "stdout",
     "output_type": "stream",
     "text": [
      "Bruxelles\n"
     ]
    }
   ],
   "source": [
    "print(doc.firstChild.getElementsByTagName('TOWN')[0].firstChild.wholeText)"
   ]
  },
  {
   "cell_type": "markdown",
   "metadata": {},
   "source": [
    "### Postal Code"
   ]
  },
  {
   "cell_type": "code",
   "execution_count": 64,
   "metadata": {},
   "outputs": [],
   "source": [
    "if doc.firstChild.getElementsByTagName('POSTAL_CODE'):\n",
    "    print(doc.firstChild.getElementsByTagName('POSTAL_CODE')[0].firstChild.wholeText)"
   ]
  },
  {
   "cell_type": "markdown",
   "metadata": {},
   "source": [
    "### Country Code"
   ]
  },
  {
   "cell_type": "code",
   "execution_count": 65,
   "metadata": {},
   "outputs": [],
   "source": [
    "if doc.firstChild.getElementsByTagName('COUNTRY'):\n",
    "    print(doc.firstChild.getElementsByTagName('COUNTRY')[0].getAttribute('VALUE'))"
   ]
  },
  {
   "cell_type": "markdown",
   "metadata": {},
   "source": [
    "### Country"
   ]
  },
  {
   "cell_type": "code",
   "execution_count": 66,
   "metadata": {},
   "outputs": [
    {
     "name": "stdout",
     "output_type": "stream",
     "text": [
      "Belgium\n"
     ]
    }
   ],
   "source": [
    "for element in doc.firstChild.getElementsByTagName('ML_TI_DOC'):\n",
    "    if element.getAttribute('LG') == 'EN':\n",
    "        print(element.getElementsByTagName('TI_CY')[0].firstChild.nodeValue)"
   ]
  },
  {
   "cell_type": "markdown",
   "metadata": {},
   "source": [
    "### Original NUTS Code"
   ]
  },
  {
   "cell_type": "code",
   "execution_count": 67,
   "metadata": {},
   "outputs": [],
   "source": [
    "if doc.firstChild.getElementsByTagName('ORIGINAL_NUTS'):\n",
    "    print(doc.firstChild.getElementsByTagName('ORIGINAL_NUTS')[0].getAttribute('CODE'))"
   ]
  },
  {
   "cell_type": "markdown",
   "metadata": {},
   "source": [
    "### Original NUTS Code Location"
   ]
  },
  {
   "cell_type": "code",
   "execution_count": 68,
   "metadata": {},
   "outputs": [],
   "source": [
    "if doc.firstChild.getElementsByTagName('ORIGINAL_NUTS'):\n",
    "    print(doc.firstChild.getElementsByTagName('ORIGINAL_NUTS')[0].firstChild.wholeText)"
   ]
  },
  {
   "cell_type": "markdown",
   "metadata": {},
   "source": [
    "### NUTS Code"
   ]
  },
  {
   "cell_type": "code",
   "execution_count": 69,
   "metadata": {},
   "outputs": [],
   "source": [
    "if doc.firstChild.getElementsByTagName('n2016:PERFORMANCE_NUTS'):\n",
    "    print(doc.firstChild.getElementsByTagName('n2016:PERFORMANCE_NUTS')[0].getAttribute('CODE'))"
   ]
  },
  {
   "cell_type": "markdown",
   "metadata": {},
   "source": [
    "### NUTS Code Location"
   ]
  },
  {
   "cell_type": "code",
   "execution_count": 70,
   "metadata": {},
   "outputs": [],
   "source": [
    "if doc.firstChild.getElementsByTagName('n2016:PERFORMANCE_NUTS'):\n",
    "    print(doc.firstChild.getElementsByTagName('n2016:PERFORMANCE_NUTS')[0].firstChild.wholeText)"
   ]
  },
  {
   "cell_type": "markdown",
   "metadata": {},
   "source": [
    "### Type of Contracting Authority"
   ]
  },
  {
   "cell_type": "code",
   "execution_count": 71,
   "metadata": {},
   "outputs": [
    {
     "name": "stdout",
     "output_type": "stream",
     "text": [
      "European Institution/Agency or International Organisation\n"
     ]
    }
   ],
   "source": [
    "if doc.firstChild.getElementsByTagName('AA_AUTHORITY_TYPE'):\n",
    "    print(doc.firstChild.getElementsByTagName('AA_AUTHORITY_TYPE')[0].firstChild.nodeValue)"
   ]
  },
  {
   "cell_type": "markdown",
   "metadata": {},
   "source": [
    "### Main Activity"
   ]
  },
  {
   "cell_type": "code",
   "execution_count": 72,
   "metadata": {},
   "outputs": [],
   "source": [
    "if doc.firstChild.getElementsByTagName('CA_ACTIVITY'):\n",
    "    print(doc.firstChild.getElementsByTagName('CA_ACTIVITY')[EN_POS].getAttribute('VALUE'))\n",
    "else:\n",
    "    if doc.firstChild.getElementsByTagName('MA_MAIN_ACTIVITIES'):\n",
    "        print(doc.firstChild.getElementsByTagName('MA_MAIN_ACTIVITIES')[0].firstChild.nodeValue)"
   ]
  },
  {
   "cell_type": "markdown",
   "metadata": {},
   "source": [
    "### Other Activity"
   ]
  },
  {
   "cell_type": "code",
   "execution_count": 73,
   "metadata": {},
   "outputs": [],
   "source": [
    "if doc.firstChild.getElementsByTagName('CA_ACTIVITY_OTHER'):\n",
    "    if doc.firstChild.getElementsByTagName('CA_ACTIVITY_OTHER')[EN_POS].hasAttribute('VALUE'):\n",
    "        print(doc.firstChild.getElementsByTagName('CA_ACTIVITY_OTHER')[EN_POS].getAttribute('VALUE'))\n",
    "    else:\n",
    "        print(doc.firstChild.getElementsByTagName('CA_ACTIVITY_OTHER')[EN_POS].firstChild.nodeValue)"
   ]
  },
  {
   "cell_type": "markdown",
   "metadata": {},
   "source": [
    "### Contract - Title"
   ]
  },
  {
   "cell_type": "code",
   "execution_count": 74,
   "metadata": {},
   "outputs": [],
   "source": [
    "if doc.firstChild.getElementsByTagName('TITLE'):\n",
    "    print(doc.firstChild.getElementsByTagName('TITLE')[EN_POS].firstChild.firstChild.nodeValue)\n",
    "else:\n",
    "    if doc.firstChild.getElementsByTagName('TITLE_CONTRACT'):\n",
    "        print(doc.firstChild.getElementsByTagName('TITLE_CONTRACT')[EN_POS].firstChild.firstChild.nodeValue)"
   ]
  },
  {
   "cell_type": "markdown",
   "metadata": {},
   "source": [
    "### Contract - Reference Number"
   ]
  },
  {
   "cell_type": "code",
   "execution_count": 75,
   "metadata": {},
   "outputs": [],
   "source": [
    "if doc.firstChild.getElementsByTagName('REFERENCE_NUMBER'):\n",
    "    print(doc.firstChild.getElementsByTagName('REFERENCE_NUMBER')[EN_POS].firstChild.nodeValue)"
   ]
  },
  {
   "cell_type": "markdown",
   "metadata": {},
   "source": [
    "### Original CPV Code & Description"
   ]
  },
  {
   "cell_type": "code",
   "execution_count": 76,
   "metadata": {},
   "outputs": [
    {
     "name": "stdout",
     "output_type": "stream",
     "text": [
      "CODE:  71356200\n",
      "DESC.:  Technical assistance services\n"
     ]
    }
   ],
   "source": [
    "if doc.firstChild.getElementsByTagName('ORIGINAL_CPV'):\n",
    "    print(\"CODE: \", doc.firstChild.getElementsByTagName('ORIGINAL_CPV')[0].getAttribute('CODE'))\n",
    "    print(\"DESC.: \", doc.firstChild.getElementsByTagName('ORIGINAL_CPV')[0].firstChild.nodeValue)"
   ]
  },
  {
   "cell_type": "markdown",
   "metadata": {},
   "source": [
    "### Contract - Main CPV Code"
   ]
  },
  {
   "cell_type": "code",
   "execution_count": 77,
   "metadata": {},
   "outputs": [],
   "source": [
    "if doc.firstChild.getElementsByTagName('CPV_CODE'):\n",
    "    print(doc.firstChild.getElementsByTagName('CPV_CODE')[EN_POS].getAttribute('CODE'))"
   ]
  },
  {
   "cell_type": "markdown",
   "metadata": {},
   "source": [
    "### Values - Types, Value & Currency"
   ]
  },
  {
   "cell_type": "code",
   "execution_count": 78,
   "metadata": {
    "scrolled": true
   },
   "outputs": [],
   "source": [
    "if doc.firstChild.getElementsByTagName('VALUES'):\n",
    "    if doc.firstChild.getElementsByTagName('VALUES')[0].getElementsByTagName('VALUE'):\n",
    "        print(doc.firstChild.getElementsByTagName('VALUES')[0].getElementsByTagName('VALUE')[0].getAttribute('TYPE'))\n",
    "        print(doc.firstChild.getElementsByTagName('VALUES')[0].getElementsByTagName('VALUE')[0].firstChild.nodeValue)\n",
    "        print(doc.firstChild.getElementsByTagName('VALUES')[0].getElementsByTagName('VALUE')[0].getAttribute('CURRENCY'))\n",
    "    elif doc.firstChild.getElementsByTagName('VALUES')[0].getElementsByTagName('VALUE_RANGE'):\n",
    "        print(doc.firstChild.getElementsByTagName('VALUES')[0].getElementsByTagName('VALUE_RANGE')[0].getAttribute('TYPE'))\n",
    "        print(doc.firstChild.getElementsByTagName('VALUES')[0].getElementsByTagName('VALUE_RANGE')[0].getElementsByTagName('LOW')[0].firstChild.nodeValue, \n",
    "              ' to ',\n",
    "              doc.firstChild.getElementsByTagName('VALUES')[0].getElementsByTagName('VALUE_RANGE')[0].getElementsByTagName('HIGH')[0].firstChild.nodeValue)\n",
    "        print(doc.firstChild.getElementsByTagName('VALUES')[0].getElementsByTagName('VALUE_RANGE')[0].getAttribute('CURRENCY'))"
   ]
  },
  {
   "cell_type": "markdown",
   "metadata": {},
   "source": [
    "### Estimated Total Value"
   ]
  },
  {
   "cell_type": "code",
   "execution_count": 79,
   "metadata": {},
   "outputs": [],
   "source": [
    "if doc.firstChild.getElementsByTagName('VAL_ESTIMATED_TOTAL'):\n",
    "    print(doc.firstChild.getElementsByTagName('VAL_ESTIMATED_TOTAL')[0].firstChild.nodeValue)\n",
    "    print(doc.firstChild.getElementsByTagName('VAL_ESTIMATED_TOTAL')[0].getAttribute('CURRENCY'))"
   ]
  },
  {
   "cell_type": "markdown",
   "metadata": {},
   "source": [
    "### Contractor"
   ]
  },
  {
   "cell_type": "code",
   "execution_count": 80,
   "metadata": {},
   "outputs": [],
   "source": [
    "if doc.firstChild.getElementsByTagName('CONTRACTORS'):\n",
    "    print('Contractor Name: ', \n",
    "          doc.firstChild.getElementsByTagName('CONTRACTORS')[0].getElementsByTagName('OFFICIALNAME')[0].firstChild.nodeValue)\n",
    "    print('Contractor Address: ',\n",
    "          doc.firstChild.getElementsByTagName('CONTRACTORS')[0].getElementsByTagName('ADDRESS')[0].firstChild.nodeValue)\n",
    "    print('Contractor Town: ',\n",
    "          doc.firstChild.getElementsByTagName('CONTRACTORS')[0].getElementsByTagName('TOWN')[0].firstChild.nodeValue)\n",
    "    print('Contractor Postal Code: ',\n",
    "          doc.firstChild.getElementsByTagName('CONTRACTORS')[0].getElementsByTagName('POSTAL_CODE')[0].firstChild.nodeValue)\n",
    "    print('Contractor Country: ',\n",
    "          doc.firstChild.getElementsByTagName('CONTRACTORS')[0].getElementsByTagName('COUNTRY')[0].getAttribute('VALUE'))"
   ]
  },
  {
   "cell_type": "markdown",
   "metadata": {},
   "source": [
    "### (Type) SERVICE PRIOR INFORMATION NOTICE without call for competition\n",
    "### (Type) SERVICE\n",
    "\n",
    "#### Contract Object -->\n",
    "#### Contract Title<br>Reference Number<br>CPV Main Code<br>Contract Type<br>Contract Short Description<br>Total Estimated Value<br>LOT Division<br>Date of Publication of Contract<br>Contract Procurement Short Description (II)\n"
   ]
  },
  {
   "cell_type": "code",
   "execution_count": 81,
   "metadata": {},
   "outputs": [],
   "source": [
    "if doc.firstChild.getElementsByTagName('OBJECT_CONTRACT'):\n",
    "    \n",
    "    # remove this later, from here\n",
    "    for obj in doc.firstChild.getElementsByTagName('OBJECT_CONTRACT')[EN_POS].childNodes:\n",
    "        print(obj.tagName)\n",
    "    print('-'*10)\n",
    "    # till here\n",
    "    \n",
    "    for obj in doc.firstChild.getElementsByTagName('OBJECT_CONTRACT')[EN_POS].childNodes:\n",
    "        \n",
    "        if obj.tagName == 'TITLE':\n",
    "            print(\"TITLE: \", obj.firstChild.firstChild.nodeValue)\n",
    "        if obj.tagName == 'REFERENCE_NUMBER':\n",
    "            print(\"Ref. No.: \", obj.firstChild.nodeValue)\n",
    "        if obj.tagName == 'CPV_MAIN':\n",
    "            print(\"Main CPV Codes: \", obj.firstChild.getAttribute('CODE'))\n",
    "        if obj.tagName == 'TYPE_CONTRACT':\n",
    "            print(\"Contract Type: \", obj.getAttribute('CTYPE'))\n",
    "        if obj.tagName == 'SHORT_DESCR':\n",
    "            short_descr = []\n",
    "            for para in obj.childNodes:\n",
    "                for p in para.childNodes:\n",
    "                    print(p.nodeValue)\n",
    "                    if p.nodeValue != None:\n",
    "                        short_descr.append(p.nodeValue)\n",
    "            print(\"Contract Short Desc.: \", ','.join(short_descr))\n",
    "        if obj.tagName == 'VAL_ESTIMATED_TOTAL':\n",
    "            print(\"Total Estimated Value: \", obj.firstChild.nodeValue, \n",
    "                  obj.getAttribute('CURRENCY'))\n",
    "        if obj.tagName == 'LOT_DIVISION':\n",
    "            print(\"LOT DIVISION: \", obj)\n",
    "        else:\n",
    "            if obj.tagName == 'NO_LOT_DIVISION':\n",
    "                print(\"LOT DIVISION: \", obj.tagName)\n",
    "        if obj.tagName == 'DATE_PUBLICATION_NOTICE':\n",
    "            print(\"Contract Date of Publication: \", obj.firstChild.nodeValue)\n",
    "        \n",
    "        if obj.tagName == 'OBJECT_DESCR':\n",
    "            cpv_add_code = []\n",
    "            for item in obj.childNodes:\n",
    "                if item.tagName == 'n2016:NUTS':\n",
    "                    print(\"Contract Desc - NUTS Code: \", item.getAttribute('CODE'))\n",
    "                if item.tagName == 'SHORT_DESCR':\n",
    "                    pro_short_descr = []\n",
    "                    for para in item.childNodes:\n",
    "                        for p in para.childNodes:\n",
    "                            if p.nodeValue is not None:\n",
    "                                pro_short_descr.append(p.nodeValue)\n",
    "                    print(\"Contract Procurement Desc - Short Desc: \", ','.join(pro_short_descr))\n",
    "                if item.tagName == 'CPV_ADDITIONAL':\n",
    "                    for child in item.childNodes:\n",
    "                        cpv_add_code.append(child.getAttribute('CODE'))\n",
    "                        print(child)\n",
    "\n",
    "            print(\"Additional CPV Codes: \", ', '.join(cpv_add_code))\n",
    "            \n",
    "        print()\n"
   ]
  },
  {
   "cell_type": "code",
   "execution_count": 82,
   "metadata": {},
   "outputs": [],
   "source": [
    "# if doc.firstChild.getElementsByTagName('NO_LOT_DIVISION'):\n",
    "#     print('No LOT division') # print(doc.firstChild.getElementsByTagName('NO_LOT_DIVISION')[EN_POS].firstChild)\n",
    "# elif doc.firstChild.getElementsByTagName('LOT_DIVISION'):\n",
    "#     lots = element.getElementsByTagName('LOT_DIVISION')[0]\n",
    "#     if lots.childNodes:\n",
    "#           print('\\nEstimatedValuePerLOT:\\n',\"\".join([ele.childNodes[0].wholeText for ele in lots.childNodes[0].getElementsByTagName('P')]))\n",
    "#     else:\n",
    "#         lot_description = []\n",
    "#         while lots.nextSibling.tagName == 'OBJECT_DESCR':\n",
    "#             tags = lots.nextSibling\n",
    "#             for titles in lots.getElementsByTagName('TITLE'):\n",
    "#                 lot_description.append(titles.childNodes[0].childNodes[0].wholeText)\n",
    "#             print('\\nEstimatedValuePerLOT:\\n',\"\".join(lot_description))"
   ]
  },
  {
   "cell_type": "markdown",
   "metadata": {},
   "source": [
    "#### Contract Object Information -->\n",
    "#### Contract Title<br>Short Contract Description<br>Main CPV Codes"
   ]
  },
  {
   "cell_type": "code",
   "execution_count": 83,
   "metadata": {},
   "outputs": [],
   "source": [
    "if doc.firstChild.getElementsByTagName('OBJECT_CONTRACT_INFORMATION'):\n",
    "    \n",
    "#     for obj in doc.firstChild.getElementsByTagName('OBJECT_CONTRACT_INFORMATION')[EN_POS].childNodes:\n",
    "#         print(obj.tagName)\n",
    "    \n",
    "    for obj in doc.firstChild.getElementsByTagName('OBJECT_CONTRACT_INFORMATION')[EN_POS].childNodes:\n",
    "        for element in obj.childNodes:\n",
    "            if element.tagName == 'TITLE_CONTRACT':\n",
    "                print(\"Title: \", element.firstChild.firstChild.nodeValue, \"\\n\")\n",
    "            if element.tagName == 'SHORT_CONTRACT_DESCRIPTION':\n",
    "                print(\"Short Contract Description: \", element.firstChild.firstChild.nodeValue, \"\\n\")\n",
    "            if element.tagName == 'CPV':\n",
    "                for child in element.childNodes:\n",
    "                    if child.tagName == 'CPV_MAIN':\n",
    "                        print(\"Main CPV Codes: \", child.firstChild.getAttribute('CODE'))"
   ]
  },
  {
   "cell_type": "markdown",
   "metadata": {},
   "source": [
    "#### Quantity or Scope"
   ]
  },
  {
   "cell_type": "code",
   "execution_count": 85,
   "metadata": {},
   "outputs": [
    {
     "ename": "IndexError",
     "evalue": "list index out of range",
     "output_type": "error",
     "traceback": [
      "\u001b[1;31m---------------------------------------------------------------------------\u001b[0m",
      "\u001b[1;31mIndexError\u001b[0m                                Traceback (most recent call last)",
      "\u001b[1;32m<ipython-input-85-030ff148bd32>\u001b[0m in \u001b[0;36m<module>\u001b[1;34m\u001b[0m\n\u001b[1;32m----> 1\u001b[1;33m \u001b[1;32mif\u001b[0m \u001b[0mdoc\u001b[0m\u001b[1;33m.\u001b[0m\u001b[0mfirstChild\u001b[0m\u001b[1;33m.\u001b[0m\u001b[0mgetElementsByTagName\u001b[0m\u001b[1;33m(\u001b[0m\u001b[1;34m'TOTAL_QUANTITY_OR_SCOPE'\u001b[0m\u001b[1;33m)\u001b[0m\u001b[1;33m[\u001b[0m\u001b[0mEN_POS\u001b[0m\u001b[1;33m]\u001b[0m\u001b[1;33m:\u001b[0m\u001b[1;33m\u001b[0m\u001b[1;33m\u001b[0m\u001b[0m\n\u001b[0m\u001b[0;32m      2\u001b[0m     \u001b[0mprint\u001b[0m\u001b[1;33m(\u001b[0m\u001b[0mdoc\u001b[0m\u001b[1;33m.\u001b[0m\u001b[0mfirstChild\u001b[0m\u001b[1;33m.\u001b[0m\u001b[0mgetElementsByTagName\u001b[0m\u001b[1;33m(\u001b[0m\u001b[1;34m'TOTAL_QUANTITY_OR_SCOPE'\u001b[0m\u001b[1;33m)\u001b[0m\u001b[1;33m[\u001b[0m\u001b[0mEN_POS\u001b[0m\u001b[1;33m]\u001b[0m\u001b[1;33m.\u001b[0m\u001b[0mnodeValue\u001b[0m\u001b[1;33m)\u001b[0m\u001b[1;33m\u001b[0m\u001b[1;33m\u001b[0m\u001b[0m\n",
      "\u001b[1;31mIndexError\u001b[0m: list index out of range"
     ]
    }
   ],
   "source": [
    "if doc.firstChild.getElementsByTagName('TOTAL_QUANTITY_OR_SCOPE')[EN_POS]:\n",
    "    print(doc.firstChild.getElementsByTagName('TOTAL_QUANTITY_OR_SCOPE')[EN_POS].nodeValue)"
   ]
  },
  {
   "cell_type": "markdown",
   "metadata": {},
   "source": [
    "#### Award Criteria"
   ]
  },
  {
   "cell_type": "code",
   "execution_count": null,
   "metadata": {},
   "outputs": [],
   "source": [
    "if doc.firstChild.getElementsByTagName('AC_AWARD_CRIT'):\n",
    "    print(doc.firstChild.getElementsByTagName('AC_AWARD_CRIT')[0].firstChild.nodeValue)"
   ]
  },
  {
   "cell_type": "markdown",
   "metadata": {},
   "source": [
    "#### Award Criteria Details"
   ]
  },
  {
   "cell_type": "code",
   "execution_count": null,
   "metadata": {},
   "outputs": [],
   "source": [
    "if doc.firstChild.getElementsByTagName('AWARD_CRITERIA_DETAIL'):\n",
    "    criterias, weights = [], []\n",
    "    for element in doc.firstChild.getElementsByTagName('AWARD_CRITERIA_DETAIL'):\n",
    "        for child in element.getElementsByTagName('CRITERIA'):\n",
    "            criterias.append(child.firstChild.nodeValue)\n",
    "        for child in element.getElementsByTagName('WEIGHTING'):\n",
    "            weights.append(child.firstChild.nodeValue)\n",
    "\n",
    "    for i in range(len(criterias)):\n",
    "        print(criterias[i], weights[i])"
   ]
  },
  {
   "cell_type": "markdown",
   "metadata": {},
   "source": [
    "#### Duration of the contract, framework agreement or dynamic purchasing system"
   ]
  },
  {
   "cell_type": "code",
   "execution_count": null,
   "metadata": {},
   "outputs": [],
   "source": [
    "if doc.firstChild.getElementsByTagName('DURATION'):\n",
    "    print(doc.firstChild.getElementsByTagName('DURATION')[EN_POS].firstChild.nodeValue, \n",
    "          doc.firstChild.getElementsByTagName('DURATION')[EN_POS].getAttribute('TYPE'))\n",
    "else:\n",
    "    if doc.firstChild.getElementsByTagName('PERIOD_WORK_DATE_STARTING'):\n",
    "        print(doc.firstChild.getElementsByTagName('PERIOD_WORK_DATE_STARTING')[0].firstChild.firstChild.nodeValue,\n",
    "              doc.firstChild.getElementsByTagName('PERIOD_WORK_DATE_STARTING')[0].firstChild.tagName)\n",
    "        print(doc.firstChild.getElementsByTagName('PERIOD_WORK_DATE_STARTING')[0].firstChild.firstChild.childNodes[0].childNodes[0].nodeValue)\n",
    "        print(doc.firstChild.getElementsByTagName('PERIOD_WORK_DATE_STARTING')[0].firstChild.firstChild.childNodes[1].childNodes[0].nodeValue)\n",
    "        print(doc.firstChild.getElementsByTagName('PERIOD_WORK_DATE_STARTING')[0].firstChild.firstChild.childNodes[2].childNodes[0].nodeValue)\n",
    "        print()\n",
    "        print(doc.firstChild.getElementsByTagName('PERIOD_WORK_DATE_STARTING')[0].firstChild.childNodes[1].childNodes[0].childNodes[0].nodeValue)\n",
    "    else:        \n",
    "        if doc.firstChild.getElementsByTagName('DATE_START'):\n",
    "            print('Start Date: ', doc.firstChild.getElementsByTagName('DATE_START')[0].firstChild.nodeValue)\n",
    "        if doc.firstChild.getElementsByTagName('DATE_END'):\n",
    "            print('End Date: ', doc.firstChild.getElementsByTagName('DATE_END')[0].firstChild.nodeValue)"
   ]
  },
  {
   "cell_type": "code",
   "execution_count": null,
   "metadata": {},
   "outputs": [],
   "source": [
    "if doc.firstChild.getElementsByTagName('PERIOD_WORK_DATE_STARTING'):\n",
    "        print(doc.firstChild.getElementsByTagName('PERIOD_WORK_DATE_STARTING')[0].firstChild.firstChild.nodeValue,' ',doc.firstChild.getElementsByTagName('PERIOD_WORK_DATE_STARTING')[0].firstChild)"
   ]
  },
  {
   "cell_type": "markdown",
   "metadata": {},
   "source": [
    "#### Accepted Variants"
   ]
  },
  {
   "cell_type": "code",
   "execution_count": 86,
   "metadata": {},
   "outputs": [],
   "source": [
    "if doc.firstChild.getElementsByTagName('NO_ACCEPTED_VARIANTS'):\n",
    "    print(doc.firstChild.getElementsByTagName('NO_ACCEPTED_VARIANTS')[0].tagName)\n",
    "else:\n",
    "    if doc.firstChild.getElementsByTagName('ACCEPTED_VARIANTS'):\n",
    "        print(doc.firstChild.getElementsByTagName('ACCEPTED_VARIANTS')[0].getAttribute('VALUE'))"
   ]
  },
  {
   "cell_type": "markdown",
   "metadata": {},
   "source": [
    "#### Information about Options"
   ]
  },
  {
   "cell_type": "code",
   "execution_count": 87,
   "metadata": {},
   "outputs": [],
   "source": [
    "if doc.firstChild.getElementsByTagName('NO_OPTIONS'):\n",
    "    print(doc.firstChild.getElementsByTagName('NO_OPTIONS')[0].tagName)\n",
    "else:\n",
    "    if doc.firstChild.getElementsByTagName('OPTIONS'):\n",
    "        for element in doc.firstChild.getElementsByTagName('OPTIONS'): \n",
    "            for child in element.childNodes:\n",
    "                if child.tagName == 'OPTION_DESCRIPTION':\n",
    "                    print('Option description: ', child.firstChild.firstChild.nodeValue)"
   ]
  },
  {
   "cell_type": "markdown",
   "metadata": {},
   "source": [
    "#### Renewal"
   ]
  },
  {
   "cell_type": "code",
   "execution_count": 88,
   "metadata": {},
   "outputs": [],
   "source": [
    "if doc.firstChild.getElementsByTagName('RECURRENT_CONTRACT'):\n",
    "    print('Yes')"
   ]
  },
  {
   "cell_type": "markdown",
   "metadata": {},
   "source": [
    "#### EU Program Related"
   ]
  },
  {
   "cell_type": "code",
   "execution_count": 89,
   "metadata": {},
   "outputs": [],
   "source": [
    "if doc.firstChild.getElementsByTagName('EU_PROGR_RELATED'):\n",
    "    prog_names = []\n",
    "    for element in doc.firstChild.getElementsByTagName('EU_PROGR_RELATED')[EN_POS].childNodes:\n",
    "        for item in element.childNodes:\n",
    "            prog_names.append(item.nodeValue)\n",
    "    print(','.join(prog_names))\n",
    "else:\n",
    "    if doc.firstChild.getElementsByTagName('NO_EU_PROGR_RELATED'):\n",
    "        print(doc.firstChild.getElementsByTagName('NO_EU_PROGR_RELATED')[0].tagName)\n",
    "    prog_names=[] # flush variable's value after displaying output"
   ]
  },
  {
   "cell_type": "markdown",
   "metadata": {},
   "source": [
    "#### Legal, Economic, Financial Info -->\n",
    "\n",
    "#### Suitability"
   ]
  },
  {
   "cell_type": "code",
   "execution_count": 90,
   "metadata": {},
   "outputs": [],
   "source": [
    "if doc.firstChild.getElementsByTagName('SUITABILITY'):\n",
    "    suitability_list = []\n",
    "    for element in doc.firstChild.getElementsByTagName('SUITABILITY')[EN_POS].childNodes:\n",
    "        for item in element.childNodes:\n",
    "            suitability_list.append(item.nodeValue)\n",
    "    print(','.join(suitability_list))\n",
    "    suitability_list = [] # flush var"
   ]
  },
  {
   "cell_type": "markdown",
   "metadata": {},
   "source": [
    "#### Economic Criteria Doc"
   ]
  },
  {
   "cell_type": "code",
   "execution_count": 91,
   "metadata": {},
   "outputs": [],
   "source": [
    "if doc.firstChild.getElementsByTagName('ECONOMIC_CRITERIA_DOC'):\n",
    "    print(doc.firstChild.getElementsByTagName('ECONOMIC_CRITERIA_DOC')[EN_POS].firstChild)"
   ]
  },
  {
   "cell_type": "markdown",
   "metadata": {},
   "source": [
    "#### Technical Criteria Doc"
   ]
  },
  {
   "cell_type": "code",
   "execution_count": 92,
   "metadata": {},
   "outputs": [],
   "source": [
    "if doc.firstChild.getElementsByTagName('TECHNICAL_CRITERIA_DOC'):\n",
    "    print(doc.firstChild.getElementsByTagName('TECHNICAL_CRITERIA_DOC')[EN_POS].firstChild)"
   ]
  },
  {
   "cell_type": "markdown",
   "metadata": {},
   "source": [
    "#### Performance Conditions"
   ]
  },
  {
   "cell_type": "code",
   "execution_count": 93,
   "metadata": {},
   "outputs": [],
   "source": [
    "if doc.firstChild.getElementsByTagName('PERFORMANCE_CONDITIONS'):\n",
    "    perf_cond = []\n",
    "    for element in doc.firstChild.getElementsByTagName('PERFORMANCE_CONDITIONS')[EN_POS].childNodes:\n",
    "        for item in element.childNodes:\n",
    "            perf_cond.append(item.nodeValue)\n",
    "    print(','.join(perf_cond))\n",
    "    perf_cond = [] # flush var"
   ]
  },
  {
   "cell_type": "markdown",
   "metadata": {},
   "source": [
    "#### Procedure Description -->\n",
    "\n",
    "#### Procedure Type"
   ]
  },
  {
   "cell_type": "code",
   "execution_count": 94,
   "metadata": {},
   "outputs": [],
   "source": [
    "if doc.firstChild.getElementsByTagName('PT_OPEN'):\n",
    "    print('Open')\n",
    "elif doc.firstChild.getElementsByTagName('PT_RESTRICTED'):\n",
    "    print('Restricted')\n",
    "else:\n",
    "    pass"
   ]
  },
  {
   "cell_type": "markdown",
   "metadata": {},
   "source": [
    "#### Contract covered by GPA (Government Procurement Agreement)"
   ]
  },
  {
   "cell_type": "code",
   "execution_count": 95,
   "metadata": {},
   "outputs": [],
   "source": [
    "if doc.firstChild.getElementsByTagName('NO_CONTRACT_COVERED_GPA'):\n",
    "    print('No')\n",
    "else:\n",
    "    if doc.firstChild.getElementsByTagName('CONTRACT_COVERED_GPA'):\n",
    "        print('Yes')"
   ]
  },
  {
   "cell_type": "markdown",
   "metadata": {},
   "source": [
    "#### File Reference Number attributed by contracting authority"
   ]
  },
  {
   "cell_type": "code",
   "execution_count": 96,
   "metadata": {},
   "outputs": [],
   "source": [
    "if doc.firstChild.getElementsByTagName('FILE_REFERENCE_NUMBER'):\n",
    "    print(doc.firstChild.getElementsByTagName('FILE_REFERENCE_NUMBER')[0].firstChild.firstChild.nodeValue)"
   ]
  },
  {
   "cell_type": "markdown",
   "metadata": {},
   "source": [
    "#### Date & Time of Receipt of Tenders"
   ]
  },
  {
   "cell_type": "code",
   "execution_count": 97,
   "metadata": {},
   "outputs": [],
   "source": [
    "if doc.firstChild.getElementsByTagName('DATE_RECEIPT_TENDERS'):\n",
    "    print(doc.firstChild.getElementsByTagName('DATE_RECEIPT_TENDERS')[EN_POS].firstChild.nodeValue)\n",
    "if doc.firstChild.getElementsByTagName('TIME_RECEIPT_TENDERS'):\n",
    "    print(doc.firstChild.getElementsByTagName('TIME_RECEIPT_TENDERS')[EN_POS].firstChild.nodeValue)"
   ]
  },
  {
   "cell_type": "markdown",
   "metadata": {},
   "source": [
    "#### Duration Tender Valid"
   ]
  },
  {
   "cell_type": "code",
   "execution_count": 98,
   "metadata": {},
   "outputs": [],
   "source": [
    "if doc.firstChild.getElementsByTagName('DURATION_TENDER_VALID'):\n",
    "    print(doc.firstChild.getElementsByTagName('DURATION_TENDER_VALID')[EN_POS].firstChild.nodeValue,\n",
    "          doc.firstChild.getElementsByTagName('DURATION_TENDER_VALID')[EN_POS].getAttribute('TYPE'))"
   ]
  },
  {
   "cell_type": "markdown",
   "metadata": {},
   "source": [
    "#### Minimum Time Frame of Maintaining Tender"
   ]
  },
  {
   "cell_type": "code",
   "execution_count": 99,
   "metadata": {},
   "outputs": [],
   "source": [
    "if doc.firstChild.getElementsByTagName('MINIMUM_TIME_MAINTAINING_TENDER'):\n",
    "    print(doc.firstChild.getElementsByTagName('MINIMUM_TIME_MAINTAINING_TENDER')[0].firstChild.firstChild.nodeValue, \n",
    "          doc.firstChild.getElementsByTagName('MINIMUM_TIME_MAINTAINING_TENDER')[0].firstChild.tagName)"
   ]
  },
  {
   "cell_type": "markdown",
   "metadata": {},
   "source": [
    "#### Date & Time of Opening Tenders"
   ]
  },
  {
   "cell_type": "code",
   "execution_count": 100,
   "metadata": {},
   "outputs": [],
   "source": [
    "if doc.firstChild.getElementsByTagName('DATE_OPENING_TENDERS'):\n",
    "    print(doc.firstChild.getElementsByTagName('DATE_OPENING_TENDERS')[EN_POS].firstChild.nodeValue)\n",
    "if doc.firstChild.getElementsByTagName('TIME_OPENING_TENDERS'):\n",
    "    print(doc.firstChild.getElementsByTagName('TIME_OPENING_TENDERS')[EN_POS].firstChild.nodeValue)"
   ]
  },
  {
   "cell_type": "markdown",
   "metadata": {},
   "source": [
    "#### Place of Opening Tenders"
   ]
  },
  {
   "cell_type": "code",
   "execution_count": 101,
   "metadata": {},
   "outputs": [],
   "source": [
    "if doc.firstChild.getElementsByTagName('PLACE'):\n",
    "    print(doc.firstChild.getElementsByTagName('PLACE')[EN_POS].firstChild.firstChild.nodeValue)"
   ]
  },
  {
   "cell_type": "markdown",
   "metadata": {},
   "source": [
    "#### Complementarty Information -->"
   ]
  },
  {
   "cell_type": "markdown",
   "metadata": {},
   "source": [
    "#### Date of Dispatch of Notice"
   ]
  },
  {
   "cell_type": "code",
   "execution_count": 102,
   "metadata": {},
   "outputs": [],
   "source": [
    "if doc.firstChild.getElementsByTagName('DATE_DISPATCH_NOTICE'):\n",
    "    print(doc.firstChild.getElementsByTagName('DATE_DISPATCH_NOTICE')[0].firstChild.nodeValue)\n",
    "else: \n",
    "    if doc.firstChild.getElementsByTagName('NOTICE_DISPATCH_DATE'):\n",
    "        print('{}-{}-{}'.format(\n",
    "            doc.firstChild.getElementsByTagName('NOTICE_DISPATCH_DATE')[0].childNodes[0].firstChild.nodeValue, \n",
    "            doc.firstChild.getElementsByTagName('NOTICE_DISPATCH_DATE')[0].childNodes[1].firstChild.nodeValue, \n",
    "            doc.firstChild.getElementsByTagName('NOTICE_DISPATCH_DATE')[0].childNodes[2].firstChild.nodeValue))"
   ]
  },
  {
   "cell_type": "markdown",
   "metadata": {},
   "source": [
    "#### Date of Dispatch of Invitations to Tender"
   ]
  },
  {
   "cell_type": "code",
   "execution_count": 103,
   "metadata": {},
   "outputs": [],
   "source": [
    "if doc.firstChild.getElementsByTagName('DISPATCH_INVITATIONS_DATE'):\n",
    "    print('{}-{}-{}'.format(\n",
    "        doc.firstChild.getElementsByTagName('DISPATCH_INVITATIONS_DATE')[0].getElementsByTagName('DAY')[0].firstChild.nodeValue,\n",
    "        doc.firstChild.getElementsByTagName('DISPATCH_INVITATIONS_DATE')[0].getElementsByTagName('MONTH')[0].firstChild.nodeValue,\n",
    "        doc.firstChild.getElementsByTagName('DISPATCH_INVITATIONS_DATE')[0].getElementsByTagName('YEAR')[0].firstChild.nodeValue\n",
    "    ))"
   ]
  },
  {
   "cell_type": "markdown",
   "metadata": {},
   "source": [
    "#### Date of Publication of Notice"
   ]
  },
  {
   "cell_type": "code",
   "execution_count": 104,
   "metadata": {},
   "outputs": [],
   "source": [
    "if doc.firstChild.getElementsByTagName('DATE_PUBLICATION_NOTICE'):\n",
    "    print(doc.firstChild.getElementsByTagName('DATE_PUBLICATION_NOTICE')[0].firstChild.nodeValue)"
   ]
  },
  {
   "cell_type": "markdown",
   "metadata": {},
   "source": [
    "#### Additional Complementary Information"
   ]
  },
  {
   "cell_type": "code",
   "execution_count": 105,
   "metadata": {},
   "outputs": [],
   "source": [
    "if doc.firstChild.getElementsByTagName('COMPLEMENTARY_INFORMATION_CONTRACT_NOTICE'):\n",
    "    if doc.firstChild.getElementsByTagName('COMPLEMENTARY_INFORMATION_CONTRACT_NOTICE')[0]\\\n",
    "    .getElementsByTagName('ADDITIONAL_INFORMATION'):\n",
    "        info = []\n",
    "        for child in doc.firstChild.getElementsByTagName('COMPLEMENTARY_INFORMATION_CONTRACT_NOTICE')[0]\\\n",
    "        .getElementsByTagName('ADDITIONAL_INFORMATION')[0].childNodes:\n",
    "            info.append(child.firstChild.nodeValue)\n",
    "        print(' '.join(info))"
   ]
  },
  {
   "cell_type": "markdown",
   "metadata": {},
   "source": [
    "#### Legal Basis"
   ]
  },
  {
   "cell_type": "code",
   "execution_count": 106,
   "metadata": {},
   "outputs": [],
   "source": [
    "if doc.firstChild.getElementsByTagName('LEGAL_BASIS'):\n",
    "    print(doc.firstChild.getElementsByTagName('LEGAL_BASIS')[0].nodeValue)"
   ]
  },
  {
   "cell_type": "code",
   "execution_count": null,
   "metadata": {},
   "outputs": [],
   "source": []
  },
  {
   "cell_type": "code",
   "execution_count": null,
   "metadata": {},
   "outputs": [],
   "source": []
  },
  {
   "cell_type": "code",
   "execution_count": null,
   "metadata": {},
   "outputs": [],
   "source": []
  },
  {
   "cell_type": "markdown",
   "metadata": {},
   "source": [
    "### (Type) SERVICE PRIOR INFO NOTICE\n",
    "#### Publication Ref<br>Procedure<br>Title<br>Financing<br>Contracting Authority<br>Nature of Contract<br>Contract Description<br>Indicative Budget<br>Additional Information<br>Legal Basis(1)\n",
    "\n",
    "### (Type) SERVICE CONTRACT NOTICE\n",
    "#### Publication Ref<br>Procedure<br>Title<br>Financing<br>Contracting Authority<br>Nature of Contract<br>Contract Description<br>Number & Titles of LOTS<br>Maximum Budget<br>Scope for Additional Services<br>Eligibility<br>Candidature<br>Number of Applications<br>Shortlist Alliances Prohibited<br>Grounds for exclusion<br>Sub-Contracting<br>Number of Cadidates to be short-listed<br>Provisional date of inivitation to tender<br>Provisional commencement date of the contract<br>Initial Period of implementation of tasks<br>Selection Criteria<br>Award Criteria<br>Deadline for submission of applications<br>Application format & details to be submitted<br>How applications may be submitted<br>Alteration or withdrawal of applications<br>Operational Language<br>Date of publication of prior information notice<br>Legal Basis<br>Additional Information\n",
    "\n",
    "### (Type) SERVICE CONTRACT AWARD NOTICE\n",
    "#### Publication Ref<br>Publication date of the contract notice<br>LOT number and LOT title<br>COntract Number & Value<br>Date of award of the contract<br>Number of tenders received<br>Overall score of chosen tender<br>Name, Address & nationality of successful tenderer<br>Duration of contract<br>Contracting authority<br>Legal Basis"
   ]
  },
  {
   "cell_type": "code",
   "execution_count": 107,
   "metadata": {
    "scrolled": false
   },
   "outputs": [
    {
     "name": "stdout",
     "output_type": "stream",
     "text": [
      ".\tPublication reference:  Please note that the awarding of the contract is subject to the condition of the prior adoption of a financing decision and the prior conclusion of a financing agreement, which does not modify the elements of the procurement procedure (this will be the case, for instance, if the budget initially foreseen is different or if the timeframe, the nature or the condition of the implementation are altered). If the precedent condition is not met, the contracting authority will either abandon the procurement or cancel the award procedure without the candidates or tenderers being entitled to claim any compensation. \n",
      "\n",
      "1.\tProcedure:  EuropeAid/140340/DH/SER/UA \n",
      "\n",
      "2.\tProgramme title:  Restricted \n",
      "\n",
      "3.\tFinancing:  Energy Efficiency Support Programme for Ukraine (EE4U), Technical Cooperation Facility 2019 \n",
      "\n",
      "4.\tContracting Authority:  ENI/2017/039-641 and ENI/2019/041-718 \n",
      "\n",
      "5.\tNature of contract:  None, , on behalf of and for the account of the beneficiary country, UKRAINE, Clarifications may be sought from the contracting authority at the following email address DELEGATION-UKRAINE-TENDERS@eeas.europa.eu at the latest 21 days before the deadline for submission of applications stated at the point 23 below., Clarifications will be published on the website of DG International Cooperation and Development at the latest 5 days before the deadline. \n",
      "\n",
      "6.\tContract description:  Fee-based \n",
      "\n",
      "7.\tNumber and titles of lots:  This technical assistance contract will provide support to reforms in the area of energy efficiency and district heating in Ukraine and ensure political dialogue between the EU and Ukraine in these fields. The contractor will provide assistance to the central authorities in the legislative process, organise trainings and events at the central, regional and local level as well as ensure smooth implementation of several aspects of the Energy Efficiency Support Programme for Ukraine (EE4U). \n",
      "\n",
      "8.\tMaximum budget:  One lot only. \n",
      "\n",
      "9.\tScope for additional services:  2 000 000 EUR \n",
      "\n",
      "10.\tEligibility:  The contracting authority may, at its own discretion, extend the service contract in duration and/or scope subject to the availability of funding up to the estimated amount of approximately 2 000 000 EUR. Any extension of the contract would be subject to satisfactory performance by the contractor. \n",
      "\n",
      "11.\tCandidature:  Participation is open to all natural persons who are nationals of and legal persons (participating either individually or in a grouping – consortium – of tenderers) which are effectively established in a Member State of the European Union or in a eligible country or territory as defined under the Regulation (EU) No 236/2014 establishing common rules and procedures for the implementation of the Union's instruments for external action (CIR) for the applicable instrument under which the contract is financed (see also heading 29 below). Participation is also open to international organisations., Please be aware that after the United Kingdom's withdrawal from the EU, the rules of access to EU procurement procedures of economic operators established in third countries will apply to candidates or tenderers from the United Kingdom depending on the outcome of negotiations. In case such access is not provided by legal provisions in force at the time of contract award, candidates or tenderers from the United Kingdom could be rejected from the procurement procedure. \n",
      "\n",
      "12.\tNumber of applications:  All eligible natural and legal persons (as per item 11 above) or groupings of such persons (consortia) may apply., A consortium may be a permanent, legally-established grouping or a grouping which has been constituted informally for a specific tender procedure. All members of a consortium (i.e., the leader and all other members) are jointly and severally liable to the contracting authority., The participation of an ineligible natural or legal person (as per item 11) will result in the automatic exclusion of that person. In particular, if that ineligible person belongs to a consortium, the whole consortium will be excluded. \n",
      "\n",
      "13.\tShortlist alliances prohibited:  No more than one application can be submitted by a natural or legal person whatever the form of participation (as an individual legal entity or as leader or member of a consortium submitting an application). In the event that a natural or legal person submits more than one application, all applications in which that person has participated will be excluded. \n",
      "\n",
      "14.\tGrounds for exclusion:  Any tenders received from tenderers comprising firms other than those mentioned in the short-listed application forms will be excluded from this restricted tender procedure unless prior approval from the contracting authority has been obtained (see practical guide – PRAG – 2.6.3.). Short-listed candidates may not form alliances or subcontract to each other for the contract in question. \n",
      "\n",
      "15.\tSub-contracting:  As part of the application form, candidates must submit a signed declaration, included in the standard application form, to the effect that they are not in any of the exclusion situations listed in Section 2.6.10.1. of the PRAG., Candidates included in the lists of EU restrictive measures (see Section 2.4. of the PRAG) at the moment of the award decision cannot be awarded the contract. \n",
      "\n",
      "16.\tNumber of candidates to be short-listed:  Subcontracting is allowed. \n",
      "\n",
      "17.\tProvisional date of invitation to tender:  On the basis of the applications received, between 4 and 8 candidates will be invited to submit detailed tenders for this contract. If the number of eligible candidates meeting the selection criteria is less than the minimum of 4, the contracting authority may invite the candidates who satisfy the criteria to submit a tender. \n",
      "\n",
      "18.\tProvisional commencement date of the contract:  15.2.2020 \n",
      "\n",
      "19.\tInitial period of implementation of tasks:  1.7.2020 \n",
      "\n",
      "20.\tSelection criteria:  Duration is 30 months. \n",
      "\n",
      "21.\tAward criteria:  The following selection criteria will be applied to candidates. In the case of applications submitted by a consortium, these selection criteria will be applied to the consortium as a whole unless specified otherwise. The selection criteria will not be applied to natural persons and single-member companies when they are sub-contractors., 1) Economic and financial capacity of candidate (based on item 3 of the application form). In case of candidate being a public body, equivalent information should be provided. The reference period which will be taken into account will be the last 3 financial years for which accounts have been closed., — the average annual turnover of the candidate must exceed 1 500 000 EUR, and, — current ratio (current assets/current liabilities) in the last year for which accounts have been closed must be at least 1. In case of a consortium this criterion must be fulfilled by each member., 2) Professional capacity of candidate (based on items 4 and 5 of the application form)., — at least 5 permanent staff were working during the past 2 years from the submission deadline and are currently working for the candidate in the field related to this contract — transpositions and implementation of the EU energy legislation and commitments taken in the framework of the Energy Community Treaty – in one or several EU Member States, candidate countries for the EU membership or countries having signed the Association Agreement with the EU., 3) Technical capacity of candidate (based on items 5 and 6 of the application form)., The reference period which will be taken into account will be the last 5 years preceding the submission deadline., 3.1) The candidate has provided services under at least one contract with a budget of at least 1 500 000 EUR for one or several EU Member States, candidate countries for the EU membership or countries having signed the association agreement with the EU. The services provided in the contract should have targeted at least 2 of the following elements in the field of technical assistance in transposition and implementation of the EU energy legislation and commitments taken in the framework of the energy community treaty:, (a) energy efficiency in buildings;, (b) metering and billing of energy consumption;, (c) high efficiency district heating and cogeneration;, (d) renewable energy (electricity, heat and transport)., 3.2) The candidate has provided services in the field of technical assistance for capacity building and implementation at local level (subnational) according to the EU energy legislation requirements and commitments taken in the framework of the Energy Community Treaty under at least one contract with a budget of at least 500 000 EUR., Previous experience which caused breach of contract and termination by a contracting authority shall not be used as reference., An economic operator may, where appropriate and for a particular contract, rely on the capacities of other entities, regardless of the legal nature of the links which it has with them. If the tenderer relies on other entities it must prove to the contracting authority that it will have at its disposal the resources necessary for the performance of the contract by producing a commitment by those entities to place those resources at its disposal. Such entities, for instance the parent company of the economic operator, must respect the same rules of eligibility — notably that of nationality – and must comply with the selection criteria for which the economic operator relies on them. Furthermore, the data for this third entity for the relevant selection criterion should be included in the tender in a separate document. Proof of the capacity will also have to be provided when requested by the contracting authority., With regard to technical and professional criteria, an economic operator may only rely on the capacities of other entities where the latter will perform the services for which these capacities are required., With regard to economic and financial criteria, the entities upon whose capacity the tenderer relies become jointly and severally liable for the performance of the contract., If more than 8 eligible candidates meet the above selection criteria, their relative strengths and weaknesses must be re-examined in order to rank their applications and identify the 8 best candidates in accordance with point 17 of this contract notice., The only additional comparative criteria that will be taken into consideration during this re-examination, in the order in which they appear below, are:, 1) The highest number of service contracts that meet criterion 3.1 (a), (b) and (c);, 2) The highest total value of services provided for the projects under 3.1 (a), (b) and (c) in the EU Member States, candidate countries for the EU membership or countries having signed the Association Agreement with the EU. \n",
      "\n",
      "22.\tDeadline for submission of applications:  Best price-quality ratio. \n",
      "\n",
      "23.\t24.\t25.\tOperational language:  Applications must be submitted in English exclusively to the contracting authority in a sealed envelope:, — either by post or by courier service, in which case the evidence shall be constituted by the postmark or the date of the deposit slip, to:, Head of the Finance, Contracts and Audit Section,, Delegation of the European Union to Ukraine,, 101Volodymyrska Str., 01033 Kyiv, UKRAINE, — or hand delivered by the candidate in person or by an agent directly to the premises of the contracting authority in return for a signed and dated receipt, in which case the evidence shall be constituted by this acknowledgement of receipt, to:, Head of the Finance, Contracts and Audit Section,, Delegation of the European Union to Ukraine,, 101Volodymyrska Str., 01033 Kyiv, UKRAINE, The contract title and the Publication reference (see item 1 above) must be clearly marked on the envelope containing the application and must always be mentioned in all subsequent correspondence with the contracting authority., Applications submitted by any other means will not be considered., By submitting an application candidates accept to receive notification of the outcome of the procedure by electronic means. Such notification shall be deemed to have been received on the date upon which the contracting authority sends it to the electronic address referred to in the application., 26. Alteration or withdrawal of applications, Candidates may alter or withdraw their applications by written notification prior to the deadline for submission of applications. No application may be altered after this deadline., Any such notification of alteration or withdrawal shall be prepared and submitted in accordance with Item 25. The outer envelope (and the relevant inner envelope if used) must be marked ‘Alteration’ or ‘Withdrawal’ as appropriate. \n",
      "\n",
      "27.\tDate of publication of prior-information/contract notice:  All written communications for this tender procedure and contract must be in English. \n",
      "\n",
      "28.\tLegal Basis:  24.6.2019 \n",
      "\n",
      "29.\tAddition Information:  Regulation (EU) No 236/2014 of the European Parliament and of the Council of 11.3.2014 laying down common rules and procedures for the implementation of the Union's instruments for financing external action and, Regulation (EU) No 232/2014 of the European Parliament and of the Council of 11.3.2014 adopting general provisions establishing a European Neighbourhood Instrument (ENI Regulation)., Please be aware that after the United Kingdom's withdrawal from the EU, the rules of access to EU procurement procedures of economic operators established in third countries will apply to candidates or tenderers from the United Kingdom depending on the outcome of negotiations. In case such access is not provided by legal provisions in force at the time of contract award, candidates or tenderers from the United Kingdom could be rejected from the procurement procedure., (2) Please state any specificity that might have an impact on rules on participation (such as geographic or thematic or long/short term). \n",
      "\n",
      "30.\t"
     ]
    },
    {
     "ename": "IndexError",
     "evalue": "list index out of range",
     "output_type": "error",
     "traceback": [
      "\u001b[1;31m---------------------------------------------------------------------------\u001b[0m",
      "\u001b[1;31mIndexError\u001b[0m                                Traceback (most recent call last)",
      "\u001b[1;32m<ipython-input-107-2b00b4e46653>\u001b[0m in \u001b[0;36m<module>\u001b[1;34m\u001b[0m\n\u001b[0;32m      7\u001b[0m \u001b[1;33m\u001b[0m\u001b[0m\n\u001b[0;32m      8\u001b[0m             \u001b[0mprint\u001b[0m\u001b[1;33m(\u001b[0m\u001b[0mNO_MARK\u001b[0m\u001b[1;33m[\u001b[0m\u001b[0mi\u001b[0m\u001b[1;33m]\u001b[0m\u001b[1;33m.\u001b[0m\u001b[0mfirstChild\u001b[0m\u001b[1;33m.\u001b[0m\u001b[0mnodeValue\u001b[0m\u001b[1;33m,\u001b[0m \u001b[0mend\u001b[0m\u001b[1;33m=\u001b[0m\u001b[1;34m\"\\t\"\u001b[0m\u001b[1;33m)\u001b[0m\u001b[1;33m\u001b[0m\u001b[1;33m\u001b[0m\u001b[0m\n\u001b[1;32m----> 9\u001b[1;33m             \u001b[1;32mif\u001b[0m \u001b[0mTI_MARK\u001b[0m\u001b[1;33m[\u001b[0m\u001b[0mi\u001b[0m\u001b[1;33m]\u001b[0m\u001b[1;33m.\u001b[0m\u001b[0mfirstChild\u001b[0m\u001b[1;33m.\u001b[0m\u001b[0mnodeValue\u001b[0m\u001b[1;33m.\u001b[0m\u001b[0mlower\u001b[0m\u001b[1;33m(\u001b[0m\u001b[1;33m)\u001b[0m \u001b[1;33m==\u001b[0m \u001b[1;34m'publication reference'\u001b[0m\u001b[1;33m:\u001b[0m\u001b[1;33m\u001b[0m\u001b[1;33m\u001b[0m\u001b[0m\n\u001b[0m\u001b[0;32m     10\u001b[0m                 \u001b[0mchilds_txt\u001b[0m \u001b[1;33m=\u001b[0m \u001b[1;33m[\u001b[0m\u001b[1;33m]\u001b[0m\u001b[1;33m\u001b[0m\u001b[1;33m\u001b[0m\u001b[0m\n\u001b[0;32m     11\u001b[0m                 \u001b[1;32mfor\u001b[0m \u001b[0mchild\u001b[0m \u001b[1;32min\u001b[0m \u001b[0mTXT_MARK\u001b[0m\u001b[1;33m[\u001b[0m\u001b[0mi\u001b[0m\u001b[1;33m]\u001b[0m\u001b[1;33m.\u001b[0m\u001b[0mchildNodes\u001b[0m\u001b[1;33m:\u001b[0m \u001b[1;31m# txt\u001b[0m\u001b[1;33m\u001b[0m\u001b[1;33m\u001b[0m\u001b[0m\n",
      "\u001b[1;31mIndexError\u001b[0m: list index out of range"
     ]
    }
   ],
   "source": [
    "for item in doc.firstChild.getElementsByTagName('OTH_NOT'):\n",
    "    if item.getAttribute('LG') == 'EN':\n",
    "        TI_MARK = item.getElementsByTagName('TI_MARK')\n",
    "        TXT_MARK = item.getElementsByTagName('TXT_MARK')\n",
    "        NO_MARK = item.getElementsByTagName('NO_MARK')\n",
    "        for i in range(len(item.getElementsByTagName('NO_MARK'))): # bullet pts.\n",
    "            \n",
    "            print(NO_MARK[i].firstChild.nodeValue, end=\"\\t\") \n",
    "            if TI_MARK[i].firstChild.nodeValue.lower() == 'publication reference':\n",
    "                childs_txt = []\n",
    "                for child in TXT_MARK[i].childNodes: # txt\n",
    "                    for kid in child.childNodes:\n",
    "                        childs_txt.append(kid.nodeValue)\n",
    "                childs_txt = [str(n) if n is None else n for n in childs_txt]\n",
    "                print(\"Publication reference: \", ', '.join(childs_txt), \"\\n\")\n",
    "\n",
    "            if TI_MARK[i].firstChild.nodeValue.lower() == 'procedure':\n",
    "                childs_txt = []\n",
    "                for child in TXT_MARK[i].childNodes: # txt\n",
    "                    for kid in child.childNodes:\n",
    "                        childs_txt.append(kid.nodeValue)\n",
    "                childs_txt = [str(n) if n is None else n for n in childs_txt]\n",
    "                print(\"Procedure: \", ', '.join(childs_txt), \"\\n\")\n",
    "\n",
    "            if TI_MARK[i].firstChild.nodeValue.lower() == 'programme title':\n",
    "                childs_txt = []\n",
    "                for child in TXT_MARK[i].childNodes: # txt\n",
    "                    for kid in child.childNodes:\n",
    "                        childs_txt.append(kid.nodeValue)\n",
    "                childs_txt = [str(n) if n is None else n for n in childs_txt]\n",
    "                print(\"Programme title: \", ', '.join(childs_txt), \"\\n\")\n",
    "                \n",
    "            if TI_MARK[i].firstChild.nodeValue.lower() == 'financing':\n",
    "                childs_txt = []\n",
    "                for child in TXT_MARK[i].childNodes: # txt\n",
    "                    for kid in child.childNodes:\n",
    "                        childs_txt.append(kid.nodeValue)\n",
    "                childs_txt = [str(n) if n is None else n for n in childs_txt]\n",
    "                print(\"Financing: \", ', '.join(childs_txt), \"\\n\")\n",
    "\n",
    "            if TI_MARK[i].firstChild.nodeValue.lower() == 'contracting authority':\n",
    "                childs_txt = []\n",
    "                for child in TXT_MARK[i].childNodes: # txt\n",
    "                    for kid in child.childNodes:\n",
    "                        childs_txt.append(kid.nodeValue)\n",
    "                childs_txt = [str(n) if n is None else n for n in childs_txt]\n",
    "                print(\"Contracting Authority: \", ','.join(childs_txt), \"\\n\")\n",
    "\n",
    "            if TI_MARK[i].firstChild.nodeValue.lower() == 'nature of contract':\n",
    "                childs_txt = []\n",
    "                for child in TXT_MARK[i].childNodes: # txt\n",
    "                    for kid in child.childNodes:\n",
    "                        childs_txt.append(kid.nodeValue)\n",
    "                childs_txt = [str(n) if n is None else n for n in childs_txt]\n",
    "                print(\"Nature of contract: \", ', '.join(childs_txt), \"\\n\")\n",
    "\n",
    "            if TI_MARK[i].firstChild.nodeValue.lower() == 'contract description':\n",
    "                childs_txt = []\n",
    "                for child in TXT_MARK[i].childNodes: # txt\n",
    "                    for kid in child.childNodes:\n",
    "                        childs_txt.append(kid.nodeValue)\n",
    "                childs_txt = [str(n) if n is None else n for n in childs_txt]\n",
    "                print(\"Contract description: \", ', '.join(childs_txt), \"\\n\")\n",
    "\n",
    "            if TI_MARK[i].firstChild.nodeValue.lower() == 'indicative budget':\n",
    "                childs_txt = []\n",
    "                for child in TXT_MARK[i].childNodes: # txt\n",
    "                    for kid in child.childNodes:\n",
    "                        childs_txt.append(kid.nodeValue)\n",
    "                childs_txt = [str(n) if n is None else n for n in childs_txt]\n",
    "                print(\"Indicative budget: \", ', '.join(childs_txt), \"\\n\")\n",
    "\n",
    "            if TI_MARK[i].firstChild.nodeValue.lower() == 'intended timing of publication of the contract notice':\n",
    "                childs_txt = []\n",
    "                for child in TXT_MARK[i].childNodes: # txt\n",
    "                    for kid in child.childNodes:\n",
    "                        childs_txt.append(kid.nodeValue)\n",
    "                childs_txt = [str(n) if n is None else n for n in childs_txt]\n",
    "                print(\"Intended Date of Publication: \", ', '.join(childs_txt), \"\\n\")\n",
    "\n",
    "            if TI_MARK[i].firstChild.nodeValue.lower() == 'additional information':\n",
    "                childs_txt = []\n",
    "                for child in TXT_MARK[i].childNodes: # txt\n",
    "                    for kid in child.childNodes:\n",
    "                        childs_txt.append(kid.nodeValue)\n",
    "                childs_txt = [str(n) if n is None else n for n in childs_txt]\n",
    "                print(\"Addition Information: \", ', '.join(childs_txt), \"\\n\")\n",
    "\n",
    "            if 'legal basis' in TI_MARK[i].firstChild.nodeValue.lower():\n",
    "                childs_txt = []\n",
    "                for child in TXT_MARK[i].childNodes: # txt\n",
    "                    for kid in child.childNodes:\n",
    "                        childs_txt.append(kid.nodeValue)\n",
    "                childs_txt = [str(n) if n is None else n for n in childs_txt]\n",
    "                print(\"Legal Basis: \", ', '.join(childs_txt), \"\\n\")\n",
    "                \n",
    "            if (TI_MARK[i].firstChild.nodeValue.lower() == 'number and titles of lots') | (TI_MARK[i].firstChild.nodeValue.lower() == 'lot number and lot title'):\n",
    "                childs_txt = []\n",
    "                for child in TXT_MARK[i].childNodes: # txt\n",
    "                    for kid in child.childNodes:\n",
    "                        childs_txt.append(kid.nodeValue)\n",
    "                childs_txt = [str(n) if n is None else n for n in childs_txt]\n",
    "                print(\"Number and titles of lots: \", ', '.join(childs_txt), \"\\n\")\n",
    "                \n",
    "            if TI_MARK[i].firstChild.nodeValue.lower() == 'maximum budget':\n",
    "                childs_txt = []\n",
    "                for child in TXT_MARK[i].childNodes: # txt\n",
    "                    for kid in child.childNodes:\n",
    "                        childs_txt.append(kid.nodeValue)\n",
    "                childs_txt = [str(n) if n is None else n for n in childs_txt]\n",
    "                print(\"Maximum budget: \", ', '.join(childs_txt), \"\\n\")\n",
    "                \n",
    "            if TI_MARK[i].firstChild.nodeValue.lower() == 'scope for additional services':\n",
    "                childs_txt = []\n",
    "                for child in TXT_MARK[i].childNodes: # txt\n",
    "                    for kid in child.childNodes:\n",
    "                        childs_txt.append(kid.nodeValue)\n",
    "                childs_txt = [str(n) if n is None else n for n in childs_txt]\n",
    "                print(\"Scope for additional services: \", ', '.join(childs_txt), \"\\n\")\n",
    "                \n",
    "            if TI_MARK[i].firstChild.nodeValue.lower() == 'eligibility':\n",
    "                childs_txt = []\n",
    "                for child in TXT_MARK[i].childNodes: # txt\n",
    "                    for kid in child.childNodes:\n",
    "                        childs_txt.append(kid.nodeValue)\n",
    "                childs_txt = [str(n) if n is None else n for n in childs_txt]\n",
    "                print(\"Eligibility: \", ', '.join(childs_txt), \"\\n\")\n",
    "                \n",
    "            if TI_MARK[i].firstChild.nodeValue.lower() == 'candidature':\n",
    "                childs_txt = []\n",
    "                for child in TXT_MARK[i].childNodes: # txt\n",
    "                    for kid in child.childNodes:\n",
    "                        childs_txt.append(kid.nodeValue)\n",
    "                childs_txt = [str(n) if n is None else n for n in childs_txt]\n",
    "                print(\"Candidature: \", ', '.join(childs_txt), \"\\n\")\n",
    "                \n",
    "            if TI_MARK[i].firstChild.nodeValue.lower() == 'number of applications':\n",
    "                childs_txt = []\n",
    "                for child in TXT_MARK[i].childNodes: # txt\n",
    "                    for kid in child.childNodes:\n",
    "                        childs_txt.append(kid.nodeValue)\n",
    "                childs_txt = [str(n) if n is None else n for n in childs_txt]\n",
    "                print(\"Number of applications: \", ', '.join(childs_txt), \"\\n\")\n",
    "                \n",
    "            if TI_MARK[i].firstChild.nodeValue.lower() == 'shortlist alliances prohibited':\n",
    "                childs_txt = []\n",
    "                for child in TXT_MARK[i].childNodes: # txt\n",
    "                    for kid in child.childNodes:\n",
    "                        childs_txt.append(kid.nodeValue)\n",
    "                childs_txt = [str(n) if n is None else n for n in childs_txt]\n",
    "                print(\"Shortlist alliances prohibited: \", ', '.join(childs_txt), \"\\n\")\n",
    "                \n",
    "            if TI_MARK[i].firstChild.nodeValue.lower() == 'grounds for exclusion':\n",
    "                childs_txt = []\n",
    "                for child in TXT_MARK[i].childNodes: # txt\n",
    "                    for kid in child.childNodes:\n",
    "                        childs_txt.append(kid.nodeValue)\n",
    "                childs_txt = [str(n) if n is None else n for n in childs_txt]\n",
    "                print(\"Grounds for exclusion: \", ', '.join(childs_txt), \"\\n\")\n",
    "                \n",
    "            if TI_MARK[i].firstChild.nodeValue.lower() == 'sub-contracting':\n",
    "                childs_txt = []\n",
    "                for child in TXT_MARK[i].childNodes: # txt\n",
    "                    for kid in child.childNodes:\n",
    "                        childs_txt.append(kid.nodeValue)\n",
    "                childs_txt = [str(n) if n is None else n for n in childs_txt]\n",
    "                print(\"Sub-contracting: \", ', '.join(childs_txt), \"\\n\")\n",
    "                \n",
    "            if TI_MARK[i].firstChild.nodeValue.lower() == 'number of candidates to be short-listed':\n",
    "                childs_txt = []\n",
    "                for child in TXT_MARK[i].childNodes: # txt\n",
    "                    for kid in child.childNodes:\n",
    "                        childs_txt.append(kid.nodeValue)\n",
    "                childs_txt = [str(n) if n is None else n for n in childs_txt]\n",
    "                print(\"Number of candidates to be short-listed: \", ', '.join(childs_txt), \"\\n\")\n",
    "                \n",
    "            if TI_MARK[i].firstChild.nodeValue.lower() == 'provisional date of invitation to tender':\n",
    "                childs_txt = []\n",
    "                for child in TXT_MARK[i].childNodes: # txt\n",
    "                    for kid in child.childNodes:\n",
    "                        childs_txt.append(kid.nodeValue)\n",
    "                childs_txt = [str(n) if n is None else n for n in childs_txt]\n",
    "                print(\"Provisional date of invitation to tender: \", ', '.join(childs_txt), \"\\n\")\n",
    "                \n",
    "            if TI_MARK[i].firstChild.nodeValue.lower() == 'provisional commencement date of the contract':\n",
    "                childs_txt = []\n",
    "                for child in TXT_MARK[i].childNodes: # txt\n",
    "                    for kid in child.childNodes:\n",
    "                        childs_txt.append(kid.nodeValue)\n",
    "                childs_txt = [str(n) if n is None else n for n in childs_txt]\n",
    "                print(\"Provisional commencement date of the contract: \", ', '.join(childs_txt), \"\\n\")\n",
    "                \n",
    "            if TI_MARK[i].firstChild.nodeValue.lower() == 'initial period of implementation of tasks':\n",
    "                childs_txt = []\n",
    "                for child in TXT_MARK[i].childNodes: # txt\n",
    "                    for kid in child.childNodes:\n",
    "                        childs_txt.append(kid.nodeValue)\n",
    "                childs_txt = [str(n) if n is None else n for n in childs_txt]\n",
    "                print(\"Initial period of implementation of tasks: \", ', '.join(childs_txt), \"\\n\")\n",
    "                \n",
    "            if TI_MARK[i].firstChild.nodeValue.lower() == 'selection criteria':\n",
    "                childs_txt = []\n",
    "                for child in TXT_MARK[i].childNodes: # txt\n",
    "                    for kid in child.childNodes:\n",
    "                        childs_txt.append(kid.nodeValue)\n",
    "                childs_txt = [str(n) if n is None else n for n in childs_txt]\n",
    "                print(\"Selection criteria: \", ', '.join(childs_txt), \"\\n\")\n",
    "                \n",
    "            if TI_MARK[i].firstChild.nodeValue.lower() == 'award criteria':\n",
    "                childs_txt = []\n",
    "                for child in TXT_MARK[i].childNodes: # txt\n",
    "                    for kid in child.childNodes:\n",
    "                        childs_txt.append(kid.nodeValue)\n",
    "                childs_txt = [str(n) if n is None else n for n in childs_txt]\n",
    "                print(\"Award criteria: \", ', '.join(childs_txt), \"\\n\")\n",
    "                \n",
    "            if TI_MARK[i].firstChild.nodeValue.lower() == 'deadline for submission of applications':\n",
    "                childs_txt = []\n",
    "                for child in TXT_MARK[i].childNodes: # txt\n",
    "                    for kid in child.childNodes:\n",
    "                        childs_txt.append(kid.nodeValue)\n",
    "                childs_txt = [str(n) if n is None else n for n in childs_txt]\n",
    "                print(\"Deadline for submission of applications: \", ', '.join(childs_txt), \"\\n\")\n",
    "                \n",
    "#             if TI_MARK[i].firstChild.nodeValue.lower() == 'application format and details to be provided':\n",
    "#                 childs_txt = []\n",
    "#                 for child in TXT_MARK[i].childNodes: # txt\n",
    "#                     for kid in child.childNodes:\n",
    "#                         childs_txt.append(kid.nodeValue)\n",
    "#                 childs_txt = [str(n) if n is None else n for n in childs_txt]\n",
    "#                 print(\"Application format and details to be provided: \", ', '.join(childs_txt), \"\\n\")\n",
    "                \n",
    "#             if TI_MARK[i].firstChild.nodeValue.lower() == 'how applications may be submitted':\n",
    "#                 childs_txt = []\n",
    "#                 for child in TXT_MARK[i].childNodes: # txt\n",
    "#                     for kid in child.childNodes:\n",
    "#                         childs_txt.append(kid.nodeValue)\n",
    "#                 childs_txt = [str(n) if n is None else n for n in childs_txt]\n",
    "#                 print(\"How applications may be submitted: \", ', '.join(childs_txt), \"\\n\")\n",
    "                \n",
    "            if TI_MARK[i].firstChild.nodeValue.lower() == 'alteration or withdrawal of applications':\n",
    "                childs_txt = []\n",
    "                for child in TXT_MARK[i].childNodes: # txt\n",
    "                    for kid in child.childNodes:\n",
    "                        childs_txt.append(kid.nodeValue)\n",
    "                childs_txt = [str(n) if n is None else n for n in childs_txt]\n",
    "                print(\"Alteration or withdrawal of applications: \", ','.join(childs_txt), \"\\n\")\n",
    "                \n",
    "            if TI_MARK[i].firstChild.nodeValue.lower() == 'operational language':\n",
    "                childs_txt = []\n",
    "                for child in TXT_MARK[i].childNodes: # txt\n",
    "                    for kid in child.childNodes:\n",
    "                        childs_txt.append(kid.nodeValue)\n",
    "                childs_txt = [str(n) if n is None else n for n in childs_txt]\n",
    "                print(\"Operational language: \", ', '.join(childs_txt), \"\\n\")\n",
    "                \n",
    "            if ('publication' in TI_MARK[i].firstChild.nodeValue.lower()) & ('date' in TI_MARK[i].firstChild.nodeValue.lower()):\n",
    "                childs_txt = []\n",
    "                for child in TXT_MARK[i].childNodes: # txt\n",
    "                    for kid in child.childNodes:\n",
    "                        childs_txt.append(kid.nodeValue)\n",
    "                childs_txt = [str(n) if n is None else n for n in childs_txt]\n",
    "                print(\"Date of publication of prior-information/contract notice: \", ', '.join(childs_txt), \"\\n\")\n",
    "                \n",
    "            if TI_MARK[i].firstChild.nodeValue.lower() == 'contract number and value':\n",
    "                childs_txt = []\n",
    "                for child in TXT_MARK[i].childNodes: # txt\n",
    "                    for kid in child.childNodes:\n",
    "                        childs_txt.append(kid.nodeValue)\n",
    "                childs_txt = [str(n) if n is None else n for n in childs_txt]\n",
    "                print(\"Contract number and value: \", ', '.join(childs_txt), \"\\n\")\n",
    "                \n",
    "            if TI_MARK[i].firstChild.nodeValue.lower() == 'date of award of the contract':\n",
    "                childs_txt = []\n",
    "                for child in TXT_MARK[i].childNodes: # txt\n",
    "                    for kid in child.childNodes:\n",
    "                        childs_txt.append(kid.nodeValue)\n",
    "                childs_txt = [str(n) if n is None else n for n in childs_txt]\n",
    "                print(\"Date of award of the contract: \", ', '.join(childs_txt), \"\\n\")\n",
    "                \n",
    "            if TI_MARK[i].firstChild.nodeValue.lower() == 'number of tenders received':\n",
    "                childs_txt = []\n",
    "                for child in TXT_MARK[i].childNodes: # txt\n",
    "                    for kid in child.childNodes:\n",
    "                        childs_txt.append(kid.nodeValue)\n",
    "                childs_txt = [str(n) if n is None else n for n in childs_txt]\n",
    "                print(\"Number of tenders received: \", ', '.join(childs_txt), \"\\n\")\n",
    "                \n",
    "            if TI_MARK[i].firstChild.nodeValue.lower() == 'overall score of chosen tender':\n",
    "                childs_txt = []\n",
    "                for child in TXT_MARK[i].childNodes: # txt\n",
    "                    for kid in child.childNodes:\n",
    "                        childs_txt.append(kid.nodeValue)\n",
    "                childs_txt = [str(n) if n is None else n for n in childs_txt]\n",
    "                print(\"Overall score of chosen tender: \", ', '.join(childs_txt), \"\\n\")\n",
    "                \n",
    "            if 'successful tenderer' in TI_MARK[i].firstChild.nodeValue.lower():\n",
    "                childs_txt = []\n",
    "                for child in TXT_MARK[i].childNodes: # txt\n",
    "                    for kid in child.childNodes:\n",
    "                        childs_txt.append(kid.nodeValue)\n",
    "                childs_txt = [str(n) if n is None else n for n in childs_txt]\n",
    "                print(\"Successful tenderer Details: \", ', '.join(childs_txt), \"\\n\")\n",
    "                \n",
    "            if TI_MARK[i].firstChild.nodeValue.lower() == 'duration of contract':\n",
    "                childs_txt = []\n",
    "                for child in TXT_MARK[i].childNodes: # txt\n",
    "                    for kid in child.childNodes:\n",
    "                        childs_txt.append(kid.nodeValue)\n",
    "                childs_txt = [str(n) if n is None else n for n in childs_txt]\n",
    "                print(\"Duration of contract: \", ', '.join(childs_txt), \"\\n\")"
   ]
  },
  {
   "cell_type": "code",
   "execution_count": null,
   "metadata": {},
   "outputs": [],
   "source": [
    "# [(ix+1,ele.firstChild.nodeValue) for ix, ele in enumerate(TI_MARK)]"
   ]
  },
  {
   "cell_type": "code",
   "execution_count": null,
   "metadata": {},
   "outputs": [],
   "source": [
    "# len(TI_MARK)"
   ]
  },
  {
   "cell_type": "code",
   "execution_count": null,
   "metadata": {},
   "outputs": [],
   "source": []
  }
 ],
 "metadata": {
  "kernelspec": {
   "display_name": "Python 3",
   "language": "python",
   "name": "python3"
  },
  "language_info": {
   "codemirror_mode": {
    "name": "ipython",
    "version": 3
   },
   "file_extension": ".py",
   "mimetype": "text/x-python",
   "name": "python",
   "nbconvert_exporter": "python",
   "pygments_lexer": "ipython3",
   "version": "3.7.4"
  }
 },
 "nbformat": 4,
 "nbformat_minor": 2
}
