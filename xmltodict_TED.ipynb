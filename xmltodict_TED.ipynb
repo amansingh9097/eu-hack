{
 "cells": [
  {
   "cell_type": "code",
   "execution_count": 1,
   "metadata": {},
   "outputs": [],
   "source": [
    "import xmltodict\n",
    "import itertools\n",
    "\n",
    "with open('FTP_Data/2019/2019-01/20190102_001/000622_2019.xml', encoding='utf8') as f:\n",
    "    doc = xmltodict.parse(f.read())['TED_EXPORT']"
   ]
  },
  {
   "cell_type": "code",
   "execution_count": 2,
   "metadata": {},
   "outputs": [
    {
     "data": {
      "text/plain": [
       "odict_keys(['@xmlns:xlink', '@xmlns:xsi', '@xmlns', '@xmlns:n2016', '@xsi:schemaLocation', '@VERSION', '@DOC_ID', '@EDITION', 'TECHNICAL_SECTION', 'LINKS_SECTION', 'CODED_DATA_SECTION', 'TRANSLATION_SECTION', 'FORM_SECTION'])"
      ]
     },
     "execution_count": 2,
     "metadata": {},
     "output_type": "execute_result"
    }
   ],
   "source": [
    "doc.keys()"
   ]
  },
  {
   "cell_type": "markdown",
   "metadata": {},
   "source": [
    "##### EN Pos"
   ]
  },
  {
   "cell_type": "code",
   "execution_count": 3,
   "metadata": {},
   "outputs": [
    {
     "name": "stdout",
     "output_type": "stream",
     "text": [
      "0\n"
     ]
    }
   ],
   "source": [
    "if 'EN' in doc['TECHNICAL_SECTION']['FORM_LG_LIST']:\n",
    "    EN_POS = doc['TECHNICAL_SECTION']['FORM_LG_LIST'].split(' ').index('EN')\n",
    "else:\n",
    "    EN_POS = 0\n",
    "    \n",
    "print(EN_POS)"
   ]
  },
  {
   "cell_type": "code",
   "execution_count": 4,
   "metadata": {},
   "outputs": [],
   "source": [
    "# for k, v in doc.items():\n",
    "#     print(k, ' : ', v)"
   ]
  },
  {
   "cell_type": "code",
   "execution_count": 33,
   "metadata": {},
   "outputs": [
    {
     "name": "stdout",
     "output_type": "stream",
     "text": [
      "DOC_ID:  000622-2019\n",
      "VERSION:  R2.0.9.S03.E01\n",
      "EDITION:  2019001\n"
     ]
    }
   ],
   "source": [
    "print('DOC_ID: ', doc['@DOC_ID'])\n",
    "if '@VERSION' in doc.keys():\n",
    "    print('VERSION: ', doc['@VERSION'])\n",
    "elif '@VERSION' in doc['FORM_SECTION']['OTH_NOT'][EN_POS].keys():\n",
    "    print('VERSION: ', doc['FORM_SECTION']['OTH_NOT'][EN_POS]['@VERSION'])\n",
    "print('EDITION: ', doc['@EDITION'])"
   ]
  },
  {
   "cell_type": "markdown",
   "metadata": {},
   "source": [
    "#### DOC_ID"
   ]
  },
  {
   "cell_type": "code",
   "execution_count": 34,
   "metadata": {},
   "outputs": [
    {
     "data": {
      "text/plain": [
       "'000622-2019'"
      ]
     },
     "execution_count": 34,
     "metadata": {},
     "output_type": "execute_result"
    }
   ],
   "source": [
    "doc['@DOC_ID']"
   ]
  },
  {
   "cell_type": "markdown",
   "metadata": {},
   "source": [
    "### TECHNICAL SECTION"
   ]
  },
  {
   "cell_type": "code",
   "execution_count": 35,
   "metadata": {
    "scrolled": true
   },
   "outputs": [
    {
     "data": {
      "text/plain": [
       "odict_keys(['RECEPTION_ID', 'DELETION_DATE', 'FORM_LG_LIST', 'COMMENTS'])"
      ]
     },
     "execution_count": 35,
     "metadata": {},
     "output_type": "execute_result"
    }
   ],
   "source": [
    "doc['TECHNICAL_SECTION'].keys()"
   ]
  },
  {
   "cell_type": "code",
   "execution_count": 36,
   "metadata": {},
   "outputs": [
    {
     "data": {
      "text/plain": [
       "'18-592127-001'"
      ]
     },
     "execution_count": 36,
     "metadata": {},
     "output_type": "execute_result"
    }
   ],
   "source": [
    "doc['TECHNICAL_SECTION']['RECEPTION_ID']"
   ]
  },
  {
   "cell_type": "code",
   "execution_count": 37,
   "metadata": {},
   "outputs": [
    {
     "data": {
      "text/plain": [
       "'20190128'"
      ]
     },
     "execution_count": 37,
     "metadata": {},
     "output_type": "execute_result"
    }
   ],
   "source": [
    "doc['TECHNICAL_SECTION']['DELETION_DATE']"
   ]
  },
  {
   "cell_type": "code",
   "execution_count": 38,
   "metadata": {},
   "outputs": [
    {
     "data": {
      "text/plain": [
       "'From Convertor'"
      ]
     },
     "execution_count": 38,
     "metadata": {},
     "output_type": "execute_result"
    }
   ],
   "source": [
    "doc['TECHNICAL_SECTION']['COMMENTS']"
   ]
  },
  {
   "cell_type": "markdown",
   "metadata": {},
   "source": [
    "### CODED_DATA_SECTION"
   ]
  },
  {
   "cell_type": "code",
   "execution_count": 39,
   "metadata": {},
   "outputs": [],
   "source": [
    "# doc['CODED_DATA_SECTION'].keys()"
   ]
  },
  {
   "cell_type": "code",
   "execution_count": 40,
   "metadata": {},
   "outputs": [
    {
     "name": "stdout",
     "output_type": "stream",
     "text": [
      "COLL_OJ:  S\n",
      "No_OJ:  1\n",
      "DATE_PUB:  20190102\n"
     ]
    }
   ],
   "source": [
    "print('COLL_OJ: ', doc['CODED_DATA_SECTION']['REF_OJS']['COLL_OJ'])\n",
    "print('No_OJ: ', doc['CODED_DATA_SECTION']['REF_OJS']['NO_OJ'])\n",
    "print('DATE_PUB: ', doc['CODED_DATA_SECTION']['REF_OJS']['DATE_PUB'])"
   ]
  },
  {
   "cell_type": "code",
   "execution_count": 8,
   "metadata": {},
   "outputs": [
    {
     "name": "stdout",
     "output_type": "stream",
     "text": [
      "NO_DOC_OJS:  2019/S 001-000622\n",
      "URI_LIST:  http://ted.europa.eu/udl?uri=TED:NOTICE:000622-2019:TEXT:ES:HTML\n",
      "LG_ORIG:  ES\n",
      "ISO_COUNTRY:  ES\n",
      "n2016-PERFORMANCE_NUTS_CODE:  ES418\n",
      "n2016-PERFORMANCE_NUTS:  Valladolid\n",
      "n2016-CA_CE_NUTS_CODE:  ES418\n",
      "n2016-CA_CE_NUTS:  Valladolid\n"
     ]
    }
   ],
   "source": [
    "print('NO_DOC_OJS: ', doc['CODED_DATA_SECTION']['NOTICE_DATA']['NO_DOC_OJS'])\n",
    "print('URI_LIST: ', doc['CODED_DATA_SECTION']['NOTICE_DATA']['URI_LIST']['URI_DOC'][EN_POS]['#text']) if EN_POS != 0 else print('URI_LIST: ', doc['CODED_DATA_SECTION']['NOTICE_DATA']['URI_LIST']['URI_DOC']['#text'])\n",
    "print('LG_ORIG: ', doc['CODED_DATA_SECTION']['NOTICE_DATA']['LG_ORIG'])\n",
    "print('ISO_COUNTRY: ', doc['CODED_DATA_SECTION']['NOTICE_DATA']['ISO_COUNTRY']['@VALUE'])\n",
    "print('ORIGINAL_CPV_CODE: ', '; '.join(cpv['@CODE'] for cpv in doc['CODED_DATA_SECTION']['NOTICE_DATA']['ORIGINAL_CPV'])) if isinstance(doc['CODED_DATA_SECTION']['NOTICE_DATA']['ORIGINAL_CPV'], list) else doc['CODED_DATA_SECTION']['NOTICE_DATA']['ORIGINAL_CPV']['@CODE']\n",
    "print('ORIGINAL_CPV: ', '; '.join(cpv['#text'] for cpv in doc['CODED_DATA_SECTION']['NOTICE_DATA']['ORIGINAL_CPV'])) if isinstance(doc['CODED_DATA_SECTION']['NOTICE_DATA']['ORIGINAL_CPV'], list) else doc['CODED_DATA_SECTION']['NOTICE_DATA']['ORIGINAL_CPV']['#text']\n",
    "print('n2016-PERFORMANCE_NUTS_CODE: ', doc['CODED_DATA_SECTION']['NOTICE_DATA']['n2016:PERFORMANCE_NUTS']['@CODE']) if 'n2016:PERFORMANCE_NUTS' in doc['CODED_DATA_SECTION']['NOTICE_DATA'].keys() else print()\n",
    "print('n2016-PERFORMANCE_NUTS: ', doc['CODED_DATA_SECTION']['NOTICE_DATA']['n2016:PERFORMANCE_NUTS']['#text']) if 'n2016:PERFORMANCE_NUTS' in doc['CODED_DATA_SECTION']['NOTICE_DATA'].keys() else print()\n",
    "print('n2016-CA_CE_NUTS_CODE: ', doc['CODED_DATA_SECTION']['NOTICE_DATA']['n2016:CA_CE_NUTS']['@CODE']) if 'n2016:CA_CE_NUTS' in doc['CODED_DATA_SECTION']['NOTICE_DATA'].keys() else print()\n",
    "print('n2016-CA_CE_NUTS: ', doc['CODED_DATA_SECTION']['NOTICE_DATA']['n2016:CA_CE_NUTS']['#text']) if 'n2016:CA_CE_NUTS' in doc['CODED_DATA_SECTION']['NOTICE_DATA'].keys() else print()"
   ]
  },
  {
   "cell_type": "code",
   "execution_count": 5,
   "metadata": {},
   "outputs": [
    {
     "data": {
      "text/plain": [
       "OrderedDict([('@LG', 'ES'),\n",
       "             ('#text',\n",
       "              'http://ted.europa.eu/udl?uri=TED:NOTICE:000622-2019:TEXT:ES:HTML')])"
      ]
     },
     "execution_count": 5,
     "metadata": {},
     "output_type": "execute_result"
    }
   ],
   "source": [
    "doc['CODED_DATA_SECTION']['NOTICE_DATA']['URI_LIST']['URI_DOC']"
   ]
  },
  {
   "cell_type": "code",
   "execution_count": 4,
   "metadata": {
    "scrolled": true
   },
   "outputs": [
    {
     "name": "stdout",
     "output_type": "stream",
     "text": [
      "DS_DATE_DISPATCH:  20181228\n",
      "DT_DATE_FOR_SUBMISSION:  20190128 14:00\n",
      "AA_AUTHORITY_TYPE:  Regional or local authority\n",
      "TD_DOCUMENT_TYPE:  Contract notice\n",
      "NC_CONTRACT_NATURE:  Services\n",
      "PR_PROC:  Open procedure\n",
      "RP_REGULATION:  European Union\n",
      "TY_TYPE_BID:  Submission for all lots\n",
      "AC_AWARD_CRIT:  The most economic tender\n",
      "MA_MAIN_ACTIVITIES:  General public services\n",
      "HEADING:  01C02\n",
      "INITIATOR:  01\n"
     ]
    }
   ],
   "source": [
    "print('DS_DATE_DISPATCH: ', doc['CODED_DATA_SECTION']['CODIF_DATA']['DS_DATE_DISPATCH'])\n",
    "print('DT_DATE_FOR_SUBMISSION: ', doc['CODED_DATA_SECTION']['CODIF_DATA']['DT_DATE_FOR_SUBMISSION'])\n",
    "print('AA_AUTHORITY_TYPE: ', doc['CODED_DATA_SECTION']['CODIF_DATA']['AA_AUTHORITY_TYPE']['#text'])\n",
    "print('TD_DOCUMENT_TYPE: ', doc['CODED_DATA_SECTION']['CODIF_DATA']['TD_DOCUMENT_TYPE']['#text'])\n",
    "print('NC_CONTRACT_NATURE: ', doc['CODED_DATA_SECTION']['CODIF_DATA']['NC_CONTRACT_NATURE']['#text'])\n",
    "print('PR_PROC: ', doc['CODED_DATA_SECTION']['CODIF_DATA']['PR_PROC']['#text'])\n",
    "print('RP_REGULATION: ', doc['CODED_DATA_SECTION']['CODIF_DATA']['RP_REGULATION']['#text'])\n",
    "print('TY_TYPE_BID: ', doc['CODED_DATA_SECTION']['CODIF_DATA']['TY_TYPE_BID']['#text'])\n",
    "print('AC_AWARD_CRIT: ', doc['CODED_DATA_SECTION']['CODIF_DATA']['AC_AWARD_CRIT']['#text'])\n",
    "print('MA_MAIN_ACTIVITIES: ', doc['CODED_DATA_SECTION']['CODIF_DATA']['MA_MAIN_ACTIVITIES']['#text']) if 'MA_MAIN_ACTIVITIES' in doc['CODED_DATA_SECTION']['CODIF_DATA'].keys() else print()\n",
    "print('HEADING: ', doc['CODED_DATA_SECTION']['CODIF_DATA']['HEADING'])\n",
    "print('INITIATOR: ', doc['CODED_DATA_SECTION']['CODIF_DATA']['INITIATOR']) if 'INITIATOR' in doc['CODED_DATA_SECTION']['CODIF_DATA'].keys() else print()"
   ]
  },
  {
   "cell_type": "code",
   "execution_count": 20,
   "metadata": {},
   "outputs": [
    {
     "name": "stdout",
     "output_type": "stream",
     "text": [
      "odict_keys(['DS_DATE_DISPATCH', 'DT_DATE_FOR_SUBMISSION', 'AA_AUTHORITY_TYPE', 'TD_DOCUMENT_TYPE', 'NC_CONTRACT_NATURE', 'PR_PROC', 'RP_REGULATION', 'TY_TYPE_BID', 'AC_AWARD_CRIT', 'MA_MAIN_ACTIVITIES', 'HEADING', 'INITIATOR'])\n"
     ]
    }
   ],
   "source": [
    "# test block\n",
    "print(doc['CODED_DATA_SECTION']['CODIF_DATA'].keys())"
   ]
  },
  {
   "cell_type": "markdown",
   "metadata": {},
   "source": [
    "### TRANSLATION_SECTION"
   ]
  },
  {
   "cell_type": "code",
   "execution_count": 21,
   "metadata": {},
   "outputs": [
    {
     "data": {
      "text/plain": [
       "odict_keys(['ML_TITLES', 'ML_AA_NAMES'])"
      ]
     },
     "execution_count": 21,
     "metadata": {},
     "output_type": "execute_result"
    }
   ],
   "source": [
    "doc['TRANSLATION_SECTION'].keys()"
   ]
  },
  {
   "cell_type": "code",
   "execution_count": 22,
   "metadata": {},
   "outputs": [
    {
     "name": "stdout",
     "output_type": "stream",
     "text": [
      "TITLE:  UCA 18/068 — Management of the crèche at the General Secretariat of the Council of the European Union\n",
      "CITY:  Belgium\n",
      "TOWN:  Brussels\n"
     ]
    }
   ],
   "source": [
    "print('TITLE: ', doc['TRANSLATION_SECTION']['ML_TITLES']['ML_TI_DOC'][EN_POS]['TI_TEXT']['P'])\n",
    "print('CITY: ', doc['TRANSLATION_SECTION']['ML_TITLES']['ML_TI_DOC'][EN_POS]['TI_CY'])\n",
    "print('TOWN: ', doc['TRANSLATION_SECTION']['ML_TITLES']['ML_TI_DOC'][EN_POS]['TI_TOWN'])"
   ]
  },
  {
   "cell_type": "code",
   "execution_count": 23,
   "metadata": {},
   "outputs": [
    {
     "name": "stdout",
     "output_type": "stream",
     "text": [
      "CONTRACTING AUTHORITY:  Council of the European Union, Secrétariat général\n"
     ]
    }
   ],
   "source": [
    "print('CONTRACTING AUTHORITY: ', doc['TRANSLATION_SECTION']['ML_AA_NAMES']['AA_NAME'][EN_POS]['#text'])"
   ]
  },
  {
   "cell_type": "markdown",
   "metadata": {},
   "source": [
    "### FORM_SECTION"
   ]
  },
  {
   "cell_type": "code",
   "execution_count": 24,
   "metadata": {},
   "outputs": [
    {
     "name": "stdout",
     "output_type": "stream",
     "text": [
      "FORM:  F02\n",
      "LEGAL_BASIS:  32014L0024\n",
      "CONTRACTING_BODY:  Presidencia de la Diputación Provincial de Valladolid\n",
      "CONTRACTING_BODY_ADDRESS:  C/ Angustias, 44\n",
      "CONTRACTING_BODY_TOWN:  Valladolid\n",
      "CONTRACTING_BODY_POSTAL_CODE:  47003\n",
      "CONTRACTING_BODY_COUONTRY:  ES\n",
      "n2016-NUTS:  ES418\n",
      "CA_TYPE:  REGIONAL_AUTHORITY\n",
      "CA_ACTIVITY:  GENERAL_PUBLIC_SERVICES\n",
      "TITLE:  Servicio de restauración de diversos retablos de la provincia de Valladolid\n",
      "REFERENCE_NUMBER:  5059/18\n",
      "CPV_MAIN:  45454100\n",
      "TYPE_CONTRACT:  SERVICES\n",
      "SHORT_DESCR:  Servicio de restauración de diversos retablos de la provincia de Valladolid.\n",
      "MAX_LOT_DIVISION:  5\n",
      "MAX_LOT_PER_TENDERER:  3\n",
      "[OrderedDict([('@ITEM', '1'), ('TITLE', OrderedDict([('P', 'Restauración del retablo mayor de la iglesia de San Martín, de Mota del Marqués')])), ('LOT_NO', '1'), ('CPV_ADDITIONAL', OrderedDict([('CPV_CODE', OrderedDict([('@CODE', '45454100')]))])), ('n2016:NUTS', OrderedDict([('@CODE', 'ES418')])), ('SHORT_DESCR', OrderedDict([('P', 'Restauración del retablo mayor de la iglesia de San Martín, de Mota del Marqués.')])), ('AC', OrderedDict([('AC_QUALITY', OrderedDict([('AC_CRITERION', 'Memoria de intervención, 5059/18'), ('AC_WEIGHTING', '50')])), ('AC_COST', [OrderedDict([('AC_CRITERION', 'Ampliación del equipo necesario para la realización de los trabajos, 5059/18'), ('AC_WEIGHTING', '15')]), OrderedDict([('AC_CRITERION', 'Ampliación del plazo de garantía, 5059/18'), ('AC_WEIGHTING', '10')]), OrderedDict([('AC_CRITERION', 'Divulgación y promoción de la restauración mediante la creación de un blog, 5059/18'), ('AC_WEIGHTING', '3')]), OrderedDict([('AC_CRITERION', 'Presentación de memoria final traducida al inglés, 5059/18'), ('AC_WEIGHTING', '2')]), OrderedDict([('AC_CRITERION', 'Oferta económica, 5059/18'), ('AC_WEIGHTING', '20')])])])), ('VAL_OBJECT', OrderedDict([('@CURRENCY', 'EUR'), ('#text', '87750.5')])), ('DURATION', OrderedDict([('@TYPE', 'MONTH'), ('#text', '8')])), ('NO_RENEWAL', None), ('NO_ACCEPTED_VARIANTS', None), ('NO_OPTIONS', None), ('NO_EU_PROGR_RELATED', None)]), OrderedDict([('@ITEM', '2'), ('TITLE', OrderedDict([('P', 'Restauración del retablo mayor de la iglesia de Santa María la Sagrada, de Tordehumos')])), ('LOT_NO', '2'), ('CPV_ADDITIONAL', OrderedDict([('CPV_CODE', OrderedDict([('@CODE', '45454100')]))])), ('n2016:NUTS', OrderedDict([('@CODE', 'ES418')])), ('SHORT_DESCR', OrderedDict([('P', 'Restauración del retablo mayor de la iglesia de Santa María la Sagrada, de Tordehumos.')])), ('AC', OrderedDict([('AC_QUALITY', OrderedDict([('AC_CRITERION', 'Memoria de intervención, 5059/18'), ('AC_WEIGHTING', '50')])), ('AC_COST', [OrderedDict([('AC_CRITERION', 'Ampliación del equipo necesario para la realización de los trabajos, 5059/18'), ('AC_WEIGHTING', '15')]), OrderedDict([('AC_CRITERION', 'Ampliación del plazo de garantía, 5059/18'), ('AC_WEIGHTING', '10')]), OrderedDict([('AC_CRITERION', 'Divulgación y promoción de la restauración mediante la creación de un blog, 5059/18'), ('AC_WEIGHTING', '3')]), OrderedDict([('AC_CRITERION', 'Presentación de memoria final traducida al inglés, 5059/18'), ('AC_WEIGHTING', '2')]), OrderedDict([('AC_CRITERION', 'Oferta económica, 5059/18'), ('AC_WEIGHTING', '20')])])])), ('VAL_OBJECT', OrderedDict([('@CURRENCY', 'EUR'), ('#text', '79400')])), ('DURATION', OrderedDict([('@TYPE', 'MONTH'), ('#text', '8')])), ('NO_RENEWAL', None), ('NO_ACCEPTED_VARIANTS', None), ('NO_OPTIONS', None), ('NO_EU_PROGR_RELATED', None)]), OrderedDict([('@ITEM', '3'), ('TITLE', OrderedDict([('P', 'Restauración del retablo mayor de la iglesia de Santo Domingo de Guzmán, de Campaspero')])), ('LOT_NO', '3'), ('CPV_ADDITIONAL', OrderedDict([('CPV_CODE', OrderedDict([('@CODE', '45454100')]))])), ('n2016:NUTS', OrderedDict([('@CODE', 'ES418')])), ('SHORT_DESCR', OrderedDict([('P', 'Restauración del retablo mayor de la iglesia de Santo Domingo de Guzmán, de Campaspero.')])), ('AC', OrderedDict([('AC_QUALITY', OrderedDict([('AC_CRITERION', 'Memoria de intervención, 5059/18'), ('AC_WEIGHTING', '50')])), ('AC_COST', [OrderedDict([('AC_CRITERION', 'Ampliación del equipo necesario para la realización de los trabajos, 5059/18'), ('AC_WEIGHTING', '15')]), OrderedDict([('AC_CRITERION', 'Ampliación del plazo de garantía, 5059/18'), ('AC_WEIGHTING', '10')]), OrderedDict([('AC_CRITERION', 'Divulgación y promoción de la restauración mediante la creación de un blog, 5059/18'), ('AC_WEIGHTING', '3')]), OrderedDict([('AC_CRITERION', 'Presentación de memoria final traducida al inglés, 5059/18'), ('AC_WEIGHTING', '2')]), OrderedDict([('AC_CRITERION', 'Oferta económica, 5059/18'), ('AC_WEIGHTING', '20')])])])), ('VAL_OBJECT', OrderedDict([('@CURRENCY', 'EUR'), ('#text', '67520.66')])), ('DURATION', OrderedDict([('@TYPE', 'MONTH'), ('#text', '8')])), ('NO_RENEWAL', None), ('NO_ACCEPTED_VARIANTS', None), ('NO_OPTIONS', None), ('NO_EU_PROGR_RELATED', None)]), OrderedDict([('@ITEM', '4'), ('TITLE', OrderedDict([('P', 'Restauración del retablo mayor de la iglesia de Santa María la Mayor, de Corcos del Valle')])), ('LOT_NO', '4'), ('CPV_ADDITIONAL', OrderedDict([('CPV_CODE', OrderedDict([('@CODE', '45454100')]))])), ('n2016:NUTS', OrderedDict([('@CODE', 'ES418')])), ('SHORT_DESCR', OrderedDict([('P', 'Restauración del retablo mayor de la iglesia de Santa María la Mayor, de Corcos del Valle.')])), ('AC', OrderedDict([('AC_QUALITY', OrderedDict([('AC_CRITERION', 'Memoria de intervención, 5059/18'), ('AC_WEIGHTING', '50')])), ('AC_COST', [OrderedDict([('AC_CRITERION', 'Ampliación del equipo necesario para la realización de los trabajos, 5059/18'), ('AC_WEIGHTING', '15')]), OrderedDict([('AC_CRITERION', 'Ampliación del plazo de garantía, 5059/18'), ('AC_WEIGHTING', '10')]), OrderedDict([('AC_CRITERION', 'Divulgación y promoción de la restauración mediante la creación de un blog, 5059/18'), ('AC_WEIGHTING', '3')]), OrderedDict([('AC_CRITERION', 'Presentación de memoria final traducida al inglés, 5059/18'), ('AC_WEIGHTING', '2')]), OrderedDict([('AC_CRITERION', 'Oferta económica, 5059/18'), ('AC_WEIGHTING', '20')])])])), ('VAL_OBJECT', OrderedDict([('@CURRENCY', 'EUR'), ('#text', '39132.23')])), ('DURATION', OrderedDict([('@TYPE', 'MONTH'), ('#text', '8')])), ('NO_RENEWAL', None), ('NO_ACCEPTED_VARIANTS', None), ('NO_OPTIONS', None), ('NO_EU_PROGR_RELATED', None)]), OrderedDict([('@ITEM', '5'), ('TITLE', OrderedDict([('P', 'Restauración del retablo mayor de la iglesia de San Nicolás de Bari, de Villagómez la Nueva')])), ('LOT_NO', '5'), ('CPV_ADDITIONAL', OrderedDict([('CPV_CODE', OrderedDict([('@CODE', '45454100')]))])), ('n2016:NUTS', OrderedDict([('@CODE', 'ES418')])), ('SHORT_DESCR', OrderedDict([('P', 'Restauración del retablo mayor de la iglesia de San Nicolás de Bari, de Villagómez la Nueva.')])), ('AC', OrderedDict([('AC_QUALITY', OrderedDict([('AC_CRITERION', 'Memoria de intervención, 5059/18'), ('AC_WEIGHTING', '50')])), ('AC_COST', [OrderedDict([('AC_CRITERION', 'Ampliación del equipo necesario para la realización de los trabajos, 5059/18'), ('AC_WEIGHTING', '15')]), OrderedDict([('AC_CRITERION', 'Ampliación del plazo de garantía, 5059/18'), ('AC_WEIGHTING', '10')]), OrderedDict([('AC_CRITERION', 'Divulgación y promoción de la restauración mediante la creación de un blog, 5059/18'), ('AC_WEIGHTING', '3')]), OrderedDict([('AC_CRITERION', 'Presentación de memoria final traducida al inglés, 5059/18'), ('AC_WEIGHTING', '2')]), OrderedDict([('AC_CRITERION', 'Oferta económica, 5059/18'), ('AC_WEIGHTING', '20')])])])), ('VAL_OBJECT', OrderedDict([('@CURRENCY', 'EUR'), ('#text', '5500')])), ('DURATION', OrderedDict([('@TYPE', 'MONTH'), ('#text', '8')])), ('NO_RENEWAL', None), ('NO_ACCEPTED_VARIANTS', None), ('NO_OPTIONS', None), ('NO_EU_PROGR_RELATED', None)])]\n"
     ]
    },
    {
     "ename": "AttributeError",
     "evalue": "'list' object has no attribute 'keys'",
     "output_type": "error",
     "traceback": [
      "\u001b[1;31m---------------------------------------------------------------------------\u001b[0m",
      "\u001b[1;31mAttributeError\u001b[0m                            Traceback (most recent call last)",
      "\u001b[1;32m<ipython-input-24-cc997b5d1c91>\u001b[0m in \u001b[0;36m<module>\u001b[1;34m\u001b[0m\n\u001b[0;32m     56\u001b[0m         \u001b[0mprint\u001b[0m\u001b[1;33m(\u001b[0m\u001b[0mdoc\u001b[0m\u001b[1;33m[\u001b[0m\u001b[1;34m'FORM_SECTION'\u001b[0m\u001b[1;33m]\u001b[0m\u001b[1;33m[\u001b[0m\u001b[1;34m'F02_2014'\u001b[0m\u001b[1;33m]\u001b[0m\u001b[1;33m[\u001b[0m\u001b[1;34m'OBJECT_CONTRACT'\u001b[0m\u001b[1;33m]\u001b[0m\u001b[1;33m[\u001b[0m\u001b[1;34m'OBJECT_DESCR'\u001b[0m\u001b[1;33m]\u001b[0m\u001b[1;33m)\u001b[0m\u001b[1;33m\u001b[0m\u001b[1;33m\u001b[0m\u001b[0m\n\u001b[0;32m     57\u001b[0m \u001b[1;33m\u001b[0m\u001b[0m\n\u001b[1;32m---> 58\u001b[1;33m         \u001b[0mprint\u001b[0m\u001b[1;33m(\u001b[0m\u001b[1;34m'OBJECT_DESCR_CPV_ADDITIONAL: '\u001b[0m\u001b[1;33m,\u001b[0m \u001b[0mdoc\u001b[0m\u001b[1;33m[\u001b[0m\u001b[1;34m'FORM_SECTION'\u001b[0m\u001b[1;33m]\u001b[0m\u001b[1;33m[\u001b[0m\u001b[1;34m'F02_2014'\u001b[0m\u001b[1;33m]\u001b[0m\u001b[1;33m[\u001b[0m\u001b[1;34m'OBJECT_CONTRACT'\u001b[0m\u001b[1;33m]\u001b[0m\u001b[1;33m[\u001b[0m\u001b[1;34m'OBJECT_DESCR'\u001b[0m\u001b[1;33m]\u001b[0m\u001b[1;33m[\u001b[0m\u001b[1;34m'CPV_ADDITIONAL'\u001b[0m\u001b[1;33m]\u001b[0m\u001b[1;33m[\u001b[0m\u001b[1;34m'CPV_CODE'\u001b[0m\u001b[1;33m]\u001b[0m\u001b[1;33m[\u001b[0m\u001b[1;34m'@CODE'\u001b[0m\u001b[1;33m]\u001b[0m\u001b[1;33m)\u001b[0m \u001b[1;32mif\u001b[0m \u001b[1;34m'CPV_ADDITIONAL'\u001b[0m \u001b[1;32min\u001b[0m \u001b[0mdoc\u001b[0m\u001b[1;33m[\u001b[0m\u001b[1;34m'FORM_SECTION'\u001b[0m\u001b[1;33m]\u001b[0m\u001b[1;33m[\u001b[0m\u001b[1;34m'F02_2014'\u001b[0m\u001b[1;33m]\u001b[0m\u001b[1;33m[\u001b[0m\u001b[1;34m'OBJECT_CONTRACT'\u001b[0m\u001b[1;33m]\u001b[0m\u001b[1;33m[\u001b[0m\u001b[1;34m'OBJECT_DESCR'\u001b[0m\u001b[1;33m]\u001b[0m\u001b[1;33m.\u001b[0m\u001b[0mkeys\u001b[0m\u001b[1;33m(\u001b[0m\u001b[1;33m)\u001b[0m \u001b[1;32melse\u001b[0m \u001b[0mprint\u001b[0m\u001b[1;33m(\u001b[0m\u001b[1;33m)\u001b[0m\u001b[1;33m\u001b[0m\u001b[1;33m\u001b[0m\u001b[0m\n\u001b[0m\u001b[0;32m     59\u001b[0m         \u001b[0mprint\u001b[0m\u001b[1;33m(\u001b[0m\u001b[1;34m'OBJECT_DESCR_n2016-NUTS: '\u001b[0m\u001b[1;33m,\u001b[0m \u001b[0mdoc\u001b[0m\u001b[1;33m[\u001b[0m\u001b[1;34m'FORM_SECTION'\u001b[0m\u001b[1;33m]\u001b[0m\u001b[1;33m[\u001b[0m\u001b[1;34m'F02_2014'\u001b[0m\u001b[1;33m]\u001b[0m\u001b[1;33m[\u001b[0m\u001b[1;34m'OBJECT_CONTRACT'\u001b[0m\u001b[1;33m]\u001b[0m\u001b[1;33m[\u001b[0m\u001b[1;34m'OBJECT_DESCR'\u001b[0m\u001b[1;33m]\u001b[0m\u001b[1;33m[\u001b[0m\u001b[1;34m'n2016:NUTS'\u001b[0m\u001b[1;33m]\u001b[0m\u001b[1;33m[\u001b[0m\u001b[1;34m'@CODE'\u001b[0m\u001b[1;33m]\u001b[0m\u001b[1;33m)\u001b[0m\u001b[1;33m\u001b[0m\u001b[1;33m\u001b[0m\u001b[0m\n\u001b[0;32m     60\u001b[0m         \u001b[0mprint\u001b[0m\u001b[1;33m(\u001b[0m\u001b[1;34m'OBJECT_DESCR_SHORT_DESCR: '\u001b[0m\u001b[1;33m,\u001b[0m \u001b[1;34m''\u001b[0m\u001b[1;33m.\u001b[0m\u001b[0mjoin\u001b[0m\u001b[1;33m(\u001b[0m\u001b[0mdoc\u001b[0m\u001b[1;33m[\u001b[0m\u001b[1;34m'FORM_SECTION'\u001b[0m\u001b[1;33m]\u001b[0m\u001b[1;33m[\u001b[0m\u001b[1;34m'F02_2014'\u001b[0m\u001b[1;33m]\u001b[0m\u001b[1;33m[\u001b[0m\u001b[1;34m'OBJECT_CONTRACT'\u001b[0m\u001b[1;33m]\u001b[0m\u001b[1;33m[\u001b[0m\u001b[1;34m'OBJECT_DESCR'\u001b[0m\u001b[1;33m]\u001b[0m\u001b[1;33m[\u001b[0m\u001b[1;34m'SHORT_DESCR'\u001b[0m\u001b[1;33m]\u001b[0m\u001b[1;33m[\u001b[0m\u001b[1;34m'P'\u001b[0m\u001b[1;33m]\u001b[0m\u001b[1;33m)\u001b[0m\u001b[1;33m)\u001b[0m\u001b[1;33m\u001b[0m\u001b[1;33m\u001b[0m\u001b[0m\n",
      "\u001b[1;31mAttributeError\u001b[0m: 'list' object has no attribute 'keys'"
     ]
    }
   ],
   "source": [
    "if 'F02_2014' in doc['FORM_SECTION'].keys():\n",
    "    if EN_POS != 0:\n",
    "        print('FORM: ', doc['FORM_SECTION']['F02_2014'][EN_POS]['@FORM'])\n",
    "        print('LEGAL_BASIS: ', doc['FORM_SECTION']['F02_2014'][EN_POS]['LEGAL_BASIS']['@VALUE'])\n",
    "        print('CONTRACTING_BODY: ', doc['FORM_SECTION']['F02_2014'][EN_POS]['CONTRACTING_BODY']['ADDRESS_CONTRACTING_BODY']['OFFICIALNAME'])\n",
    "        print('CONTRACTING_BODY_ADDRESS: ', doc['FORM_SECTION']['F02_2014'][EN_POS]['CONTRACTING_BODY']['ADDRESS_CONTRACTING_BODY']['ADDRESS'])\n",
    "        print('CONTRACTING_BODY_TOWN: ', doc['FORM_SECTION']['F02_2014'][EN_POS]['CONTRACTING_BODY']['ADDRESS_CONTRACTING_BODY']['TOWN'])\n",
    "        print('CONTRACTING_BODY_POSTAL_CODE: ', doc['FORM_SECTION']['F02_2014'][EN_POS]['CONTRACTING_BODY']['ADDRESS_CONTRACTING_BODY']['POSTAL_CODE'])\n",
    "        print('CONTRACTING_BODY_COUONTRY: ', doc['FORM_SECTION']['F02_2014'][EN_POS]['CONTRACTING_BODY']['ADDRESS_CONTRACTING_BODY']['COUNTRY']['@VALUE'])\n",
    "        print('n2016-NUTS: ', doc['FORM_SECTION']['F02_2014'][EN_POS]['CONTRACTING_BODY']['ADDRESS_CONTRACTING_BODY']['n2016:NUTS']['@CODE'])\n",
    "        print('CA_TYPE: ', doc['FORM_SECTION']['F02_2014'][EN_POS]['CONTRACTING_BODY']['CA_TYPE']['@VALUE'])\n",
    "        print('CA_ACTIVITY: ', doc['FORM_SECTION']['F02_2014'][EN_POS]['CONTRACTING_BODY']['CA_ACTIVITY']['@VALUE'])\n",
    "        print('TITLE: ', doc['FORM_SECTION']['F02_2014'][EN_POS]['OBJECT_CONTRACT']['TITLE']['P'])\n",
    "        print('REFERENCE_NUMBER: ', doc['FORM_SECTION']['F02_2014'][EN_POS]['OBJECT_CONTRACT']['REFERENCE_NUMBER'])\n",
    "        print('CPV_MAIN: ', doc['FORM_SECTION']['F02_2014'][EN_POS]['OBJECT_CONTRACT']['CPV_MAIN']['CPV_CODE']['@CODE'])\n",
    "        print('TYPE_CONTRACT: ', doc['FORM_SECTION']['F02_2014'][EN_POS]['OBJECT_CONTRACT']['TYPE_CONTRACT']['@CTYPE'])\n",
    "        print('SHORT_DESCR: ', ' '.join(doc['FORM_SECTION']['F02_2014'][EN_POS]['OBJECT_CONTRACT']['SHORT_DESCR']['P']))\n",
    "        if 'NO_LOT_DIVISION' in doc['FORM_SECTION']['F02_2014'][EN_POS]['OBJECT_CONTRACT'].keys():\n",
    "            print('NO_LOT_DIVISION: ', doc['FORM_SECTION']['F02_2014'][EN_POS]['OBJECT_CONTRACT']['NO_LOT_DIVISION'])\n",
    "        if 'LOT_DIVISION' in doc['FORM_SECTION']['F02_2014'][EN_POS]['OBJECT_CONTRACT'].keys():\n",
    "            print('MAX_LOT_DIVISION: ', doc['FORM_SECTION']['F02_2014'][EN_POS]['OBJECT_CONTRACT']['LOT_DIVISION']['LOT_MAX_NUMBER'])\n",
    "            print('MAX_LOT_PER_TENDERER: ', doc['FORM_SECTION']['F02_2014'][EN_POS]['OBJECT_CONTRACT']['LOT_DIVISION']['LOT_MAX_ONE_TENDERER'])\n",
    "        print('OBJECT_DESCR_CPV_ADDITIONAL: ', doc['FORM_SECTION']['F02_2014'][EN_POS]['OBJECT_CONTRACT']['OBJECT_DESCR']['CPV_ADDITIONAL']['CPV_CODE']['@CODE']) if 'CPV_ADDITIONAL' in doc['FORM_SECTION']['F02_2014'][EN_POS]['OBJECT_CONTRACT']['OBJECT_DESCR'].keys() else print()\n",
    "        print('OBJECT_DESCR_n2016-NUTS: ', doc['FORM_SECTION']['F02_2014'][EN_POS]['OBJECT_CONTRACT']['OBJECT_DESCR']['n2016:NUTS']['@CODE'])\n",
    "        print('OBJECT_DESCR_SHORT_DESCR: ', ' '.join(doc['FORM_SECTION']['F02_2014'][EN_POS]['OBJECT_CONTRACT']['OBJECT_DESCR']['SHORT_DESCR']['P']))\n",
    "        print('OBJECT_DESCR_DURATION: ', doc['FORM_SECTION']['F02_2014'][EN_POS]['OBJECT_CONTRACT']['OBJECT_DESCR']['DURATION']['#text'], ' ', doc['FORM_SECTION']['F02_2014'][EN_POS]['OBJECT_CONTRACT']['OBJECT_DESCR']['DURATION']['@TYPE'])\n",
    "        print('PROCEDURE_DATE_RECEIPT_TENDERS: ', doc['FORM_SECTION']['F02_2014'][EN_POS]['PROCEDURE']['DATE_RECEIPT_TENDERS']) if 'DATE_RECEIPT_TENDERS' in doc['FORM_SECTION']['F02_2014'][EN_POS]['PROCEDURE'].keys() else print()\n",
    "        print('PROCEDURE_TIME_RECEIPT_TENDERS: ', doc['FORM_SECTION']['F02_2014'][EN_POS]['PROCEDURE']['TIME_RECEIPT_TENDERS']) if 'TIME_RECEIPT_TENDERS' in doc['FORM_SECTION']['F02_2014'][EN_POS]['PROCEDURE'].keys() else print()\n",
    "        print('PROCEDURE_DURATION_TENDER_VALID: ', doc['FORM_SECTION']['F02_2014'][EN_POS]['PROCEDURE']['DURATION_TENDER_VALID']['#text'], ' ', doc['FORM_SECTION']['F02_2014'][EN_POS]['PROCEDURE']['DURATION_TENDER_VALID']['@TYPE']) if 'DURATION_TENDER_VALID' in doc['FORM_SECTION']['F02_2014'][EN_POS]['PROCEDURE'].keys() else print()\n",
    "        if 'OPENING_CONDITION' in doc['FORM_SECTION']['F02_2014'][EN_POS]['PROCEDURE'].keys():\n",
    "            print('PROCEDURE_DATE_OPENING_TENDERS: ', doc['FORM_SECTION']['F02_2014'][EN_POS]['PROCEDURE']['OPENING_CONDITION']['DATE_OPENING_TENDERS']) if 'DATE_OPENING_TENDERS' in doc['FORM_SECTION']['F02_2014'][EN_POS]['PROCEDURE']['OPENING_CONDITION'].keys() else print()\n",
    "            print('PROCEDURE_TIME_OPENING_TENDERS: ', doc['FORM_SECTION']['F02_2014'][EN_POS]['PROCEDURE']['OPENING_CONDITION']['TIME_OPENING_TENDERS']) if 'TIME_OPENING_TENDERS' in doc['FORM_SECTION']['F02_2014'][EN_POS]['PROCEDURE']['OPENING_CONDITION'].keys() else print()\n",
    "        print('DATE_DISPATCH_NOTICE: ', doc['FORM_SECTION']['F02_2014'][EN_POS]['COMPLEMENTARY_INFO']['DATE_DISPATCH_NOTICE']) if 'DATE_DISPATCH_NOTICE' in doc['FORM_SECTION']['F02_2014'][EN_POS]['COMPLEMENTARY_INFO'].keys() else print()\n",
    "    else:\n",
    "        print('FORM: ', doc['FORM_SECTION']['F02_2014']['@FORM'])\n",
    "        print('LEGAL_BASIS: ', doc['FORM_SECTION']['F02_2014']['LEGAL_BASIS']['@VALUE'])\n",
    "        print('CONTRACTING_BODY: ', doc['FORM_SECTION']['F02_2014']['CONTRACTING_BODY']['ADDRESS_CONTRACTING_BODY']['OFFICIALNAME'])\n",
    "        print('CONTRACTING_BODY_ADDRESS: ', doc['FORM_SECTION']['F02_2014']['CONTRACTING_BODY']['ADDRESS_CONTRACTING_BODY']['ADDRESS'])\n",
    "        print('CONTRACTING_BODY_TOWN: ', doc['FORM_SECTION']['F02_2014']['CONTRACTING_BODY']['ADDRESS_CONTRACTING_BODY']['TOWN'])\n",
    "        print('CONTRACTING_BODY_POSTAL_CODE: ', doc['FORM_SECTION']['F02_2014']['CONTRACTING_BODY']['ADDRESS_CONTRACTING_BODY']['POSTAL_CODE'])\n",
    "        print('CONTRACTING_BODY_COUONTRY: ', doc['FORM_SECTION']['F02_2014']['CONTRACTING_BODY']['ADDRESS_CONTRACTING_BODY']['COUNTRY']['@VALUE'])\n",
    "        print('n2016-NUTS: ', doc['FORM_SECTION']['F02_2014']['CONTRACTING_BODY']['ADDRESS_CONTRACTING_BODY']['n2016:NUTS']['@CODE'])\n",
    "        print('CA_TYPE: ', doc['FORM_SECTION']['F02_2014']['CONTRACTING_BODY']['CA_TYPE']['@VALUE'])\n",
    "        print('CA_ACTIVITY: ', doc['FORM_SECTION']['F02_2014']['CONTRACTING_BODY']['CA_ACTIVITY']['@VALUE'])\n",
    "        print('TITLE: ', doc['FORM_SECTION']['F02_2014']['OBJECT_CONTRACT']['TITLE']['P'])\n",
    "        print('REFERENCE_NUMBER: ', doc['FORM_SECTION']['F02_2014']['OBJECT_CONTRACT']['REFERENCE_NUMBER'])\n",
    "        print('CPV_MAIN: ', doc['FORM_SECTION']['F02_2014']['OBJECT_CONTRACT']['CPV_MAIN']['CPV_CODE']['@CODE'])\n",
    "        print('TYPE_CONTRACT: ', doc['FORM_SECTION']['F02_2014']['OBJECT_CONTRACT']['TYPE_CONTRACT']['@CTYPE'])\n",
    "        print('SHORT_DESCR: ', ''.join(doc['FORM_SECTION']['F02_2014']['OBJECT_CONTRACT']['SHORT_DESCR']['P']))\n",
    "        if 'NO_LOT_DIVISION' in doc['FORM_SECTION']['F02_2014']['OBJECT_CONTRACT'].keys():\n",
    "            print('NO_LOT_DIVISION: ', doc['FORM_SECTION']['F02_2014']['OBJECT_CONTRACT']['NO_LOT_DIVISION'])\n",
    "        if 'LOT_DIVISION' in doc['FORM_SECTION']['F02_2014']['OBJECT_CONTRACT'].keys():\n",
    "            print('MAX_LOT_DIVISION: ', doc['FORM_SECTION']['F02_2014']['OBJECT_CONTRACT']['LOT_DIVISION']['LOT_MAX_NUMBER'])\n",
    "            print('MAX_LOT_PER_TENDERER: ', doc['FORM_SECTION']['F02_2014']['OBJECT_CONTRACT']['LOT_DIVISION']['LOT_MAX_ONE_TENDERER'])\n",
    "        \n",
    "#         print(doc['FORM_SECTION']['F02_2014']['OBJECT_CONTRACT']['OBJECT_DESCR'])\n",
    "        \n",
    "        print('OBJECT_DESCR_CPV_ADDITIONAL: ', doc['FORM_SECTION']['F02_2014']['OBJECT_CONTRACT']['OBJECT_DESCR']['CPV_ADDITIONAL']['CPV_CODE']['@CODE']) if 'CPV_ADDITIONAL' in doc['FORM_SECTION']['F02_2014']['OBJECT_CONTRACT']['OBJECT_DESCR'].keys() else print()\n",
    "        print('OBJECT_DESCR_n2016-NUTS: ', doc['FORM_SECTION']['F02_2014']['OBJECT_CONTRACT']['OBJECT_DESCR']['n2016:NUTS']['@CODE'])\n",
    "        print('OBJECT_DESCR_SHORT_DESCR: ', ''.join(doc['FORM_SECTION']['F02_2014']['OBJECT_CONTRACT']['OBJECT_DESCR']['SHORT_DESCR']['P']))\n",
    "        print('OBJECT_DESCR_DURATION: ', doc['FORM_SECTION']['F02_2014']['OBJECT_CONTRACT']['OBJECT_DESCR']['DURATION']['#text'], ' ', doc['FORM_SECTION']['F02_2014']['OBJECT_CONTRACT']['OBJECT_DESCR']['DURATION']['@TYPE'])\n",
    "        print('PROCEDURE_DATE_RECEIPT_TENDERS: ', doc['FORM_SECTION']['F02_2014']['PROCEDURE']['DATE_RECEIPT_TENDERS']) if 'DATE_RECEIPT_TENDERS' in doc['FORM_SECTION']['F02_2014']['PROCEDURE'].keys() else print()\n",
    "        print('PROCEDURE_TIME_RECEIPT_TENDERS: ', doc['FORM_SECTION']['F02_2014']['PROCEDURE']['TIME_RECEIPT_TENDERS']) if 'TIME_RECEIPT_TENDERS' in doc['FORM_SECTION']['F02_2014']['PROCEDURE'].keys() else print()\n",
    "        print('PROCEDURE_DURATION_TENDER_VALID: ', doc['FORM_SECTION']['F02_2014']['PROCEDURE']['DURATION_TENDER_VALID']['#text'], ' ', doc['FORM_SECTION']['F02_2014']['PROCEDURE']['DURATION_TENDER_VALID']['@TYPE']) if 'DURATION_TENDER_VALID' in doc['FORM_SECTION']['F02_2014']['PROCEDURE'].keys() else print()\n",
    "        if 'OPENING_CONDITION' in doc['FORM_SECTION']['F02_2014']['PROCEDURE'].keys():\n",
    "            print('PROCEDURE_DATE_OPENING_TENDERS: ', doc['FORM_SECTION']['F02_2014']['PROCEDURE']['OPENING_CONDITION']['DATE_OPENING_TENDERS']) if 'DATE_OPENING_TENDERS' in doc['FORM_SECTION']['F02_2014']['PROCEDURE']['OPENING_CONDITION'].keys() else print()\n",
    "            print('PROCEDURE_TIME_OPENING_TENDERS: ', doc['FORM_SECTION']['F02_2014']['PROCEDURE']['OPENING_CONDITION']['TIME_OPENING_TENDERS']) if 'TIME_OPENING_TENDERS' in doc['FORM_SECTION']['F02_2014']['PROCEDURE']['OPENING_CONDITION'].keys() else print()\n",
    "        print('DATE_DISPATCH_NOTICE: ', doc['FORM_SECTION']['F02_2014']['COMPLEMENTARY_INFO']['DATE_DISPATCH_NOTICE']) if 'DATE_DISPATCH_NOTICE' in doc['FORM_SECTION']['F02_2014']['COMPLEMENTARY_INFO'].keys() else print()\n",
    "elif 'OTH_NOT' in doc['FORM_SECTION'].keys():\n",
    "    if isinstance(doc['FORM_SECTION']['OTH_NOT'], list):\n",
    "        oth_not = doc['FORM_SECTION']['OTH_NOT'][EN_POS]\n",
    "    else:\n",
    "        oth_not = doc['FORM_SECTION']['OTH_NOT']\n",
    "        \n",
    "    print('TITLE: ', doc['FORM_SECTION']['OTH_NOT'][EN_POS]['FD_OTH_NOT']['TI_DOC']['P'])\n",
    "    print('REGION: ', doc['FORM_SECTION']['OTH_NOT'][EN_POS]['FD_OTH_NOT']['STI_DOC'][0]['P'])\n"
   ]
  },
  {
   "cell_type": "code",
   "execution_count": 28,
   "metadata": {},
   "outputs": [
    {
     "ename": "KeyError",
     "evalue": "'OTH_NOT'",
     "output_type": "error",
     "traceback": [
      "\u001b[1;31m---------------------------------------------------------------------------\u001b[0m",
      "\u001b[1;31mKeyError\u001b[0m                                  Traceback (most recent call last)",
      "\u001b[1;32m<ipython-input-28-6a17aaf5e3ac>\u001b[0m in \u001b[0;36m<module>\u001b[1;34m\u001b[0m\n\u001b[1;32m----> 1\u001b[1;33m \u001b[0mdoc\u001b[0m\u001b[1;33m[\u001b[0m\u001b[1;34m'FORM_SECTION'\u001b[0m\u001b[1;33m]\u001b[0m\u001b[1;33m[\u001b[0m\u001b[1;34m'OTH_NOT'\u001b[0m\u001b[1;33m]\u001b[0m\u001b[1;33m[\u001b[0m\u001b[0mEN_POS\u001b[0m\u001b[1;33m]\u001b[0m\u001b[1;33m\u001b[0m\u001b[1;33m\u001b[0m\u001b[0m\n\u001b[0m",
      "\u001b[1;31mKeyError\u001b[0m: 'OTH_NOT'"
     ]
    }
   ],
   "source": [
    "doc['FORM_SECTION']['OTH_NOT'][EN_POS]"
   ]
  },
  {
   "cell_type": "code",
   "execution_count": 29,
   "metadata": {},
   "outputs": [
    {
     "ename": "KeyError",
     "evalue": "'OTH_NOT'",
     "output_type": "error",
     "traceback": [
      "\u001b[1;31m---------------------------------------------------------------------------\u001b[0m",
      "\u001b[1;31mKeyError\u001b[0m                                  Traceback (most recent call last)",
      "\u001b[1;32m<ipython-input-29-e82c4c0291ae>\u001b[0m in \u001b[0;36m<module>\u001b[1;34m\u001b[0m\n\u001b[1;32m----> 1\u001b[1;33m \u001b[0mdoc\u001b[0m\u001b[1;33m[\u001b[0m\u001b[1;34m'FORM_SECTION'\u001b[0m\u001b[1;33m]\u001b[0m\u001b[1;33m[\u001b[0m\u001b[1;34m'OTH_NOT'\u001b[0m\u001b[1;33m]\u001b[0m\u001b[1;33m[\u001b[0m\u001b[0mEN_POS\u001b[0m\u001b[1;33m]\u001b[0m\u001b[1;33m.\u001b[0m\u001b[0mkeys\u001b[0m\u001b[1;33m(\u001b[0m\u001b[1;33m)\u001b[0m\u001b[1;33m\u001b[0m\u001b[1;33m\u001b[0m\u001b[0m\n\u001b[0m",
      "\u001b[1;31mKeyError\u001b[0m: 'OTH_NOT'"
     ]
    }
   ],
   "source": [
    "doc['FORM_SECTION']['OTH_NOT'][EN_POS].keys()"
   ]
  },
  {
   "cell_type": "code",
   "execution_count": 29,
   "metadata": {},
   "outputs": [
    {
     "data": {
      "text/plain": [
       "odict_keys(['TI_DOC', 'STI_DOC', 'CONTENTS'])"
      ]
     },
     "execution_count": 29,
     "metadata": {},
     "output_type": "execute_result"
    }
   ],
   "source": [
    "# print(doc['FORM_SECTION']['OTH_NOT'][EN_POS]['@CATEGORY'])\n",
    "# print(doc['FORM_SECTION']['OTH_NOT'][EN_POS]['@LG'])\n",
    "# print(doc['FORM_SECTION']['OTH_NOT'][EN_POS]['@VERSION'])\n",
    "\n",
    "doc['FORM_SECTION']['OTH_NOT'][EN_POS]['FD_OTH_NOT'].keys()"
   ]
  },
  {
   "cell_type": "code",
   "execution_count": 30,
   "metadata": {},
   "outputs": [
    {
     "name": "stdout",
     "output_type": "stream",
     "text": [
      "TITLE:  BE-Brussels: Policy Support Facility for the Implementation of EU Foreign Policy\n"
     ]
    }
   ],
   "source": [
    "print('TITLE: ', doc['FORM_SECTION']['OTH_NOT'][EN_POS]['FD_OTH_NOT']['TI_DOC']['P'])"
   ]
  },
  {
   "cell_type": "code",
   "execution_count": 32,
   "metadata": {},
   "outputs": [
    {
     "name": "stdout",
     "output_type": "stream",
     "text": [
      "[OrderedDict([('P', 'PSF 2019 Worldwide')]), OrderedDict([('P', 'Service Contract Notice')])]\n",
      "REGION:  PSF 2019 Worldwide\n"
     ]
    }
   ],
   "source": [
    "print(doc['FORM_SECTION']['OTH_NOT'][EN_POS]['FD_OTH_NOT']['STI_DOC'])\n",
    "print('REGION: ', doc['FORM_SECTION']['OTH_NOT'][EN_POS]['FD_OTH_NOT']['STI_DOC'][0]['P'])"
   ]
  },
  {
   "cell_type": "code",
   "execution_count": 33,
   "metadata": {},
   "outputs": [
    {
     "name": "stdout",
     "output_type": "stream",
     "text": [
      "0 odict_keys(['TI_GRSEQ', 'BLK_BTX_SEQ'])\n",
      "0 .1 None\n",
      "0 .2 [OrderedDict([('@NO_SEQ', '001'), ('NO_MARK', '.'), ('TI_MARK', '.'), ('TXT_MARK', OrderedDict([('P', ['Please note that the awarding of the contract is subject to the condition of:', 'The prior adoption of a financing decision, which does not modify the elements of the procurement procedure (this will be the case, for instance, if the budget initially foreseen is different or if the timeframe, the nature or the condition of the implementation are altered). If the precedent condition is not met, the Contracting Authority will either abandon the procurement or cancel the award procedure without the candidates or tenderers being entitled to claim any compensation.'])]))]), OrderedDict([('@NO_SEQ', '002'), ('NO_MARK', '1.'), ('TI_MARK', 'Publication reference'), ('TXT_MARK', OrderedDict([('P', 'EuropeAid/139974/DH/SER/MULTI')]))]), OrderedDict([('@NO_SEQ', '003'), ('NO_MARK', '2.'), ('TI_MARK', 'Procedure'), ('TXT_MARK', OrderedDict([('P', 'Restricted')]))]), OrderedDict([('@NO_SEQ', '004'), ('NO_MARK', '3.'), ('TI_MARK', 'Programme title'), ('TXT_MARK', OrderedDict([('P', 'Partnership Instrument')]))]), OrderedDict([('@NO_SEQ', '005'), ('NO_MARK', '4.'), ('TI_MARK', 'Financing'), ('TXT_MARK', OrderedDict([('P', 'Budget line 19 05 01')]))]), OrderedDict([('@NO_SEQ', '006'), ('NO_MARK', '5.'), ('TI_MARK', 'Contracting Authority'), ('TXT_MARK', OrderedDict([('P', [OrderedDict([('ADDRESS_NOT_STRUCT', OrderedDict([('ORGANISATION', 'European Union'), ('BLK_BTX', [', represented by the European Commission,', ', BELGIUM']), ('TOWN', 'Brussels')]))]), 'Clarifications may be sought from the Contracting Authority at the following email address FPITENDER-139974@ec.europa.eu at the latest 21 days before the deadline for submission of applications stated at the Point 23 below.', 'Clarifications will be published on the website of DG International Cooperation and Development at the latest 5 days before the deadline as well as on the website of the service for Foreign Policy Instruments (FPI) https://ec.europa.eu/fpi/home_en at the latest 5 days before the deadline.'])]))])]\n",
      "\n",
      "1 odict_keys(['TI_GRSEQ', 'BLK_BTX_SEQ'])\n",
      "1 .1 CONTRACT SPECIFICATION\n",
      "1 .2 [OrderedDict([('@NO_SEQ', '001'), ('NO_MARK', '6.'), ('TI_MARK', 'Nature of contract'), ('TXT_MARK', OrderedDict([('P', ['Global price (Lot 1 and 3);', 'Fee-based or global price (Lot 2).', 'Multiple framework contract with reopened competition at the level of each assignment.'])]))]), OrderedDict([('@NO_SEQ', '002'), ('NO_MARK', '7.'), ('TI_MARK', 'Contract description'), ('TXT_MARK', OrderedDict([('P', ['This Framework Contract (FWC) provides expertise for the implementation of EU foreign policy pursuing EU or mutual interest. The objective of the FWC is to provide, via individual assignments defined and contracted through specific contracts, expertise that can be mobilised at short notice. The FWC will comprise the following lots:', 'Lot 1) Public diplomacy, information outreach and organization of events: The objective is to provide support (both in terms of content and logistics, as appropriate and as defined in the specific terms of reference) in the fields of:', '(a) the organization of EU public diplomacy and outreach initiatives in third countries (in liaison with the local EU Delegations and/or EU HQ);', '(b) the design and delivery of information campaigns, including initiatives that aim at increasing societal resilience to disinformation; and', '(c) the organization of events such as conferences, seminars, open days, information days, information visits, international fora and symposia, participation at fairs and exhibitions.', 'Lot 2) Technical assistance: expected to support and advise EU services (Headquarters and/or EU Delegations) by providing technical inputs and by assisting in carrying out analysis, studies and providing opinions and advice, including legal advice. To this end, Lot 2 should provide expertise related to:', '(a) analytical studies (e.g. feasibility studies, institutional/stakeholder analysis, political and economic analysis, intervention logic and logical framework approach/theory of change, economic analysis, data collection and analysis). This will also include mainstreaming of crosscutting issues (climate change, environment, resilience, disinformation, youth, gender, disabilities and more broadly rights based approach), analysis of legislation, regulations and law enforcement, legislative gap analysis;', '(b) policy-related analysis and design;', '(c) monitoring and evaluation and related training.', 'Lot 3) Trade and market access: The objective of Lot 3 is to carry out technical assistance (feasibility studies, technical reports, baseline and benchmarking relevant for the policy dialogues) in the field of trade. The following specific objectives will be addressed:', '(a) increase business and trading opportunities for EU companies in third countries;', '(b) ensure that trade and investment agreements are negotiated based on solid information relating to partner countries’ market and legislation;', '(c) ensure proper enforcement and implementation of trade and investment agreements, including the provision of unilateral trade preferences and if necessary via technical assistance;', '(d) promote these agreements with business and other civil society organisations;', '(e) strengthen capacity for the implementation of Trade and Sustainable Development chapters, in particular labour provisions and the promotion of internationally recognised principles and guidelines of corporate social responsibility;', '(f) Support market access activities to ensure the removal of trade and investment barriers for EU business;', \"(g) Reinforce Market Access Teams with the aim of contributing to the strategic EU objectives of strengthening the presence of EU companies in global markets and of improving the EU's capacity to tackle barriers that block trade and investment;\", '(h) Contribute to the monitoring of the business related environment in key markets.'])]))]), OrderedDict([('@NO_SEQ', '003'), ('NO_MARK', '8.'), ('TI_MARK', 'Number and titles of lots'), ('TXT_MARK', OrderedDict([('P', ['Lot 1) Public diplomacy, information outreach and organization of events;', 'Lot 2) Technical assistance;', 'Lot 3) Trade and market access.'])]))]), OrderedDict([('@NO_SEQ', '004'), ('NO_MARK', '9.'), ('TI_MARK', 'Maximum budget'), ('TXT_MARK', OrderedDict([('P', ['Lot 1: 74 000 000 EUR', 'Lot 2: 66 000 000 EUR', 'Lot 3: 60 000 000 EUR'])]))]), OrderedDict([('@NO_SEQ', '005'), ('NO_MARK', '10.'), ('TI_MARK', 'Scope for additional services'), ('TXT_MARK', OrderedDict([('P', 'The Contracting Authority may, at its own discretion, increase the maximum budget of the framework contract not exceeding 100 % of the value of the initial framework contract. Any extension of the contract would be subject to satisfactory performance by the contractors.')]))])]\n",
      "\n",
      "2 odict_keys(['TI_GRSEQ', 'BLK_BTX_SEQ'])\n",
      "2 .1 CONDITIONS OF PARTICIPATION\n",
      "2 .2 [OrderedDict([('@NO_SEQ', '001'), ('NO_MARK', '11.'), ('TI_MARK', 'Eligibility'), ('TXT_MARK', OrderedDict([('P', [\"Participation is open to all natural persons who are nationals of and legal persons (participating either individually or in a grouping – consortium – of tenderers) which are effectively established in a Member State of the European Union or in a eligible country or territory as defined under the Regulation (EU) No. 236/2014 establishing common rules and procedures for the implementation of the Union's instruments for external action (CIR) for the applicable instrument\", 'Under which the contract is financed (see also heading 29 below). Participation is also open to international organisations.', \"Please be aware that after the United Kingdom's withdrawal from the EU, the rules of access to EU procurement procedures of economic operators established in third countries will apply to candidates or tenderers from the United Kingdom depending on the outcome of negotiations. In case such access is not provided by legal provisions in force at the time of contract award, candidates or tenderers from the United Kingdom could be rejected from the procurement procedure.\"])]))]), OrderedDict([('@NO_SEQ', '002'), ('NO_MARK', '12.'), ('TI_MARK', 'Candidature'), ('TXT_MARK', OrderedDict([('P', ['All eligible natural and legal persons (as per item 11 above) or groupings of such persons (consortia) may apply.', 'A consortium may be a permanent, legally-established grouping or a grouping which has been constituted informally for a specific tender procedure. All members of a consortium (i.e., the leader and all other members) are jointly and severally liable to the contracting authority.', 'The participation of an ineligible natural or legal person (as per item 11) will result in the automatic exclusion of that person. In particular, if that ineligible person belongs to a consortium, the whole consortium will be excluded.'])]))]), OrderedDict([('@NO_SEQ', '003'), ('NO_MARK', '13.'), ('TI_MARK', 'Number of applications'), ('TXT_MARK', OrderedDict([('P', ['No more than one application per lot can be submitted by a natural or legal person whatever the form of participation (as an individual legal entity or as leader or member of a consortium submitting an application). In the event that a natural or legal person submits more than one application per lot, all applications in which that person has participated will be excluded.', 'Candidates may submit an application for one lot only, several lots or all of the lots, but only one application per lot. Contracts will be awarded lot by lot and each lot will form a separate contract.'])]))]), OrderedDict([('@NO_SEQ', '004'), ('NO_MARK', '14.'), ('TI_MARK', 'Shortlist alliances prohibited'), ('TXT_MARK', OrderedDict([('P', ['Any tenders received from tenderers comprising firms other than those mentioned in the shortlisted application forms will be excluded from this restricted tender procedure unless prior approval from the contracting authority has been obtained (see practical guide – PRAG – 2.6.3.).', 'Short-listed candidates may not form alliances or subcontract to each other for the contract in question.'])]))]), OrderedDict([('@NO_SEQ', '005'), ('NO_MARK', '15.'), ('TI_MARK', 'Grounds for exclusion'), ('TXT_MARK', OrderedDict([('P', ['As part of the application form, candidates must submit a signed declaration, included in the standard application form, to the effect that they are not in any of the exclusion situations listed in Section 2.6.10.1. of the PRAG.', 'Candidates included in the lists of EU restrictive measures (see Section 2.4. of the PRAG) at the moment of the award decision cannot be awarded the contract.'])]))]), OrderedDict([('@NO_SEQ', '006'), ('NO_MARK', '16.'), ('TI_MARK', 'Sub-contracting'), ('TXT_MARK', OrderedDict([('P', 'Subcontracting is allowed.')]))]), OrderedDict([('@NO_SEQ', '007'), ('NO_MARK', '17.'), ('TI_MARK', 'Number of candidates to be short-listed'), ('TXT_MARK', OrderedDict([('P', 'On the basis of the applications received, between 4 and 8 candidates will be invited to submit detailed tenders per each lot of this contract. If the number of eligible candidates meeting the selection criteria is less than the minimum of 4, the Contracting Authority may invite the candidates who satisfy the criteria to submit a tender.')]))])]\n",
      "\n",
      "3 odict_keys(['TI_GRSEQ', 'BLK_BTX_SEQ'])\n",
      "3 .1 PROVISIONAL TIMETABLE\n",
      "3 .2 [OrderedDict([('@NO_SEQ', '001'), ('NO_MARK', '18.'), ('TI_MARK', 'Provisional date of invitation to tender'), ('TXT_MARK', OrderedDict([('P', 'March 2019')]))]), OrderedDict([('@NO_SEQ', '002'), ('NO_MARK', '19.'), ('TI_MARK', 'Provisional commencement date of the contract'), ('TXT_MARK', OrderedDict([('P', 'September 2019')]))]), OrderedDict([('@NO_SEQ', '003'), ('NO_MARK', '20.'), ('TI_MARK', 'Initial period of implementation of tasks'), ('TXT_MARK', OrderedDict([('P', 'September 2019 — August 2021, with possible extension up to August 2023')]))])]\n",
      "\n",
      "4 odict_keys(['TI_GRSEQ', 'BLK_BTX_SEQ'])\n",
      "4 .1 SELECTION AND AWARD CRITERIA\n",
      "4 .2 [OrderedDict([('@NO_SEQ', '001'), ('NO_MARK', '21.'), ('TI_MARK', 'Selection criteria'), ('TXT_MARK', OrderedDict([('P', ['The following selection criteria will be applied to candidates. In the case of applications submitted by a consortium, these selection criteria will be applied to the consortium as a whole unless specified otherwise. The selection criteria will not be applied to natural persons and singlemember companies when they are sub-contractors.', 'For Lot 1:', '1) Economic and financial capacity of the individual tenderer or leader of a consortium submitting a tender (based on item 3 of the application form). In case of candidate being a public body, equivalent information should be provided. The reference period which will be taken into account will be the last 3 years for which accounts have been closed.', '— the average annual turnover of the candidate must exceed 10 000 000 EUR.', '2) Professional capacity (based on items 4 and 5 of the application form). The reference period which will be taken into account will be the last 3 years from submission deadline.', 'At least 20 members of permanent staff employed must currently be working in fields relating to one of the following areas (both areas to be covered):', '— public diplomacy, information environments and outreach initiatives in third countries,', '— organization of events such as conferences, seminars, open days, information days, information visits, international fora and symposia, participation at fairs and exhibitions.', 'An organigramme of the individual tenderer or, if the application is submitted by a consortium, an organigramme of the leader of the consortium and a list of staff shall be annexed to the application (the list of the staff will include the name and position of the employee) as documentary proof to meet this selection criterion.', '3) Technical capacity (based on items 5 and 6 of the application form). The reference period which will be taken into account will be the last 5 years from submission deadline.', 'The candidate has worked on at least 15 projects (with a budget above 300 000 EUR each, of which at least 50 % has been implemented by one or several members of the consortium, based on section 6 of the application form) in providing technical and administrative services in the field of public diplomacy and outreach.', 'The candidate must provide a list of at least 15 references that conform to the description below. The candidate should include no more than 30 references and any extra references will not be taken into account.', 'The referenced services and expertise shall cover:', '(a) at least 5 projects concerning public diplomacy(1), information environments and outreach initiatives such as round-tables, seminars, conferences, workshops, briefing sessions, webinars, visitors programmes/study visits, debate-based events, social-media and media awareness raising campaigns, side activities at the margin on EU-third countries bilateral summits, training sessions on specific EU policy areas (i.a. for policy makers, media, NGOs, civil society and academia), networking events (e.g. with alumni/beneficiaries of EU programmes), EU roadshows and fairs, modelling EU and competitions.', '(b) at least ten projects concerning the organization of events such as conferences, seminars, open days, information days, information visits, international fora and symposia, participation at international fairs and exhibitions.', '(c) at least ten referenced projects must have been carried out in 10 different industrialised and other high-income or middle-income countries and territories outside the EU(2).', 'FOr Lot 2:', '1) Economic and financial capacity of the individual tenderer or leader of a consortium submitting a tender (based on item 3 of the application form). In case of candidate being a public body, equivalent information should be provided. The reference period which will be taken into account will be the last 3 years for which accounts have been closed.', '— the average annual turnover of the candidate must exceed 10 000 000 EUR.', '2) Professional capacity (based on items 4 and 5 of the application form). The reference period which will be taken into account will be the last 3 years from submission deadline.', 'At least 20 members of permanent staff employed must currently be working in fields relating to one of the following areas (all areas to be covered):', '— analytical studies (e.g. feasibility studies, institutional/stakeholder analysis, political and economic analysis, information environment assessments, strategic environmental assessments, environmental impact assessments, climate risk assessments, intervention logic and logical framework approach/theory of change, economic analysis, data collection and analysis, performance measurement and indicators, monitoring and evaluation systems). This must also include mainstreaming of crosscutting issues (climate change, environment, resilience, youth, gender, rights of citizens in third countries, disabilities and more broadly rights based approach), analysis of legislation, regulations and law enforcement, legislative gap analysis, etc.', '— policy-related analysis (e.g. gender analysis, religious dynamics assessments, disinformation analysis) and design. This must also include mainstreaming of crosscutting issues.', '— monitoring and evaluation and related training (e.g. project cycle management training, mid-term, final and ex-post, impact evaluations).', 'An organigramme of the individual tenderer or, if the application is submitted by a consortium, an organigramme of the leader of the consortium and a list of staff shall be annexed to the application (the list of the staff will include the name and position of the employee) as documentary proof to meet this selection criterion.', '3) Technical capacity (based on items 5 and 6 of the application form). The reference period which will be taken into account will be the last 5 years from submission deadline.', 'The candidate has worked on at least 15 projects (with a budget above 100 000 EUR each, of which at least 50 % has been implemented by one or several members of the consortium, based on section 6 of the application form) in providing technical inputs and by assisting in carrying out analysis, studies, evaluations and providing opinions and advice.', 'The candidate must provide a list of at least 15 references that conform to the description below. The candidate should include no more than 30 references and any extra references will not be taken into account.', 'a) The referenced services and expertise shall cover at least 2 thirds (i.e. at least 15) of the following fields:', '1) Environment, natural resources, biodiversity and sustainable water management;', '2) Raw materials;', '3) Energy;', '4) Climate change;', '5) Smart, sustainable and green growth;', '6) Research, development and innovation;', '7) Industry and SMEs;', '8) Regulatory cooperation and standards harmonisation;', '9) Employment and social policy;', '10) Education and training;', '11) Judicial cooperation;', '12) Migration and mobility;', '13) Foreign policy/security;', '14) Disinformation and societal resilience', '15) Health and consumer safety;', '16) Digital;', '17) Economic and financial affairs;', '18) Transport;', '19) Governance, human rights and democracy;', '20) Maritime policy;', '21) Culture and creativity;', '22) Tourism;', '23) Citizens’ rights', '(b) at least 10 referenced projects must have been carried out in ten different industrialised and other high-income or middle-income countries and territories outside the EU(3)', 'For Lot 3:', '1) Economic and financial capacity of the individual tenderer or leader of a consortium submitting a tender (based on item 3 of the application form). In case of candidate being a public body, equivalent information should be provided. The reference period which will be taken into account will be the last 3 years for which accounts have been closed.', '— the average annual turnover of the candidate must exceed 10 000 000 EUR.', '2) Professional capacity (based on items 4 and 5 of the application form). The reference period which will be taken into account will be the last 3 years from submission deadline.', 'At least 20 members of permanent staff employed must currently be working in fields relating to:', '— technical assistance (feasibility studies, technical reports, baseline and benchmarking relevant for the policy dialogues) in the field of trade.', 'An organigramme of the individual tenderer or, if the application is submitted by a consortium, an organigramme of the leader of the consortium and a list of staff shall be annexed to the application (the list of the staff will include the name and position of the employee) as documentary proof to meet this selection criterion.', '3) Technical capacity (based on items 5 and 6 of the application form). The reference period which will be taken into account will be the last 5 years from submission deadline.', '3.1) The candidate has worked on at least 15 projects (with a budget above 50 000 EUR each, of which at least 50 % has been implemented by one or several members of the consortium, based on section 6 of the application form) in providing technical and administrative services in the field of trade and market access.', 'The candidate must provide a list of at least 20 references that conform to the description below. The candidate should include no more than 40 references and any extra references will not be taken into account.', '3.1.a) The referenced services and expertise shall cover all 22 of the following fields, of which a project may cover more than one field (each project and field covered should be indicated by the candidate):', '1) Customs and trade facilitation,', '2) Import formalities and requirements,', '3) Non-tariff barriers (NTBs),', '4) Technical-barriers to trade (TBTs),', '5) Investment,', '6) Services, either financial services or transport services', '7) Rules of origin and origin procedures,', '8) Intellectual property rights,', '9) Public procurement,', '10) Corporate social responsibility, gender and/or labour rights', '11) Sustainable development and/or environment,', '12) Sanitary and phytosanitary (SPS) measures,', '13) Agriculture and/or fisheries,', '14) competition policy,', '15) Anti-fraud,', '16) Energy and/or raw material,', '17) Telecommunications,', '18) Electronic commerce,', '19) Proceedings linked to WTO dispute settlements,', '20) Removal of market access barriers in third countries,', '21) Advocacy with third country governments and/or third country civil society organisations,', '22) Taxation issues.', '3.1.b) At least 10 referenced projects must have been carried out in ten different industrialised and other high-income or middle-income countries and territories outside the EU(4).', '3.2) The candidate has worked on at least 5 projects (with a budget above 100 000 EUR each, of which at least 50 % has been implemented by one or several members of the consortium, based on section 6 of the application form) in event management. Each project must have been implemented in a different location among the following (South Africa, China, Japan, South Korea, India, Canada, US, Brazil, Mexico, Russia).', 'Previous experience which caused breach of contract and termination by a Contracting Authority shall not be used as reference.', 'An economic operator may, where appropriate and for a particular contract, rely on the capacities of other entities, regardless of the legal nature of the links which it has with them. Some examples of when it may not be considered appropriate by the Contracting Authority are when the tender rely in majority on the capacities of other entities or when they rely on key criteria. If the tender relies on other entities it must prove to the Contracting Authority that it will have at its disposal the resources necessary for performance of the contract, for example by producing a commitment on the part of those entities to place those resources at its disposal. Such entities, for instance the parent company of the economic operator, must respect the same rules of eligibility — notably that of nationality – and must comply with the selection criteria for which the economic operator relies on them. Furthermore, the data for this third entity for the relevant selection criterion should be included in the tender in a separate document. Proof of the capacity will also have to be furnished when requested by the Contracting Authority.', 'With regard to technical and professional criteria, an economic operator may only rely on the capacities of other entities where the latter will perform the works or services for which these capacities are required.', 'With regard to economic and financial criteria, the entities upon whose capacity the tenderer relies, become jointly and severally liable for the performance of the contract.', 'If more than 8 eligible candidates meet the above selection criteria, the relative strengths and weaknesses of the applications of these candidates must be reexamined to identify the 8 best candidates. The only additional comparative criteria which will be taken into consideration during this re-examination, in the order that they appear below, are:', '1) The total number of reference projects found eligible under \"Technical capacity\" for each lot; and in case of equality on this criterion, then', '2) The value of the eligible part (the proportion carried out by the candidate participating either individually or in a grouping) of the projects found eligible under \"Technical capacity\" for each lot', 'N.B.: additional comparative Criterion 2) will be applied only if the number of eligible candidates remain higher than 8 after applying additional comparative criterion 1).', '(1) Public Diplomacy refers to the “process whereby a country or an entity seeks to build trust and understanding by engaging with a broader foreign public beyond the governmental relations that, customarily, have been the focus of diplomatic effort\", Preparatory Action: \"Culture in EU External Relations\", European Parliament resolution of 12.5.2011 on the cultural dimensions of the EU\\'s external actions.', '(2) http://intragate.ec.europa.eu/dg/devco/prag/annexes.do?annexName=A2a&lang=en notably annexes 7, 9 and 10', '(3) http://intragate.ec.europa.eu/dg/devco/prag/annexes.do?annexName=A2a&lang=en notably annexes 7, 9 and 10', '(4) http://intragate.ec.europa.eu/dg/devco/prag/annexes.do?annexName=A2a&lang=en notably annexes 7, 9 and 10'])]))]), OrderedDict([('@NO_SEQ', '002'), ('NO_MARK', '22.'), ('TI_MARK', 'Award criteria'), ('TXT_MARK', OrderedDict([('P', 'Best price-quality ratio.')]))])]\n",
      "\n",
      "5 odict_keys(['TI_GRSEQ', 'BLK_BTX_SEQ'])\n",
      "5 .1 APPLICATION\n",
      "5 .2 [OrderedDict([('@NO_SEQ', '001'), ('NO_MARK', '23.'), ('TI_MARK', 'Deadline for receipt of applications'), ('TXT_MARK', OrderedDict([('P', [\"The candidate's attention is drawn to the fact that there are 2 different systems for sending applications: one is by post or private mail service, or by hand delivery.\", 'In the first case, the application must be sent before the date and time limit for submission, as evidenced by the postmark or deposit slip(5), but in the second case it is the acknowledgment of receipt given at the time of the delivery of the application which will serve as proof.', 'Time 17:00 local time on 8.2.2019', 'Any application submitted to the Contracting Authority after this deadline will not be considered.', \"The Contracting Authority may, for reasons of administrative efficiency, reject any application submitted on time to the postal service but received, for any reason beyond the Contracting Authority's control, after the effective date of approval of the short-list report or of the evaluation report, if accepting applications that were submitted on time but arrived late would considerably delay the evaluation procedure(for instance when applications are received after the evaluation committee has finished its works and evaluating them would imply re-calling the evaluation committee) or jeopardise decisions already taken and notified.\"])]))]), OrderedDict([('@NO_SEQ', '002'), ('NO_MARK', '24.'), ('TI_MARK', 'Application format and details to be provided'), ('TXT_MARK', OrderedDict([('P', ['Applications must be submitted using the standard application form, the format and instructions of which must be strictly observed. The application form is available from the following internet address:', 'http://ec.europa.eu/europeaid/prag/annexes.do?chapterTitleCode=B', 'The application must be accompanied by a declaration of honour on exclusion and selection criteria using the template available from the following Internet address:', 'http://ec.europa.eu/europeaid/prag/annexes.do?chapterTitleCode=A', 'Any additional documentation (brochure, letter, etc.) sent with an application will not be taken into consideration.', '(5) It is recommended to use registered mail in case the postmark would not be readable.'])]))]), OrderedDict([('@NO_SEQ', '003'), ('NO_MARK', '25.'), ('TI_MARK', 'How applications may be submitted'), ('TXT_MARK', OrderedDict([('P', ['Applications must be submitted in English exclusively to the Contracting Authority in a sealed envelope:', '— either by post or by courier service, in which case the evidence shall be constituted by the postmark or the date of the deposit slip, to:', 'European Commission', 'Service for Foreign Policy Instruments', 'Unit FPI.1', 'Office EEAS/02/306', 'For the attention of Christian Meunier', 'B – 1049 Brussels', '— or hand delivered by the participant in person or by an agent directly to the premises of the contracting authority in return for a signed and dated receipt, in which case the evidence shall be constituted by this acknowledgement of receipt, to:', 'European Commission', 'Service for Foreign Policy Instruments', 'Unit FPI.1', 'Office EEAS/02/306', 'For the attention of Christian Meunier', 'Avenue du Bourget 1', 'B-1140 Brussels (Evere) Belgium', 'The contract title and the publication reference (see item 1 above) must be clearly marked on the envelope containing the application and must always be mentioned in all subsequent correspondence with the Contracting Authority.', 'Applications submitted by any other means will not be considered.', 'By submitting an application candidates accept to receive notification of the outcome of the procedure by electronic means. Such notification shall be deemed to have been received on the date upon which the contracting authority sends it to the electronic address referred to in the application.'])]))]), OrderedDict([('@NO_SEQ', '004'), ('NO_MARK', '26.'), ('TI_MARK', 'Alteration or withdrawal of applications'), ('TXT_MARK', OrderedDict([('P', ['Candidates may alter or withdraw their applications by written notification prior to the deadline for submission of applications. No application may be altered after this deadline.', 'Any such notification of alteration or withdrawal shall be prepared and submitted in accordance with Item 25. The outer envelope (and the relevant inner envelope if used) must be marked “Alteration” or “Withdrawal” as appropriate.'])]))]), OrderedDict([('@NO_SEQ', '005'), ('NO_MARK', '27.'), ('TI_MARK', 'Operational language'), ('TXT_MARK', OrderedDict([('P', 'All written communications for this tender procedure and contract must be in English.')]))]), OrderedDict([('@NO_SEQ', '006'), ('NO_MARK', '28.'), ('TI_MARK', 'Date of publication of prior information notice'), ('TXT_MARK', OrderedDict([('P', '23.11.2018 (OJ nr 2018/226)')]))]), OrderedDict([('@NO_SEQ', '007'), ('NO_MARK', '29.'), ('TI_MARK', 'Legal basis'), ('TXT_MARK', OrderedDict([('P', \"Regulation (EU) No. 236/2014 of the European Parliament and of the Council of 11.3.2014 laying down common rules and procedures for the implementation of the Union's instruments for financing external action; and Regulation (EU) No. 234/2014 of the European Parliament and of the Council of 11.3.2014 establishing a Partnership Instrument for cooperation with third countries — See Annex A2 of the practical guide.\")]))]), OrderedDict([('@NO_SEQ', '008'), ('NO_MARK', '30.'), ('TI_MARK', 'Additional information'), ('TXT_MARK', OrderedDict([('P', 'NA')]))])]\n",
      "\n"
     ]
    }
   ],
   "source": [
    "for ix, item in enumerate(doc['FORM_SECTION']['OTH_NOT'][EN_POS]['FD_OTH_NOT']['CONTENTS']['GR_SEQ']):\n",
    "    print(ix, item.keys())\n",
    "    print(ix,\".1\", item['TI_GRSEQ']['BLK_BTX'])\n",
    "    print(ix,\".2\", item['BLK_BTX_SEQ']['MARK_LIST']['MLI_OCCUR'])\n",
    "    print()"
   ]
  },
  {
   "cell_type": "code",
   "execution_count": 34,
   "metadata": {},
   "outputs": [
    {
     "name": "stdout",
     "output_type": "stream",
     "text": [
      "odict_keys(['TI_GRSEQ', 'BLK_BTX_SEQ'])\n",
      "None\n",
      "odict_keys(['MLI_OCCUR'])\n",
      "\n",
      "odict_keys(['TI_GRSEQ', 'BLK_BTX_SEQ'])\n",
      "CONTRACT SPECIFICATION\n",
      "odict_keys(['MLI_OCCUR'])\n",
      "\n",
      "odict_keys(['TI_GRSEQ', 'BLK_BTX_SEQ'])\n",
      "CONDITIONS OF PARTICIPATION\n",
      "odict_keys(['MLI_OCCUR'])\n",
      "\n",
      "odict_keys(['TI_GRSEQ', 'BLK_BTX_SEQ'])\n",
      "PROVISIONAL TIMETABLE\n",
      "odict_keys(['MLI_OCCUR'])\n",
      "\n",
      "odict_keys(['TI_GRSEQ', 'BLK_BTX_SEQ'])\n",
      "SELECTION AND AWARD CRITERIA\n",
      "odict_keys(['MLI_OCCUR'])\n",
      "\n",
      "odict_keys(['TI_GRSEQ', 'BLK_BTX_SEQ'])\n",
      "APPLICATION\n",
      "odict_keys(['MLI_OCCUR'])\n",
      "\n"
     ]
    }
   ],
   "source": [
    "for i, content in enumerate(doc['FORM_SECTION']['OTH_NOT'][EN_POS]['FD_OTH_NOT']['CONTENTS']['GR_SEQ']):\n",
    "    print(content.keys())\n",
    "    print(content['TI_GRSEQ']['BLK_BTX'])\n",
    "    print(content['BLK_BTX_SEQ']['MARK_LIST'].keys())\n",
    "    print()"
   ]
  },
  {
   "cell_type": "code",
   "execution_count": 35,
   "metadata": {
    "scrolled": false
   },
   "outputs": [
    {
     "name": "stdout",
     "output_type": "stream",
     "text": [
      ".\n",
      "Please note that the awarding of the contract is subject to the condition of:The prior adoption of a financing decision, which does not modify the elements of the procurement procedure (this will be the case, for instance, if the budget initially foreseen is different or if the timeframe, the nature or the condition of the implementation are altered). If the precedent condition is not met, the Contracting Authority will either abandon the procurement or cancel the award procedure without the candidates or tenderers being entitled to claim any compensation.\n",
      "----------\n",
      "Publication reference\n",
      "EuropeAid/139974/DH/SER/MULTI\n",
      "----------\n",
      "Procedure\n",
      "Restricted\n",
      "----------\n",
      "Programme title\n",
      "Partnership Instrument\n",
      "----------\n",
      "Financing\n",
      "Budget line 19 05 01\n",
      "----------\n",
      "Contracting Authority\n",
      "European Union, represented by the European Commission,, BELGIUMBrusselsClarifications may be sought from the Contracting Authority at the following email address FPITENDER-139974@ec.europa.eu at the latest 21 days before the deadline for submission of applications stated at the Point 23 below.Clarifications will be published on the website of DG International Cooperation and Development at the latest 5 days before the deadline as well as on the website of the service for Foreign Policy Instruments (FPI) https://ec.europa.eu/fpi/home_en at the latest 5 days before the deadline.\n",
      "Nature of contract\n",
      "Global price (Lot 1 and 3);Fee-based or global price (Lot 2).Multiple framework contract with reopened competition at the level of each assignment.\n",
      "----------\n",
      "Contract description\n",
      "This Framework Contract (FWC) provides expertise for the implementation of EU foreign policy pursuing EU or mutual interest. The objective of the FWC is to provide, via individual assignments defined and contracted through specific contracts, expertise that can be mobilised at short notice. The FWC will comprise the following lots:Lot 1) Public diplomacy, information outreach and organization of events: The objective is to provide support (both in terms of content and logistics, as appropriate and as defined in the specific terms of reference) in the fields of:(a) the organization of EU public diplomacy and outreach initiatives in third countries (in liaison with the local EU Delegations and/or EU HQ);(b) the design and delivery of information campaigns, including initiatives that aim at increasing societal resilience to disinformation; and(c) the organization of events such as conferences, seminars, open days, information days, information visits, international fora and symposia, participation at fairs and exhibitions.Lot 2) Technical assistance: expected to support and advise EU services (Headquarters and/or EU Delegations) by providing technical inputs and by assisting in carrying out analysis, studies and providing opinions and advice, including legal advice. To this end, Lot 2 should provide expertise related to:(a) analytical studies (e.g. feasibility studies, institutional/stakeholder analysis, political and economic analysis, intervention logic and logical framework approach/theory of change, economic analysis, data collection and analysis). This will also include mainstreaming of crosscutting issues (climate change, environment, resilience, disinformation, youth, gender, disabilities and more broadly rights based approach), analysis of legislation, regulations and law enforcement, legislative gap analysis;(b) policy-related analysis and design;(c) monitoring and evaluation and related training.Lot 3) Trade and market access: The objective of Lot 3 is to carry out technical assistance (feasibility studies, technical reports, baseline and benchmarking relevant for the policy dialogues) in the field of trade. The following specific objectives will be addressed:(a) increase business and trading opportunities for EU companies in third countries;(b) ensure that trade and investment agreements are negotiated based on solid information relating to partner countries’ market and legislation;(c) ensure proper enforcement and implementation of trade and investment agreements, including the provision of unilateral trade preferences and if necessary via technical assistance;(d) promote these agreements with business and other civil society organisations;(e) strengthen capacity for the implementation of Trade and Sustainable Development chapters, in particular labour provisions and the promotion of internationally recognised principles and guidelines of corporate social responsibility;(f) Support market access activities to ensure the removal of trade and investment barriers for EU business;(g) Reinforce Market Access Teams with the aim of contributing to the strategic EU objectives of strengthening the presence of EU companies in global markets and of improving the EU's capacity to tackle barriers that block trade and investment;(h) Contribute to the monitoring of the business related environment in key markets.\n",
      "----------\n",
      "Number and titles of lots\n",
      "Lot 1) Public diplomacy, information outreach and organization of events;Lot 2) Technical assistance;Lot 3) Trade and market access.\n",
      "----------\n",
      "Maximum budget\n",
      "Lot 1: 74 000 000 EURLot 2: 66 000 000 EURLot 3: 60 000 000 EUR\n",
      "----------\n",
      "Scope for additional services\n",
      "The Contracting Authority may, at its own discretion, increase the maximum budget of the framework contract not exceeding 100 % of the value of the initial framework contract. Any extension of the contract would be subject to satisfactory performance by the contractors.\n",
      "----------\n",
      "Eligibility\n",
      "Participation is open to all natural persons who are nationals of and legal persons (participating either individually or in a grouping – consortium – of tenderers) which are effectively established in a Member State of the European Union or in a eligible country or territory as defined under the Regulation (EU) No. 236/2014 establishing common rules and procedures for the implementation of the Union's instruments for external action (CIR) for the applicable instrumentUnder which the contract is financed (see also heading 29 below). Participation is also open to international organisations.Please be aware that after the United Kingdom's withdrawal from the EU, the rules of access to EU procurement procedures of economic operators established in third countries will apply to candidates or tenderers from the United Kingdom depending on the outcome of negotiations. In case such access is not provided by legal provisions in force at the time of contract award, candidates or tenderers from the United Kingdom could be rejected from the procurement procedure.\n",
      "----------\n",
      "Candidature\n",
      "All eligible natural and legal persons (as per item 11 above) or groupings of such persons (consortia) may apply.A consortium may be a permanent, legally-established grouping or a grouping which has been constituted informally for a specific tender procedure. All members of a consortium (i.e., the leader and all other members) are jointly and severally liable to the contracting authority.The participation of an ineligible natural or legal person (as per item 11) will result in the automatic exclusion of that person. In particular, if that ineligible person belongs to a consortium, the whole consortium will be excluded.\n",
      "----------\n",
      "Number of applications\n",
      "No more than one application per lot can be submitted by a natural or legal person whatever the form of participation (as an individual legal entity or as leader or member of a consortium submitting an application). In the event that a natural or legal person submits more than one application per lot, all applications in which that person has participated will be excluded.Candidates may submit an application for one lot only, several lots or all of the lots, but only one application per lot. Contracts will be awarded lot by lot and each lot will form a separate contract.\n",
      "----------\n",
      "Shortlist alliances prohibited\n",
      "Any tenders received from tenderers comprising firms other than those mentioned in the shortlisted application forms will be excluded from this restricted tender procedure unless prior approval from the contracting authority has been obtained (see practical guide – PRAG – 2.6.3.).Short-listed candidates may not form alliances or subcontract to each other for the contract in question.\n",
      "----------\n",
      "Grounds for exclusion\n",
      "As part of the application form, candidates must submit a signed declaration, included in the standard application form, to the effect that they are not in any of the exclusion situations listed in Section 2.6.10.1. of the PRAG.Candidates included in the lists of EU restrictive measures (see Section 2.4. of the PRAG) at the moment of the award decision cannot be awarded the contract.\n",
      "----------\n",
      "Sub-contracting\n",
      "Subcontracting is allowed.\n",
      "----------\n",
      "Number of candidates to be short-listed\n",
      "On the basis of the applications received, between 4 and 8 candidates will be invited to submit detailed tenders per each lot of this contract. If the number of eligible candidates meeting the selection criteria is less than the minimum of 4, the Contracting Authority may invite the candidates who satisfy the criteria to submit a tender.\n",
      "----------\n",
      "Provisional date of invitation to tender\n",
      "March 2019\n",
      "----------\n",
      "Provisional commencement date of the contract\n",
      "September 2019\n",
      "----------\n",
      "Initial period of implementation of tasks\n",
      "September 2019 — August 2021, with possible extension up to August 2023\n",
      "----------\n",
      "Selection criteria\n",
      "The following selection criteria will be applied to candidates. In the case of applications submitted by a consortium, these selection criteria will be applied to the consortium as a whole unless specified otherwise. The selection criteria will not be applied to natural persons and singlemember companies when they are sub-contractors.For Lot 1:1) Economic and financial capacity of the individual tenderer or leader of a consortium submitting a tender (based on item 3 of the application form). In case of candidate being a public body, equivalent information should be provided. The reference period which will be taken into account will be the last 3 years for which accounts have been closed.— the average annual turnover of the candidate must exceed 10 000 000 EUR.2) Professional capacity (based on items 4 and 5 of the application form). The reference period which will be taken into account will be the last 3 years from submission deadline.At least 20 members of permanent staff employed must currently be working in fields relating to one of the following areas (both areas to be covered):— public diplomacy, information environments and outreach initiatives in third countries,— organization of events such as conferences, seminars, open days, information days, information visits, international fora and symposia, participation at fairs and exhibitions.An organigramme of the individual tenderer or, if the application is submitted by a consortium, an organigramme of the leader of the consortium and a list of staff shall be annexed to the application (the list of the staff will include the name and position of the employee) as documentary proof to meet this selection criterion.3) Technical capacity (based on items 5 and 6 of the application form). The reference period which will be taken into account will be the last 5 years from submission deadline.The candidate has worked on at least 15 projects (with a budget above 300 000 EUR each, of which at least 50 % has been implemented by one or several members of the consortium, based on section 6 of the application form) in providing technical and administrative services in the field of public diplomacy and outreach.The candidate must provide a list of at least 15 references that conform to the description below. The candidate should include no more than 30 references and any extra references will not be taken into account.The referenced services and expertise shall cover:(a) at least 5 projects concerning public diplomacy(1), information environments and outreach initiatives such as round-tables, seminars, conferences, workshops, briefing sessions, webinars, visitors programmes/study visits, debate-based events, social-media and media awareness raising campaigns, side activities at the margin on EU-third countries bilateral summits, training sessions on specific EU policy areas (i.a. for policy makers, media, NGOs, civil society and academia), networking events (e.g. with alumni/beneficiaries of EU programmes), EU roadshows and fairs, modelling EU and competitions.(b) at least ten projects concerning the organization of events such as conferences, seminars, open days, information days, information visits, international fora and symposia, participation at international fairs and exhibitions.(c) at least ten referenced projects must have been carried out in 10 different industrialised and other high-income or middle-income countries and territories outside the EU(2).FOr Lot 2:1) Economic and financial capacity of the individual tenderer or leader of a consortium submitting a tender (based on item 3 of the application form). In case of candidate being a public body, equivalent information should be provided. The reference period which will be taken into account will be the last 3 years for which accounts have been closed.— the average annual turnover of the candidate must exceed 10 000 000 EUR.2) Professional capacity (based on items 4 and 5 of the application form). The reference period which will be taken into account will be the last 3 years from submission deadline.At least 20 members of permanent staff employed must currently be working in fields relating to one of the following areas (all areas to be covered):— analytical studies (e.g. feasibility studies, institutional/stakeholder analysis, political and economic analysis, information environment assessments, strategic environmental assessments, environmental impact assessments, climate risk assessments, intervention logic and logical framework approach/theory of change, economic analysis, data collection and analysis, performance measurement and indicators, monitoring and evaluation systems). This must also include mainstreaming of crosscutting issues (climate change, environment, resilience, youth, gender, rights of citizens in third countries, disabilities and more broadly rights based approach), analysis of legislation, regulations and law enforcement, legislative gap analysis, etc.— policy-related analysis (e.g. gender analysis, religious dynamics assessments, disinformation analysis) and design. This must also include mainstreaming of crosscutting issues.— monitoring and evaluation and related training (e.g. project cycle management training, mid-term, final and ex-post, impact evaluations).An organigramme of the individual tenderer or, if the application is submitted by a consortium, an organigramme of the leader of the consortium and a list of staff shall be annexed to the application (the list of the staff will include the name and position of the employee) as documentary proof to meet this selection criterion.3) Technical capacity (based on items 5 and 6 of the application form). The reference period which will be taken into account will be the last 5 years from submission deadline.The candidate has worked on at least 15 projects (with a budget above 100 000 EUR each, of which at least 50 % has been implemented by one or several members of the consortium, based on section 6 of the application form) in providing technical inputs and by assisting in carrying out analysis, studies, evaluations and providing opinions and advice.The candidate must provide a list of at least 15 references that conform to the description below. The candidate should include no more than 30 references and any extra references will not be taken into account.a) The referenced services and expertise shall cover at least 2 thirds (i.e. at least 15) of the following fields:1) Environment, natural resources, biodiversity and sustainable water management;2) Raw materials;3) Energy;4) Climate change;5) Smart, sustainable and green growth;6) Research, development and innovation;7) Industry and SMEs;8) Regulatory cooperation and standards harmonisation;9) Employment and social policy;10) Education and training;11) Judicial cooperation;12) Migration and mobility;13) Foreign policy/security;14) Disinformation and societal resilience15) Health and consumer safety;16) Digital;17) Economic and financial affairs;18) Transport;19) Governance, human rights and democracy;20) Maritime policy;21) Culture and creativity;22) Tourism;23) Citizens’ rights(b) at least 10 referenced projects must have been carried out in ten different industrialised and other high-income or middle-income countries and territories outside the EU(3)For Lot 3:1) Economic and financial capacity of the individual tenderer or leader of a consortium submitting a tender (based on item 3 of the application form). In case of candidate being a public body, equivalent information should be provided. The reference period which will be taken into account will be the last 3 years for which accounts have been closed.— the average annual turnover of the candidate must exceed 10 000 000 EUR.2) Professional capacity (based on items 4 and 5 of the application form). The reference period which will be taken into account will be the last 3 years from submission deadline.At least 20 members of permanent staff employed must currently be working in fields relating to:— technical assistance (feasibility studies, technical reports, baseline and benchmarking relevant for the policy dialogues) in the field of trade.An organigramme of the individual tenderer or, if the application is submitted by a consortium, an organigramme of the leader of the consortium and a list of staff shall be annexed to the application (the list of the staff will include the name and position of the employee) as documentary proof to meet this selection criterion.3) Technical capacity (based on items 5 and 6 of the application form). The reference period which will be taken into account will be the last 5 years from submission deadline.3.1) The candidate has worked on at least 15 projects (with a budget above 50 000 EUR each, of which at least 50 % has been implemented by one or several members of the consortium, based on section 6 of the application form) in providing technical and administrative services in the field of trade and market access.The candidate must provide a list of at least 20 references that conform to the description below. The candidate should include no more than 40 references and any extra references will not be taken into account.3.1.a) The referenced services and expertise shall cover all 22 of the following fields, of which a project may cover more than one field (each project and field covered should be indicated by the candidate):1) Customs and trade facilitation,2) Import formalities and requirements,3) Non-tariff barriers (NTBs),4) Technical-barriers to trade (TBTs),5) Investment,6) Services, either financial services or transport services7) Rules of origin and origin procedures,8) Intellectual property rights,9) Public procurement,10) Corporate social responsibility, gender and/or labour rights11) Sustainable development and/or environment,12) Sanitary and phytosanitary (SPS) measures,13) Agriculture and/or fisheries,14) competition policy,15) Anti-fraud,16) Energy and/or raw material,17) Telecommunications,18) Electronic commerce,19) Proceedings linked to WTO dispute settlements,20) Removal of market access barriers in third countries,21) Advocacy with third country governments and/or third country civil society organisations,22) Taxation issues.3.1.b) At least 10 referenced projects must have been carried out in ten different industrialised and other high-income or middle-income countries and territories outside the EU(4).3.2) The candidate has worked on at least 5 projects (with a budget above 100 000 EUR each, of which at least 50 % has been implemented by one or several members of the consortium, based on section 6 of the application form) in event management. Each project must have been implemented in a different location among the following (South Africa, China, Japan, South Korea, India, Canada, US, Brazil, Mexico, Russia).Previous experience which caused breach of contract and termination by a Contracting Authority shall not be used as reference.An economic operator may, where appropriate and for a particular contract, rely on the capacities of other entities, regardless of the legal nature of the links which it has with them. Some examples of when it may not be considered appropriate by the Contracting Authority are when the tender rely in majority on the capacities of other entities or when they rely on key criteria. If the tender relies on other entities it must prove to the Contracting Authority that it will have at its disposal the resources necessary for performance of the contract, for example by producing a commitment on the part of those entities to place those resources at its disposal. Such entities, for instance the parent company of the economic operator, must respect the same rules of eligibility — notably that of nationality – and must comply with the selection criteria for which the economic operator relies on them. Furthermore, the data for this third entity for the relevant selection criterion should be included in the tender in a separate document. Proof of the capacity will also have to be furnished when requested by the Contracting Authority.With regard to technical and professional criteria, an economic operator may only rely on the capacities of other entities where the latter will perform the works or services for which these capacities are required.With regard to economic and financial criteria, the entities upon whose capacity the tenderer relies, become jointly and severally liable for the performance of the contract.If more than 8 eligible candidates meet the above selection criteria, the relative strengths and weaknesses of the applications of these candidates must be reexamined to identify the 8 best candidates. The only additional comparative criteria which will be taken into consideration during this re-examination, in the order that they appear below, are:1) The total number of reference projects found eligible under \"Technical capacity\" for each lot; and in case of equality on this criterion, then2) The value of the eligible part (the proportion carried out by the candidate participating either individually or in a grouping) of the projects found eligible under \"Technical capacity\" for each lotN.B.: additional comparative Criterion 2) will be applied only if the number of eligible candidates remain higher than 8 after applying additional comparative criterion 1).(1) Public Diplomacy refers to the “process whereby a country or an entity seeks to build trust and understanding by engaging with a broader foreign public beyond the governmental relations that, customarily, have been the focus of diplomatic effort\", Preparatory Action: \"Culture in EU External Relations\", European Parliament resolution of 12.5.2011 on the cultural dimensions of the EU's external actions.(2) http://intragate.ec.europa.eu/dg/devco/prag/annexes.do?annexName=A2a&lang=en notably annexes 7, 9 and 10(3) http://intragate.ec.europa.eu/dg/devco/prag/annexes.do?annexName=A2a&lang=en notably annexes 7, 9 and 10(4) http://intragate.ec.europa.eu/dg/devco/prag/annexes.do?annexName=A2a&lang=en notably annexes 7, 9 and 10\n",
      "----------\n",
      "Award criteria\n",
      "Best price-quality ratio.\n",
      "----------\n",
      "Deadline for receipt of applications\n",
      "The candidate's attention is drawn to the fact that there are 2 different systems for sending applications: one is by post or private mail service, or by hand delivery.In the first case, the application must be sent before the date and time limit for submission, as evidenced by the postmark or deposit slip(5), but in the second case it is the acknowledgment of receipt given at the time of the delivery of the application which will serve as proof.Time 17:00 local time on 8.2.2019Any application submitted to the Contracting Authority after this deadline will not be considered.The Contracting Authority may, for reasons of administrative efficiency, reject any application submitted on time to the postal service but received, for any reason beyond the Contracting Authority's control, after the effective date of approval of the short-list report or of the evaluation report, if accepting applications that were submitted on time but arrived late would considerably delay the evaluation procedure(for instance when applications are received after the evaluation committee has finished its works and evaluating them would imply re-calling the evaluation committee) or jeopardise decisions already taken and notified.\n",
      "----------\n",
      "Application format and details to be provided\n",
      "Applications must be submitted using the standard application form, the format and instructions of which must be strictly observed. The application form is available from the following internet address:http://ec.europa.eu/europeaid/prag/annexes.do?chapterTitleCode=BThe application must be accompanied by a declaration of honour on exclusion and selection criteria using the template available from the following Internet address:http://ec.europa.eu/europeaid/prag/annexes.do?chapterTitleCode=AAny additional documentation (brochure, letter, etc.) sent with an application will not be taken into consideration.(5) It is recommended to use registered mail in case the postmark would not be readable.\n",
      "----------\n",
      "How applications may be submitted\n",
      "Applications must be submitted in English exclusively to the Contracting Authority in a sealed envelope:— either by post or by courier service, in which case the evidence shall be constituted by the postmark or the date of the deposit slip, to:European CommissionService for Foreign Policy InstrumentsUnit FPI.1Office EEAS/02/306For the attention of Christian MeunierB – 1049 Brussels— or hand delivered by the participant in person or by an agent directly to the premises of the contracting authority in return for a signed and dated receipt, in which case the evidence shall be constituted by this acknowledgement of receipt, to:European CommissionService for Foreign Policy InstrumentsUnit FPI.1Office EEAS/02/306For the attention of Christian MeunierAvenue du Bourget 1B-1140 Brussels (Evere) BelgiumThe contract title and the publication reference (see item 1 above) must be clearly marked on the envelope containing the application and must always be mentioned in all subsequent correspondence with the Contracting Authority.Applications submitted by any other means will not be considered.By submitting an application candidates accept to receive notification of the outcome of the procedure by electronic means. Such notification shall be deemed to have been received on the date upon which the contracting authority sends it to the electronic address referred to in the application.\n",
      "----------\n",
      "Alteration or withdrawal of applications\n",
      "Candidates may alter or withdraw their applications by written notification prior to the deadline for submission of applications. No application may be altered after this deadline.Any such notification of alteration or withdrawal shall be prepared and submitted in accordance with Item 25. The outer envelope (and the relevant inner envelope if used) must be marked “Alteration” or “Withdrawal” as appropriate.\n",
      "----------\n",
      "Operational language\n",
      "All written communications for this tender procedure and contract must be in English.\n",
      "----------\n",
      "Date of publication of prior information notice\n",
      "23.11.2018 (OJ nr 2018/226)\n",
      "----------\n",
      "Legal basis\n",
      "Regulation (EU) No. 236/2014 of the European Parliament and of the Council of 11.3.2014 laying down common rules and procedures for the implementation of the Union's instruments for financing external action; and Regulation (EU) No. 234/2014 of the European Parliament and of the Council of 11.3.2014 establishing a Partnership Instrument for cooperation with third countries — See Annex A2 of the practical guide.\n",
      "----------\n",
      "Additional information\n",
      "NA\n",
      "----------\n"
     ]
    }
   ],
   "source": [
    "for content in doc['FORM_SECTION']['OTH_NOT'][EN_POS]['FD_OTH_NOT']['CONTENTS']['GR_SEQ']:\n",
    "    for each in content['BLK_BTX_SEQ']['MARK_LIST']['MLI_OCCUR']:\n",
    "        print(each['TI_MARK'])\n",
    "        if each['TI_MARK'] == 'Contracting Authority':\n",
    "            text = []\n",
    "            for element in each['TXT_MARK']['P']:\n",
    "                if isinstance(element, dict):\n",
    "                    for k, val in element.items():\n",
    "                        if isinstance(val, dict):\n",
    "                            for v in list(val.values()):\n",
    "                                if isinstance(v, list):\n",
    "                                    text.append(''.join(v))\n",
    "                                else:\n",
    "                                    text.append(v)\n",
    "                        else:\n",
    "                            text.append(v)\n",
    "                elif isinstance(element, list):\n",
    "                    for l in element:\n",
    "                        text.append(l)\n",
    "                else:\n",
    "                    text.append(element)\n",
    "            print(''.join(text))\n",
    "        else:\n",
    "            print(''.join(each['TXT_MARK']['P']))\n",
    "            print('-'*10)\n"
   ]
  },
  {
   "cell_type": "markdown",
   "metadata": {},
   "source": [
    "# Exploration"
   ]
  },
  {
   "cell_type": "code",
   "execution_count": 31,
   "metadata": {},
   "outputs": [],
   "source": [
    "import os\n",
    "directory = 'FTP_Data/2019/2019-01/20190102_001/'\n",
    "\n",
    "uniq_types = []\n",
    "doct_type, contract_nature, procedure = [], [], []\n",
    "\n",
    "for filename in os.listdir(directory):\n",
    "    if filename.endswith(\".xml\"):\n",
    "        with open(os.path.join(directory, filename), encoding='utf8') as f:\n",
    "            doc2 = xmltodict.parse(f.read())['TED_EXPORT']\n",
    "#         print('File: ', filename)\n",
    "#         print('Doc Type: ', doc2['CODED_DATA_SECTION']['CODIF_DATA']['TD_DOCUMENT_TYPE']['#text'])\n",
    "#         print('Contract Nature: ', doc2['CODED_DATA_SECTION']['CODIF_DATA']['NC_CONTRACT_NATURE']['#text'])\n",
    "#         print('Procedure: ', doc2['CODED_DATA_SECTION']['CODIF_DATA']['PR_PROC']['#text'])\n",
    "#         print('-'*15)\n",
    "        \n",
    "        if doc2['CODED_DATA_SECTION']['CODIF_DATA']['NC_CONTRACT_NATURE']['#text'] == 'Services':\n",
    "    \n",
    "            if doc2['CODED_DATA_SECTION']['CODIF_DATA']['TD_DOCUMENT_TYPE']['#text'] not in doct_type:\n",
    "                doct_type.append(doc2['CODED_DATA_SECTION']['CODIF_DATA']['TD_DOCUMENT_TYPE']['#text'])\n",
    "\n",
    "            if doc2['CODED_DATA_SECTION']['CODIF_DATA']['NC_CONTRACT_NATURE']['#text'] not in contract_nature:\n",
    "                contract_nature.append(doc2['CODED_DATA_SECTION']['CODIF_DATA']['NC_CONTRACT_NATURE']['#text'])\n",
    "\n",
    "            if doc2['CODED_DATA_SECTION']['CODIF_DATA']['PR_PROC']['#text'] not in procedure:\n",
    "                procedure.append(doc2['CODED_DATA_SECTION']['CODIF_DATA']['PR_PROC']['#text'])\n",
    "\n",
    "            item = doc2['CODED_DATA_SECTION']['CODIF_DATA']['TD_DOCUMENT_TYPE']['#text'] + \" \" + doc2['CODED_DATA_SECTION']['CODIF_DATA']['NC_CONTRACT_NATURE']['#text'] + \" \" + doc2['CODED_DATA_SECTION']['CODIF_DATA']['PR_PROC']['#text']\n",
    "            if item not in uniq_types:\n",
    "                uniq_types.append(item)\n",
    "            \n",
    "# print(uniq_types)"
   ]
  },
  {
   "cell_type": "code",
   "execution_count": 32,
   "metadata": {},
   "outputs": [
    {
     "data": {
      "text/plain": [
       "33"
      ]
     },
     "execution_count": 32,
     "metadata": {},
     "output_type": "execute_result"
    }
   ],
   "source": [
    "len(uniq_types)"
   ]
  },
  {
   "cell_type": "code",
   "execution_count": 33,
   "metadata": {},
   "outputs": [
    {
     "data": {
      "text/plain": [
       "(12, 1, 12)"
      ]
     },
     "execution_count": 33,
     "metadata": {},
     "output_type": "execute_result"
    }
   ],
   "source": [
    "len(doct_type), len(contract_nature), len(procedure)"
   ]
  },
  {
   "cell_type": "code",
   "execution_count": 34,
   "metadata": {},
   "outputs": [
    {
     "data": {
      "text/plain": [
       "['Contract notice',\n",
       " 'Contract award notice',\n",
       " 'Additional information',\n",
       " 'Prior information notice without call for competition',\n",
       " 'Buyer profile',\n",
       " 'Design contest',\n",
       " 'Results of design contests',\n",
       " 'Voluntary ex ante transparency notice',\n",
       " 'Modification of a contract/concession during its term',\n",
       " 'Services concession',\n",
       " 'Concession award notice',\n",
       " 'Dynamic purchasing system']"
      ]
     },
     "execution_count": 34,
     "metadata": {},
     "output_type": "execute_result"
    }
   ],
   "source": [
    "doct_type"
   ]
  },
  {
   "cell_type": "code",
   "execution_count": 35,
   "metadata": {},
   "outputs": [
    {
     "data": {
      "text/plain": [
       "['Services']"
      ]
     },
     "execution_count": 35,
     "metadata": {},
     "output_type": "execute_result"
    }
   ],
   "source": [
    "contract_nature"
   ]
  },
  {
   "cell_type": "code",
   "execution_count": 36,
   "metadata": {},
   "outputs": [
    {
     "data": {
      "text/plain": [
       "['Open procedure',\n",
       " 'Restricted procedure',\n",
       " 'Not applicable',\n",
       " 'Competitive procedure with negotiation',\n",
       " 'Competitive dialogue',\n",
       " 'Negotiated without a prior call for competition',\n",
       " 'Contract award without prior publication',\n",
       " 'Negotiated procedure',\n",
       " 'Not specified',\n",
       " 'Concession award procedure',\n",
       " 'Concession award without prior concession notice',\n",
       " 'Direct award']"
      ]
     },
     "execution_count": 36,
     "metadata": {},
     "output_type": "execute_result"
    }
   ],
   "source": [
    "procedure"
   ]
  },
  {
   "cell_type": "code",
   "execution_count": 37,
   "metadata": {},
   "outputs": [
    {
     "data": {
      "text/plain": [
       "['Contract notice Services Open procedure',\n",
       " 'Contract award notice Services Open procedure',\n",
       " 'Additional information Services Restricted procedure',\n",
       " 'Prior information notice without call for competition Services Not applicable',\n",
       " 'Contract notice Services Restricted procedure',\n",
       " 'Contract award notice Services Restricted procedure',\n",
       " 'Contract notice Services Competitive procedure with negotiation',\n",
       " 'Contract notice Services Competitive dialogue',\n",
       " 'Contract award notice Services Competitive procedure with negotiation',\n",
       " 'Contract award notice Services Negotiated without a prior call for competition',\n",
       " 'Contract award notice Services Contract award without prior publication',\n",
       " 'Buyer profile Services Not applicable',\n",
       " 'Design contest Services Open procedure',\n",
       " 'Results of design contests Services Restricted procedure',\n",
       " 'Additional information Services Open procedure',\n",
       " 'Voluntary ex ante transparency notice Services Contract award without prior publication',\n",
       " 'Voluntary ex ante transparency notice Services Negotiated without a prior call for competition',\n",
       " 'Modification of a contract/concession during its term Services Open procedure',\n",
       " 'Modification of a contract/concession during its term Services Not applicable',\n",
       " 'Modification of a contract/concession during its term Services Negotiated procedure',\n",
       " 'Contract award notice Services Not specified',\n",
       " 'Contract notice Services Negotiated procedure',\n",
       " 'Contract award notice Services Negotiated procedure',\n",
       " 'Additional information Services Negotiated procedure',\n",
       " 'Additional information Services Concession award procedure',\n",
       " 'Services concession Services Concession award procedure',\n",
       " 'Concession award notice Services Concession award procedure',\n",
       " 'Concession award notice Services Concession award without prior concession notice',\n",
       " 'Prior information notice without call for competition Services Direct award',\n",
       " 'Prior information notice without call for competition Services Not specified',\n",
       " 'Contract award notice Services Not applicable',\n",
       " 'Results of design contests Services Not applicable',\n",
       " 'Dynamic purchasing system Services Open procedure']"
      ]
     },
     "execution_count": 37,
     "metadata": {},
     "output_type": "execute_result"
    }
   ],
   "source": [
    "uniq_types"
   ]
  },
  {
   "cell_type": "code",
   "execution_count": null,
   "metadata": {},
   "outputs": [],
   "source": []
  },
  {
   "cell_type": "code",
   "execution_count": null,
   "metadata": {},
   "outputs": [],
   "source": []
  }
 ],
 "metadata": {
  "kernelspec": {
   "display_name": "Python 3",
   "language": "python",
   "name": "python3"
  },
  "language_info": {
   "codemirror_mode": {
    "name": "ipython",
    "version": 3
   },
   "file_extension": ".py",
   "mimetype": "text/x-python",
   "name": "python",
   "nbconvert_exporter": "python",
   "pygments_lexer": "ipython3",
   "version": "3.7.4"
  }
 },
 "nbformat": 4,
 "nbformat_minor": 2
}
